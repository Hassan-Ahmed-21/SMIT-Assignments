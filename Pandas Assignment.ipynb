{
 "cells": [
  {
   "cell_type": "markdown",
   "id": "79f3b2b0-6c04-474e-9c0e-ffcf97b5fb66",
   "metadata": {},
   "source": [
    "1. Load and Display Data → Read the dataset and print the first 5 rows. "
   ]
  },
  {
   "cell_type": "code",
   "execution_count": 1,
   "id": "a2ee0a5d-a083-49b9-bcd4-6a6a38439b49",
   "metadata": {},
   "outputs": [
    {
     "name": "stdout",
     "output_type": "stream",
     "text": [
      "   Unnamed: 0 Country/Region  Confirmed Deaths  Recovered  Active  New cases  \\\n",
      "0           0    Afghanistan      36263   1269      25198    9796      106.0   \n",
      "1           1        Albania       4880    144       2745    1991      117.0   \n",
      "2           2        Algeria      27973   1163      18837    7973      616.0   \n",
      "3           3        Andorra        907     52        803      52       10.0   \n",
      "4           4         Angola        950     41        242     667       18.0   \n",
      "\n",
      "   New deaths  New recovered  Deaths / 100 Cases  Recovered / 100 Cases  \\\n",
      "0        10.0             18                3.50                  69.49   \n",
      "1         6.0             63                2.95                  56.25   \n",
      "2         8.0            749                4.16                  67.34   \n",
      "3         0.0              0                5.73                  88.53   \n",
      "4         1.0              0                4.32                  25.47   \n",
      "\n",
      "   Deaths / 100 Recovered  Confirmed last week  1 week change  \\\n",
      "0                    5.04                35526            737   \n",
      "1                    5.25                 4171            709   \n",
      "2                    6.17                23691           4282   \n",
      "3                    6.48                  884             23   \n",
      "4                   16.94                  749            201   \n",
      "\n",
      "   1 week % increase             WHO Region  \n",
      "0               2.07  Eastern Mediterranean  \n",
      "1              17.00                 Europe  \n",
      "2              18.07                 Africa  \n",
      "3               2.60                 Europe  \n",
      "4              26.84                 Africa  \n"
     ]
    }
   ],
   "source": [
    "import pandas as pd\n",
    "df = pd.read_csv(\"covid_19_country_wise_latest.csv\")  # or pd.read_excel(filepath), etc.\n",
    "print(df.head())"
   ]
  },
  {
   "cell_type": "markdown",
   "id": "e4bbe052-c86e-4bc8-b041-1924556fb1dc",
   "metadata": {},
   "source": [
    "2. Set the Dataset index is Unnamed: 0 "
   ]
  },
  {
   "cell_type": "code",
   "execution_count": 2,
   "id": "3616ba95-ed59-4278-9e3a-def5f10e2c47",
   "metadata": {},
   "outputs": [
    {
     "name": "stdout",
     "output_type": "stream",
     "text": [
      "  Country/Region  Confirmed Deaths  Recovered  Active  New cases  New deaths  \\\n",
      "0    Afghanistan      36263   1269      25198    9796      106.0        10.0   \n",
      "1        Albania       4880    144       2745    1991      117.0         6.0   \n",
      "2        Algeria      27973   1163      18837    7973      616.0         8.0   \n",
      "3        Andorra        907     52        803      52       10.0         0.0   \n",
      "4         Angola        950     41        242     667       18.0         1.0   \n",
      "\n",
      "   New recovered  Deaths / 100 Cases  Recovered / 100 Cases  \\\n",
      "0             18                3.50                  69.49   \n",
      "1             63                2.95                  56.25   \n",
      "2            749                4.16                  67.34   \n",
      "3              0                5.73                  88.53   \n",
      "4              0                4.32                  25.47   \n",
      "\n",
      "   Deaths / 100 Recovered  Confirmed last week  1 week change  \\\n",
      "0                    5.04                35526            737   \n",
      "1                    5.25                 4171            709   \n",
      "2                    6.17                23691           4282   \n",
      "3                    6.48                  884             23   \n",
      "4                   16.94                  749            201   \n",
      "\n",
      "   1 week % increase             WHO Region  \n",
      "0               2.07  Eastern Mediterranean  \n",
      "1              17.00                 Europe  \n",
      "2              18.07                 Africa  \n",
      "3               2.60                 Europe  \n",
      "4              26.84                 Africa  \n"
     ]
    }
   ],
   "source": [
    "df = pd.read_csv(\"covid_19_country_wise_latest.csv\", index_col=0)\n",
    "print(df.head())\n"
   ]
  },
  {
   "cell_type": "markdown",
   "id": "bc896efb-05a5-4731-b778-2c10fa177fc8",
   "metadata": {},
   "source": [
    "3. Now replace the index column Unnamed: 0 name with index "
   ]
  },
  {
   "cell_type": "code",
   "execution_count": 3,
   "id": "d3424b3f-e3b4-4c42-a74d-4ac4a0666168",
   "metadata": {},
   "outputs": [
    {
     "name": "stdout",
     "output_type": "stream",
     "text": [
      "      Country/Region  Confirmed Deaths  Recovered  Active  New cases  \\\n",
      "index                                                                  \n",
      "0        Afghanistan      36263   1269      25198    9796      106.0   \n",
      "1            Albania       4880    144       2745    1991      117.0   \n",
      "2            Algeria      27973   1163      18837    7973      616.0   \n",
      "3            Andorra        907     52        803      52       10.0   \n",
      "4             Angola        950     41        242     667       18.0   \n",
      "\n",
      "       New deaths  New recovered  Deaths / 100 Cases  Recovered / 100 Cases  \\\n",
      "index                                                                         \n",
      "0            10.0             18                3.50                  69.49   \n",
      "1             6.0             63                2.95                  56.25   \n",
      "2             8.0            749                4.16                  67.34   \n",
      "3             0.0              0                5.73                  88.53   \n",
      "4             1.0              0                4.32                  25.47   \n",
      "\n",
      "       Deaths / 100 Recovered  Confirmed last week  1 week change  \\\n",
      "index                                                               \n",
      "0                        5.04                35526            737   \n",
      "1                        5.25                 4171            709   \n",
      "2                        6.17                23691           4282   \n",
      "3                        6.48                  884             23   \n",
      "4                       16.94                  749            201   \n",
      "\n",
      "       1 week % increase             WHO Region  \n",
      "index                                            \n",
      "0                   2.07  Eastern Mediterranean  \n",
      "1                  17.00                 Europe  \n",
      "2                  18.07                 Africa  \n",
      "3                   2.60                 Europe  \n",
      "4                  26.84                 Africa  \n"
     ]
    }
   ],
   "source": [
    "df.index.name = \"index\"\n",
    "print(df.head())"
   ]
  },
  {
   "cell_type": "markdown",
   "id": "10b519b9-cfa9-4864-b27e-240b6d44984f",
   "metadata": {},
   "source": [
    "4. Create Function that take dataset columns and replace whitespace with Underscore and update dataset automatically and the pass the dataset."
   ]
  },
  {
   "cell_type": "code",
   "execution_count": 4,
   "id": "b95db123-3dd2-434c-8a55-18b45e50ee45",
   "metadata": {},
   "outputs": [
    {
     "data": {
      "text/plain": [
       "Index(['Country/Region', 'Confirmed', 'Deaths', 'Recovered', 'Active',\n",
       "       'New_cases', 'New_deaths', 'New_recovered', 'Deaths_/_100_Cases',\n",
       "       'Recovered_/_100_Cases', 'Deaths_/_100_Recovered',\n",
       "       'Confirmed_last_week', '1_week_change', '1_week_%_increase',\n",
       "       'WHO_Region'],\n",
       "      dtype='object')"
      ]
     },
     "execution_count": 4,
     "metadata": {},
     "output_type": "execute_result"
    }
   ],
   "source": [
    "# Function to replace whitespace with underscores in column names\n",
    "def clean_column_names(df):\n",
    "    df.columns = df.columns.str.replace(' ', '_')\n",
    "    return df\n",
    "\n",
    "# Apply function to clean column names\n",
    "df = clean_column_names(df)\n",
    "\n",
    "# Display updated column names\n",
    "df.columns\n"
   ]
  },
  {
   "cell_type": "markdown",
   "id": "b46c33bc-507b-4717-bf38-25ab1d0ac5ea",
   "metadata": {},
   "source": [
    "5. Check Basic Information → Find column names, data types, and missing values."
   ]
  },
  {
   "cell_type": "code",
   "execution_count": 5,
   "id": "e1dd794a-d491-4b00-b789-3102772a1664",
   "metadata": {},
   "outputs": [
    {
     "name": "stdout",
     "output_type": "stream",
     "text": [
      "<class 'pandas.core.frame.DataFrame'>\n",
      "Index: 187 entries, 0 to 186\n",
      "Data columns (total 15 columns):\n",
      " #   Column                  Non-Null Count  Dtype  \n",
      "---  ------                  --------------  -----  \n",
      " 0   Country/Region          187 non-null    object \n",
      " 1   Confirmed               187 non-null    int64  \n",
      " 2   Deaths                  187 non-null    object \n",
      " 3   Recovered               187 non-null    int64  \n",
      " 4   Active                  187 non-null    int64  \n",
      " 5   New_cases               177 non-null    float64\n",
      " 6   New_deaths              177 non-null    float64\n",
      " 7   New_recovered           187 non-null    int64  \n",
      " 8   Deaths_/_100_Cases      187 non-null    float64\n",
      " 9   Recovered_/_100_Cases   187 non-null    float64\n",
      " 10  Deaths_/_100_Recovered  187 non-null    float64\n",
      " 11  Confirmed_last_week     187 non-null    int64  \n",
      " 12  1_week_change           187 non-null    int64  \n",
      " 13  1_week_%_increase       187 non-null    float64\n",
      " 14  WHO_Region              187 non-null    object \n",
      "dtypes: float64(6), int64(6), object(3)\n",
      "memory usage: 23.4+ KB\n"
     ]
    },
    {
     "data": {
      "text/plain": [
       "Country/Region             0\n",
       "Confirmed                  0\n",
       "Deaths                     0\n",
       "Recovered                  0\n",
       "Active                     0\n",
       "New_cases                 10\n",
       "New_deaths                10\n",
       "New_recovered              0\n",
       "Deaths_/_100_Cases         0\n",
       "Recovered_/_100_Cases      0\n",
       "Deaths_/_100_Recovered     0\n",
       "Confirmed_last_week        0\n",
       "1_week_change              0\n",
       "1_week_%_increase          0\n",
       "WHO_Region                 0\n",
       "dtype: int64"
      ]
     },
     "execution_count": 5,
     "metadata": {},
     "output_type": "execute_result"
    }
   ],
   "source": [
    "# Display basic information about the dataset\n",
    "df.info()\n",
    "\n",
    "# Check for missing values\n",
    "missing_values = df.isnull().sum()\n",
    "missing_values\n"
   ]
  },
  {
   "cell_type": "markdown",
   "id": "5a7b3d48-20cd-4626-bb9d-e732e3704ee4",
   "metadata": {},
   "source": [
    "6. fill the nan values with the mean of the column "
   ]
  },
  {
   "cell_type": "code",
   "execution_count": 6,
   "id": "e942bdee-8b9e-4b88-a5b4-ea9a1f685f17",
   "metadata": {},
   "outputs": [
    {
     "data": {
      "text/plain": [
       "Country/Region            0\n",
       "Confirmed                 0\n",
       "Deaths                    0\n",
       "Recovered                 0\n",
       "Active                    0\n",
       "New_cases                 0\n",
       "New_deaths                0\n",
       "New_recovered             0\n",
       "Deaths_/_100_Cases        0\n",
       "Recovered_/_100_Cases     0\n",
       "Deaths_/_100_Recovered    0\n",
       "Confirmed_last_week       0\n",
       "1_week_change             0\n",
       "1_week_%_increase         0\n",
       "WHO_Region                0\n",
       "dtype: int64"
      ]
     },
     "execution_count": 6,
     "metadata": {},
     "output_type": "execute_result"
    }
   ],
   "source": [
    "df.fillna(df.mean(numeric_only=True), inplace=True)\n",
    "df.isnull().sum()\n"
   ]
  },
  {
   "cell_type": "markdown",
   "id": "beddc31b-56c8-4f2a-94b7-59141572069f",
   "metadata": {},
   "source": [
    "7. Count the number of unique countries in the dataset."
   ]
  },
  {
   "cell_type": "code",
   "execution_count": 7,
   "id": "d7873ee5-41f9-48af-a5c7-a90691fdc42d",
   "metadata": {},
   "outputs": [
    {
     "data": {
      "text/plain": [
       "187"
      ]
     },
     "execution_count": 7,
     "metadata": {},
     "output_type": "execute_result"
    }
   ],
   "source": [
    "unique_countries = df['Country/Region'].nunique()\n",
    "unique_countries"
   ]
  },
  {
   "cell_type": "markdown",
   "id": "3c9f25e1-ec85-4879-b827-354b9548f9a5",
   "metadata": {},
   "source": [
    "8. Check if there are any duplicate country entries and remove them if needed. "
   ]
  },
  {
   "cell_type": "code",
   "execution_count": 8,
   "id": "de447466-b2d0-4773-aaab-ec66b755f187",
   "metadata": {},
   "outputs": [
    {
     "data": {
      "text/plain": [
       "(np.int64(0), 187)"
      ]
     },
     "execution_count": 8,
     "metadata": {},
     "output_type": "execute_result"
    }
   ],
   "source": [
    "duplicate_countries = df.duplicated(subset=['Country/Region']).sum()\n",
    "df.drop_duplicates(subset=['Country/Region'], keep='first', inplace=True)\n",
    "updated_unique_countries = df['Country/Region'].nunique()\n",
    "duplicate_countries, updated_unique_countries"
   ]
  },
  {
   "cell_type": "markdown",
   "id": "f87b33ea-5014-4b4d-838d-0a669062c7c3",
   "metadata": {},
   "source": [
    "9. Find the mean, median, and standard deviation of total cases. "
   ]
  },
  {
   "cell_type": "code",
   "execution_count": 9,
   "id": "4745bd47-ef04-4ceb-ab8a-3968d17d1064",
   "metadata": {},
   "outputs": [
    {
     "data": {
      "text/plain": [
       "(np.float64(88130.935828877),\n",
       " np.float64(5059.0),\n",
       " np.float64(383318.6638306154))"
      ]
     },
     "execution_count": 9,
     "metadata": {},
     "output_type": "execute_result"
    }
   ],
   "source": [
    "total_cases_mean = df['Confirmed'].mean()\n",
    "total_cases_median = df['Confirmed'].median()\n",
    "total_cases_std = df['Confirmed'].std()\n",
    "total_cases_mean, total_cases_median, total_cases_std"
   ]
  },
  {
   "cell_type": "markdown",
   "id": "f7461586-02e0-41fc-bab3-c17dc374aa8b",
   "metadata": {},
   "source": [
    "10. Find out the string in Deaths Column and replace it with the mean of Deaths column. "
   ]
  },
  {
   "cell_type": "code",
   "execution_count": 10,
   "id": "6e89b5bc-a147-4587-ac74-c1409c9535e5",
   "metadata": {},
   "outputs": [
    {
     "data": {
      "text/plain": [
       "dtype('float64')"
      ]
     },
     "execution_count": 10,
     "metadata": {},
     "output_type": "execute_result"
    }
   ],
   "source": [
    "df['Deaths'] = pd.to_numeric(df['Deaths'], errors='coerce')\n",
    "df['Deaths'].fillna(df['Deaths'].mean())\n",
    "df['Deaths'].dtype"
   ]
  },
  {
   "cell_type": "markdown",
   "id": "e0777ad7-87c0-4db1-8ad1-146a9740445f",
   "metadata": {},
   "source": [
    "11. Change the datatype of column Deaths "
   ]
  },
  {
   "cell_type": "markdown",
   "id": "92ccf847-d47e-4623-bab4-691e9cda8ed6",
   "metadata": {},
   "source": [
    "12. Calculate total number of Death and Recovery all over the world"
   ]
  },
  {
   "cell_type": "code",
   "execution_count": 11,
   "id": "a1b45980-fcda-4e5d-bc99-17dc3819daca",
   "metadata": {},
   "outputs": [
    {
     "data": {
      "text/plain": [
       "(np.float64(654000.0), np.int64(9468087))"
      ]
     },
     "execution_count": 11,
     "metadata": {},
     "output_type": "execute_result"
    }
   ],
   "source": [
    "total_deaths = df['Deaths'].sum()\n",
    "total_recoveries = df['Recovered'].sum()\n",
    "total_deaths, total_recoveries"
   ]
  },
  {
   "cell_type": "markdown",
   "id": "80a04f1f-6395-40c0-95c3-6e59804e0031",
   "metadata": {},
   "source": [
    "13. How many countries have more than 1 million total cases "
   ]
  },
  {
   "cell_type": "code",
   "execution_count": 12,
   "id": "616ee9f8-1bb6-4adf-b9f8-4a94984f248e",
   "metadata": {},
   "outputs": [
    {
     "data": {
      "text/html": [
       "<div>\n",
       "<style scoped>\n",
       "    .dataframe tbody tr th:only-of-type {\n",
       "        vertical-align: middle;\n",
       "    }\n",
       "\n",
       "    .dataframe tbody tr th {\n",
       "        vertical-align: top;\n",
       "    }\n",
       "\n",
       "    .dataframe thead th {\n",
       "        text-align: right;\n",
       "    }\n",
       "</style>\n",
       "<table border=\"1\" class=\"dataframe\">\n",
       "  <thead>\n",
       "    <tr style=\"text-align: right;\">\n",
       "      <th></th>\n",
       "      <th>Country/Region</th>\n",
       "      <th>Confirmed</th>\n",
       "    </tr>\n",
       "    <tr>\n",
       "      <th>index</th>\n",
       "      <th></th>\n",
       "      <th></th>\n",
       "    </tr>\n",
       "  </thead>\n",
       "  <tbody>\n",
       "    <tr>\n",
       "      <th>23</th>\n",
       "      <td>Brazil</td>\n",
       "      <td>2442375</td>\n",
       "    </tr>\n",
       "    <tr>\n",
       "      <th>79</th>\n",
       "      <td>India</td>\n",
       "      <td>1480073</td>\n",
       "    </tr>\n",
       "    <tr>\n",
       "      <th>173</th>\n",
       "      <td>US</td>\n",
       "      <td>4290259</td>\n",
       "    </tr>\n",
       "  </tbody>\n",
       "</table>\n",
       "</div>"
      ],
      "text/plain": [
       "      Country/Region  Confirmed\n",
       "index                          \n",
       "23            Brazil    2442375\n",
       "79             India    1480073\n",
       "173               US    4290259"
      ]
     },
     "execution_count": 12,
     "metadata": {},
     "output_type": "execute_result"
    }
   ],
   "source": [
    "high_case_countries = df[df['Confirmed'] > 1_000_000][['Country/Region', 'Confirmed']]\n",
    "high_case_countries"
   ]
  },
  {
   "cell_type": "markdown",
   "id": "3773b3c3-7c48-4363-a8f2-f2759b49a1e8",
   "metadata": {},
   "source": [
    "14. Which countries have a recovery rate (Recovered / Total Cases) above 95% "
   ]
  },
  {
   "cell_type": "code",
   "execution_count": 13,
   "id": "34066a3c-98b2-4742-8d0a-7a52768b973c",
   "metadata": {},
   "outputs": [
    {
     "data": {
      "text/html": [
       "<div>\n",
       "<style scoped>\n",
       "    .dataframe tbody tr th:only-of-type {\n",
       "        vertical-align: middle;\n",
       "    }\n",
       "\n",
       "    .dataframe tbody tr th {\n",
       "        vertical-align: top;\n",
       "    }\n",
       "\n",
       "    .dataframe thead th {\n",
       "        text-align: right;\n",
       "    }\n",
       "</style>\n",
       "<table border=\"1\" class=\"dataframe\">\n",
       "  <thead>\n",
       "    <tr style=\"text-align: right;\">\n",
       "      <th></th>\n",
       "      <th>Country/Region</th>\n",
       "      <th>Recovery_Rate</th>\n",
       "    </tr>\n",
       "    <tr>\n",
       "      <th>index</th>\n",
       "      <th></th>\n",
       "      <th></th>\n",
       "    </tr>\n",
       "  </thead>\n",
       "  <tbody>\n",
       "    <tr>\n",
       "      <th>24</th>\n",
       "      <td>Brunei</td>\n",
       "      <td>97.872340</td>\n",
       "    </tr>\n",
       "    <tr>\n",
       "      <th>48</th>\n",
       "      <td>Djibouti</td>\n",
       "      <td>98.379126</td>\n",
       "    </tr>\n",
       "    <tr>\n",
       "      <th>49</th>\n",
       "      <td>Dominica</td>\n",
       "      <td>100.000000</td>\n",
       "    </tr>\n",
       "    <tr>\n",
       "      <th>69</th>\n",
       "      <td>Grenada</td>\n",
       "      <td>100.000000</td>\n",
       "    </tr>\n",
       "    <tr>\n",
       "      <th>75</th>\n",
       "      <td>Holy See</td>\n",
       "      <td>100.000000</td>\n",
       "    </tr>\n",
       "    <tr>\n",
       "      <th>78</th>\n",
       "      <td>Iceland</td>\n",
       "      <td>98.327940</td>\n",
       "    </tr>\n",
       "    <tr>\n",
       "      <th>105</th>\n",
       "      <td>Malaysia</td>\n",
       "      <td>96.597035</td>\n",
       "    </tr>\n",
       "    <tr>\n",
       "      <th>110</th>\n",
       "      <td>Mauritius</td>\n",
       "      <td>96.511628</td>\n",
       "    </tr>\n",
       "    <tr>\n",
       "      <th>121</th>\n",
       "      <td>New Zealand</td>\n",
       "      <td>97.238279</td>\n",
       "    </tr>\n",
       "    <tr>\n",
       "      <th>126</th>\n",
       "      <td>Norway</td>\n",
       "      <td>95.838809</td>\n",
       "    </tr>\n",
       "    <tr>\n",
       "      <th>136</th>\n",
       "      <td>Qatar</td>\n",
       "      <td>97.017254</td>\n",
       "    </tr>\n",
       "    <tr>\n",
       "      <th>164</th>\n",
       "      <td>Taiwan*</td>\n",
       "      <td>95.238095</td>\n",
       "    </tr>\n",
       "  </tbody>\n",
       "</table>\n",
       "</div>"
      ],
      "text/plain": [
       "      Country/Region  Recovery_Rate\n",
       "index                              \n",
       "24            Brunei      97.872340\n",
       "48          Djibouti      98.379126\n",
       "49          Dominica     100.000000\n",
       "69           Grenada     100.000000\n",
       "75          Holy See     100.000000\n",
       "78           Iceland      98.327940\n",
       "105         Malaysia      96.597035\n",
       "110        Mauritius      96.511628\n",
       "121      New Zealand      97.238279\n",
       "126           Norway      95.838809\n",
       "136            Qatar      97.017254\n",
       "164          Taiwan*      95.238095"
      ]
     },
     "execution_count": 13,
     "metadata": {},
     "output_type": "execute_result"
    }
   ],
   "source": [
    "df['Recovery_Rate'] = (df['Recovered'] / df['Confirmed']) * 100\n",
    "high_recovery_countries = df[df['Recovery_Rate'] > 95][['Country/Region', 'Recovery_Rate']]\n",
    "high_recovery_countries"
   ]
  },
  {
   "cell_type": "markdown",
   "id": "faf82827-a213-424a-90e7-30461eb8246f",
   "metadata": {},
   "source": [
    "15. Drop columns name WHO Region and Confirmed "
   ]
  },
  {
   "cell_type": "code",
   "execution_count": 14,
   "id": "2014a8a7-f2d0-429c-92c1-ca2b12f7c757",
   "metadata": {},
   "outputs": [
    {
     "data": {
      "text/html": [
       "<div>\n",
       "<style scoped>\n",
       "    .dataframe tbody tr th:only-of-type {\n",
       "        vertical-align: middle;\n",
       "    }\n",
       "\n",
       "    .dataframe tbody tr th {\n",
       "        vertical-align: top;\n",
       "    }\n",
       "\n",
       "    .dataframe thead th {\n",
       "        text-align: right;\n",
       "    }\n",
       "</style>\n",
       "<table border=\"1\" class=\"dataframe\">\n",
       "  <thead>\n",
       "    <tr style=\"text-align: right;\">\n",
       "      <th></th>\n",
       "      <th>Country/Region</th>\n",
       "      <th>Deaths</th>\n",
       "      <th>Recovered</th>\n",
       "      <th>Active</th>\n",
       "      <th>New_cases</th>\n",
       "      <th>New_deaths</th>\n",
       "      <th>New_recovered</th>\n",
       "      <th>Deaths_/_100_Cases</th>\n",
       "      <th>Recovered_/_100_Cases</th>\n",
       "      <th>Deaths_/_100_Recovered</th>\n",
       "      <th>Confirmed_last_week</th>\n",
       "      <th>1_week_change</th>\n",
       "      <th>1_week_%_increase</th>\n",
       "      <th>Recovery_Rate</th>\n",
       "    </tr>\n",
       "    <tr>\n",
       "      <th>index</th>\n",
       "      <th></th>\n",
       "      <th></th>\n",
       "      <th></th>\n",
       "      <th></th>\n",
       "      <th></th>\n",
       "      <th></th>\n",
       "      <th></th>\n",
       "      <th></th>\n",
       "      <th></th>\n",
       "      <th></th>\n",
       "      <th></th>\n",
       "      <th></th>\n",
       "      <th></th>\n",
       "      <th></th>\n",
       "    </tr>\n",
       "  </thead>\n",
       "  <tbody>\n",
       "    <tr>\n",
       "      <th>0</th>\n",
       "      <td>Afghanistan</td>\n",
       "      <td>1269.0</td>\n",
       "      <td>25198</td>\n",
       "      <td>9796</td>\n",
       "      <td>106.0</td>\n",
       "      <td>10.0</td>\n",
       "      <td>18</td>\n",
       "      <td>3.50</td>\n",
       "      <td>69.49</td>\n",
       "      <td>5.04</td>\n",
       "      <td>35526</td>\n",
       "      <td>737</td>\n",
       "      <td>2.07</td>\n",
       "      <td>69.486805</td>\n",
       "    </tr>\n",
       "    <tr>\n",
       "      <th>1</th>\n",
       "      <td>Albania</td>\n",
       "      <td>144.0</td>\n",
       "      <td>2745</td>\n",
       "      <td>1991</td>\n",
       "      <td>117.0</td>\n",
       "      <td>6.0</td>\n",
       "      <td>63</td>\n",
       "      <td>2.95</td>\n",
       "      <td>56.25</td>\n",
       "      <td>5.25</td>\n",
       "      <td>4171</td>\n",
       "      <td>709</td>\n",
       "      <td>17.00</td>\n",
       "      <td>56.250000</td>\n",
       "    </tr>\n",
       "    <tr>\n",
       "      <th>2</th>\n",
       "      <td>Algeria</td>\n",
       "      <td>1163.0</td>\n",
       "      <td>18837</td>\n",
       "      <td>7973</td>\n",
       "      <td>616.0</td>\n",
       "      <td>8.0</td>\n",
       "      <td>749</td>\n",
       "      <td>4.16</td>\n",
       "      <td>67.34</td>\n",
       "      <td>6.17</td>\n",
       "      <td>23691</td>\n",
       "      <td>4282</td>\n",
       "      <td>18.07</td>\n",
       "      <td>67.339935</td>\n",
       "    </tr>\n",
       "    <tr>\n",
       "      <th>3</th>\n",
       "      <td>Andorra</td>\n",
       "      <td>52.0</td>\n",
       "      <td>803</td>\n",
       "      <td>52</td>\n",
       "      <td>10.0</td>\n",
       "      <td>0.0</td>\n",
       "      <td>0</td>\n",
       "      <td>5.73</td>\n",
       "      <td>88.53</td>\n",
       "      <td>6.48</td>\n",
       "      <td>884</td>\n",
       "      <td>23</td>\n",
       "      <td>2.60</td>\n",
       "      <td>88.533627</td>\n",
       "    </tr>\n",
       "    <tr>\n",
       "      <th>4</th>\n",
       "      <td>Angola</td>\n",
       "      <td>41.0</td>\n",
       "      <td>242</td>\n",
       "      <td>667</td>\n",
       "      <td>18.0</td>\n",
       "      <td>1.0</td>\n",
       "      <td>0</td>\n",
       "      <td>4.32</td>\n",
       "      <td>25.47</td>\n",
       "      <td>16.94</td>\n",
       "      <td>749</td>\n",
       "      <td>201</td>\n",
       "      <td>26.84</td>\n",
       "      <td>25.473684</td>\n",
       "    </tr>\n",
       "  </tbody>\n",
       "</table>\n",
       "</div>"
      ],
      "text/plain": [
       "      Country/Region  Deaths  Recovered  Active  New_cases  New_deaths  \\\n",
       "index                                                                    \n",
       "0        Afghanistan  1269.0      25198    9796      106.0        10.0   \n",
       "1            Albania   144.0       2745    1991      117.0         6.0   \n",
       "2            Algeria  1163.0      18837    7973      616.0         8.0   \n",
       "3            Andorra    52.0        803      52       10.0         0.0   \n",
       "4             Angola    41.0        242     667       18.0         1.0   \n",
       "\n",
       "       New_recovered  Deaths_/_100_Cases  Recovered_/_100_Cases  \\\n",
       "index                                                             \n",
       "0                 18                3.50                  69.49   \n",
       "1                 63                2.95                  56.25   \n",
       "2                749                4.16                  67.34   \n",
       "3                  0                5.73                  88.53   \n",
       "4                  0                4.32                  25.47   \n",
       "\n",
       "       Deaths_/_100_Recovered  Confirmed_last_week  1_week_change  \\\n",
       "index                                                               \n",
       "0                        5.04                35526            737   \n",
       "1                        5.25                 4171            709   \n",
       "2                        6.17                23691           4282   \n",
       "3                        6.48                  884             23   \n",
       "4                       16.94                  749            201   \n",
       "\n",
       "       1_week_%_increase  Recovery_Rate  \n",
       "index                                    \n",
       "0                   2.07      69.486805  \n",
       "1                  17.00      56.250000  \n",
       "2                  18.07      67.339935  \n",
       "3                   2.60      88.533627  \n",
       "4                  26.84      25.473684  "
      ]
     },
     "execution_count": 14,
     "metadata": {},
     "output_type": "execute_result"
    }
   ],
   "source": [
    "# Drop the specified columns\n",
    "df.drop(columns=['WHO_Region', 'Confirmed'], inplace=True)\n",
    "\n",
    "# Confirm changes\n",
    "df.head()\n"
   ]
  },
  {
   "cell_type": "markdown",
   "id": "693acfcc-10a5-4d6d-abf0-ea06dcfaeeec",
   "metadata": {},
   "source": [
    "16. Find the Country with the Max Deaths "
   ]
  },
  {
   "cell_type": "code",
   "execution_count": 15,
   "id": "aefa84c5-07e3-401e-8384-27139f16f93f",
   "metadata": {},
   "outputs": [
    {
     "data": {
      "text/plain": [
       "Country/Region          US\n",
       "Deaths            148011.0\n",
       "Name: 173, dtype: object"
      ]
     },
     "execution_count": 15,
     "metadata": {},
     "output_type": "execute_result"
    }
   ],
   "source": [
    "# Find the country with max deaths\n",
    "max_deaths_country = df.loc[df['Deaths'].idxmax(), ['Country/Region', 'Deaths']]\n",
    "\n",
    "# Display result\n",
    "max_deaths_country\n"
   ]
  },
  {
   "cell_type": "markdown",
   "id": "2af47c61-6d2d-48ef-a9f1-63ec5a7c6eec",
   "metadata": {},
   "source": [
    "17. Sort Countries by Deaths (Descending Order)"
   ]
  },
  {
   "cell_type": "code",
   "execution_count": 16,
   "id": "08654a01-2e9b-4ffa-8f0d-28ffad457d0f",
   "metadata": {},
   "outputs": [
    {
     "data": {
      "text/html": [
       "<div>\n",
       "<style scoped>\n",
       "    .dataframe tbody tr th:only-of-type {\n",
       "        vertical-align: middle;\n",
       "    }\n",
       "\n",
       "    .dataframe tbody tr th {\n",
       "        vertical-align: top;\n",
       "    }\n",
       "\n",
       "    .dataframe thead th {\n",
       "        text-align: right;\n",
       "    }\n",
       "</style>\n",
       "<table border=\"1\" class=\"dataframe\">\n",
       "  <thead>\n",
       "    <tr style=\"text-align: right;\">\n",
       "      <th></th>\n",
       "      <th>Country/Region</th>\n",
       "      <th>Deaths</th>\n",
       "    </tr>\n",
       "    <tr>\n",
       "      <th>index</th>\n",
       "      <th></th>\n",
       "      <th></th>\n",
       "    </tr>\n",
       "  </thead>\n",
       "  <tbody>\n",
       "    <tr>\n",
       "      <th>173</th>\n",
       "      <td>US</td>\n",
       "      <td>148011.0</td>\n",
       "    </tr>\n",
       "    <tr>\n",
       "      <th>23</th>\n",
       "      <td>Brazil</td>\n",
       "      <td>87618.0</td>\n",
       "    </tr>\n",
       "    <tr>\n",
       "      <th>177</th>\n",
       "      <td>United Kingdom</td>\n",
       "      <td>45844.0</td>\n",
       "    </tr>\n",
       "    <tr>\n",
       "      <th>111</th>\n",
       "      <td>Mexico</td>\n",
       "      <td>44022.0</td>\n",
       "    </tr>\n",
       "    <tr>\n",
       "      <th>85</th>\n",
       "      <td>Italy</td>\n",
       "      <td>35112.0</td>\n",
       "    </tr>\n",
       "    <tr>\n",
       "      <th>...</th>\n",
       "      <td>...</td>\n",
       "      <td>...</td>\n",
       "    </tr>\n",
       "    <tr>\n",
       "      <th>130</th>\n",
       "      <td>Papua New Guinea</td>\n",
       "      <td>0.0</td>\n",
       "    </tr>\n",
       "    <tr>\n",
       "      <th>140</th>\n",
       "      <td>Saint Kitts and Nevis</td>\n",
       "      <td>0.0</td>\n",
       "    </tr>\n",
       "    <tr>\n",
       "      <th>168</th>\n",
       "      <td>Timor-Leste</td>\n",
       "      <td>0.0</td>\n",
       "    </tr>\n",
       "    <tr>\n",
       "      <th>181</th>\n",
       "      <td>Vietnam</td>\n",
       "      <td>0.0</td>\n",
       "    </tr>\n",
       "    <tr>\n",
       "      <th>186</th>\n",
       "      <td>Zimbabwe</td>\n",
       "      <td>NaN</td>\n",
       "    </tr>\n",
       "  </tbody>\n",
       "</table>\n",
       "<p>187 rows × 2 columns</p>\n",
       "</div>"
      ],
      "text/plain": [
       "              Country/Region    Deaths\n",
       "index                                 \n",
       "173                       US  148011.0\n",
       "23                    Brazil   87618.0\n",
       "177           United Kingdom   45844.0\n",
       "111                   Mexico   44022.0\n",
       "85                     Italy   35112.0\n",
       "...                      ...       ...\n",
       "130         Papua New Guinea       0.0\n",
       "140    Saint Kitts and Nevis       0.0\n",
       "168              Timor-Leste       0.0\n",
       "181                  Vietnam       0.0\n",
       "186                 Zimbabwe       NaN\n",
       "\n",
       "[187 rows x 2 columns]"
      ]
     },
     "execution_count": 16,
     "metadata": {},
     "output_type": "execute_result"
    }
   ],
   "source": [
    "# Sort countries by deaths in descending order\n",
    "sorted_deaths = df[['Country/Region', 'Deaths']].sort_values(by='Deaths', ascending=False)\n",
    "\n",
    "# Display results\n",
    "sorted_deaths\n"
   ]
  },
  {
   "cell_type": "markdown",
   "id": "31b46afd-6dc1-4be5-a546-e7a0f90a34a0",
   "metadata": {},
   "source": [
    "18. Make new column name Total_cases that have a sum of Deaths, Recovered , Active "
   ]
  },
  {
   "cell_type": "code",
   "execution_count": 17,
   "id": "ba929494-6978-4c63-bc86-a8b70bfd34d2",
   "metadata": {},
   "outputs": [
    {
     "data": {
      "text/html": [
       "<div>\n",
       "<style scoped>\n",
       "    .dataframe tbody tr th:only-of-type {\n",
       "        vertical-align: middle;\n",
       "    }\n",
       "\n",
       "    .dataframe tbody tr th {\n",
       "        vertical-align: top;\n",
       "    }\n",
       "\n",
       "    .dataframe thead th {\n",
       "        text-align: right;\n",
       "    }\n",
       "</style>\n",
       "<table border=\"1\" class=\"dataframe\">\n",
       "  <thead>\n",
       "    <tr style=\"text-align: right;\">\n",
       "      <th></th>\n",
       "      <th>Country/Region</th>\n",
       "      <th>Deaths</th>\n",
       "      <th>Recovered</th>\n",
       "      <th>Active</th>\n",
       "      <th>New_cases</th>\n",
       "      <th>New_deaths</th>\n",
       "      <th>New_recovered</th>\n",
       "      <th>Deaths_/_100_Cases</th>\n",
       "      <th>Recovered_/_100_Cases</th>\n",
       "      <th>Deaths_/_100_Recovered</th>\n",
       "      <th>Confirmed_last_week</th>\n",
       "      <th>1_week_change</th>\n",
       "      <th>1_week_%_increase</th>\n",
       "      <th>Recovery_Rate</th>\n",
       "      <th>Total_cases</th>\n",
       "    </tr>\n",
       "    <tr>\n",
       "      <th>index</th>\n",
       "      <th></th>\n",
       "      <th></th>\n",
       "      <th></th>\n",
       "      <th></th>\n",
       "      <th></th>\n",
       "      <th></th>\n",
       "      <th></th>\n",
       "      <th></th>\n",
       "      <th></th>\n",
       "      <th></th>\n",
       "      <th></th>\n",
       "      <th></th>\n",
       "      <th></th>\n",
       "      <th></th>\n",
       "      <th></th>\n",
       "    </tr>\n",
       "  </thead>\n",
       "  <tbody>\n",
       "    <tr>\n",
       "      <th>0</th>\n",
       "      <td>Afghanistan</td>\n",
       "      <td>1269.0</td>\n",
       "      <td>25198</td>\n",
       "      <td>9796</td>\n",
       "      <td>106.0</td>\n",
       "      <td>10.0</td>\n",
       "      <td>18</td>\n",
       "      <td>3.50</td>\n",
       "      <td>69.49</td>\n",
       "      <td>5.04</td>\n",
       "      <td>35526</td>\n",
       "      <td>737</td>\n",
       "      <td>2.07</td>\n",
       "      <td>69.486805</td>\n",
       "      <td>36263.0</td>\n",
       "    </tr>\n",
       "    <tr>\n",
       "      <th>1</th>\n",
       "      <td>Albania</td>\n",
       "      <td>144.0</td>\n",
       "      <td>2745</td>\n",
       "      <td>1991</td>\n",
       "      <td>117.0</td>\n",
       "      <td>6.0</td>\n",
       "      <td>63</td>\n",
       "      <td>2.95</td>\n",
       "      <td>56.25</td>\n",
       "      <td>5.25</td>\n",
       "      <td>4171</td>\n",
       "      <td>709</td>\n",
       "      <td>17.00</td>\n",
       "      <td>56.250000</td>\n",
       "      <td>4880.0</td>\n",
       "    </tr>\n",
       "    <tr>\n",
       "      <th>2</th>\n",
       "      <td>Algeria</td>\n",
       "      <td>1163.0</td>\n",
       "      <td>18837</td>\n",
       "      <td>7973</td>\n",
       "      <td>616.0</td>\n",
       "      <td>8.0</td>\n",
       "      <td>749</td>\n",
       "      <td>4.16</td>\n",
       "      <td>67.34</td>\n",
       "      <td>6.17</td>\n",
       "      <td>23691</td>\n",
       "      <td>4282</td>\n",
       "      <td>18.07</td>\n",
       "      <td>67.339935</td>\n",
       "      <td>27973.0</td>\n",
       "    </tr>\n",
       "    <tr>\n",
       "      <th>3</th>\n",
       "      <td>Andorra</td>\n",
       "      <td>52.0</td>\n",
       "      <td>803</td>\n",
       "      <td>52</td>\n",
       "      <td>10.0</td>\n",
       "      <td>0.0</td>\n",
       "      <td>0</td>\n",
       "      <td>5.73</td>\n",
       "      <td>88.53</td>\n",
       "      <td>6.48</td>\n",
       "      <td>884</td>\n",
       "      <td>23</td>\n",
       "      <td>2.60</td>\n",
       "      <td>88.533627</td>\n",
       "      <td>907.0</td>\n",
       "    </tr>\n",
       "    <tr>\n",
       "      <th>4</th>\n",
       "      <td>Angola</td>\n",
       "      <td>41.0</td>\n",
       "      <td>242</td>\n",
       "      <td>667</td>\n",
       "      <td>18.0</td>\n",
       "      <td>1.0</td>\n",
       "      <td>0</td>\n",
       "      <td>4.32</td>\n",
       "      <td>25.47</td>\n",
       "      <td>16.94</td>\n",
       "      <td>749</td>\n",
       "      <td>201</td>\n",
       "      <td>26.84</td>\n",
       "      <td>25.473684</td>\n",
       "      <td>950.0</td>\n",
       "    </tr>\n",
       "  </tbody>\n",
       "</table>\n",
       "</div>"
      ],
      "text/plain": [
       "      Country/Region  Deaths  Recovered  Active  New_cases  New_deaths  \\\n",
       "index                                                                    \n",
       "0        Afghanistan  1269.0      25198    9796      106.0        10.0   \n",
       "1            Albania   144.0       2745    1991      117.0         6.0   \n",
       "2            Algeria  1163.0      18837    7973      616.0         8.0   \n",
       "3            Andorra    52.0        803      52       10.0         0.0   \n",
       "4             Angola    41.0        242     667       18.0         1.0   \n",
       "\n",
       "       New_recovered  Deaths_/_100_Cases  Recovered_/_100_Cases  \\\n",
       "index                                                             \n",
       "0                 18                3.50                  69.49   \n",
       "1                 63                2.95                  56.25   \n",
       "2                749                4.16                  67.34   \n",
       "3                  0                5.73                  88.53   \n",
       "4                  0                4.32                  25.47   \n",
       "\n",
       "       Deaths_/_100_Recovered  Confirmed_last_week  1_week_change  \\\n",
       "index                                                               \n",
       "0                        5.04                35526            737   \n",
       "1                        5.25                 4171            709   \n",
       "2                        6.17                23691           4282   \n",
       "3                        6.48                  884             23   \n",
       "4                       16.94                  749            201   \n",
       "\n",
       "       1_week_%_increase  Recovery_Rate  Total_cases  \n",
       "index                                                 \n",
       "0                   2.07      69.486805      36263.0  \n",
       "1                  17.00      56.250000       4880.0  \n",
       "2                  18.07      67.339935      27973.0  \n",
       "3                   2.60      88.533627        907.0  \n",
       "4                  26.84      25.473684        950.0  "
      ]
     },
     "execution_count": 17,
     "metadata": {},
     "output_type": "execute_result"
    }
   ],
   "source": [
    "# Create new column 'Total_cases'\n",
    "\n",
    "df['Total_cases'] = df['Deaths'] + df['Recovered'] + df['Active']\n",
    "\n",
    "# Display updated dataframe\n",
    "df.head()\n"
   ]
  },
  {
   "cell_type": "markdown",
   "id": "3f345cae-fbd5-416c-98b8-131f49ee68ad",
   "metadata": {},
   "source": [
    "19. Calculate Death_Rate for Each Country (Deaths per Total Cases) by suing formula (Desths/Total_cases)*100 and save it in \n",
    "Dath_Rate column "
   ]
  },
  {
   "cell_type": "code",
   "execution_count": 18,
   "id": "5fa8d436-4cd4-4170-bfc0-1fa5198653ac",
   "metadata": {},
   "outputs": [
    {
     "data": {
      "text/html": [
       "<div>\n",
       "<style scoped>\n",
       "    .dataframe tbody tr th:only-of-type {\n",
       "        vertical-align: middle;\n",
       "    }\n",
       "\n",
       "    .dataframe tbody tr th {\n",
       "        vertical-align: top;\n",
       "    }\n",
       "\n",
       "    .dataframe thead th {\n",
       "        text-align: right;\n",
       "    }\n",
       "</style>\n",
       "<table border=\"1\" class=\"dataframe\">\n",
       "  <thead>\n",
       "    <tr style=\"text-align: right;\">\n",
       "      <th></th>\n",
       "      <th>Country/Region</th>\n",
       "      <th>Death_Rate</th>\n",
       "    </tr>\n",
       "    <tr>\n",
       "      <th>index</th>\n",
       "      <th></th>\n",
       "      <th></th>\n",
       "    </tr>\n",
       "  </thead>\n",
       "  <tbody>\n",
       "    <tr>\n",
       "      <th>0</th>\n",
       "      <td>Afghanistan</td>\n",
       "      <td>3.499435</td>\n",
       "    </tr>\n",
       "    <tr>\n",
       "      <th>1</th>\n",
       "      <td>Albania</td>\n",
       "      <td>2.950820</td>\n",
       "    </tr>\n",
       "    <tr>\n",
       "      <th>2</th>\n",
       "      <td>Algeria</td>\n",
       "      <td>4.157581</td>\n",
       "    </tr>\n",
       "    <tr>\n",
       "      <th>3</th>\n",
       "      <td>Andorra</td>\n",
       "      <td>5.733186</td>\n",
       "    </tr>\n",
       "    <tr>\n",
       "      <th>4</th>\n",
       "      <td>Angola</td>\n",
       "      <td>4.315789</td>\n",
       "    </tr>\n",
       "  </tbody>\n",
       "</table>\n",
       "</div>"
      ],
      "text/plain": [
       "      Country/Region  Death_Rate\n",
       "index                           \n",
       "0        Afghanistan    3.499435\n",
       "1            Albania    2.950820\n",
       "2            Algeria    4.157581\n",
       "3            Andorra    5.733186\n",
       "4             Angola    4.315789"
      ]
     },
     "execution_count": 18,
     "metadata": {},
     "output_type": "execute_result"
    }
   ],
   "source": [
    "# Calculate death rate using (Deaths / Total_cases) * 100\n",
    "df['Death_Rate'] = (df['Deaths'] / df['Total_cases']) * 100\n",
    "\n",
    "# Display updated dataframe\n",
    "df[['Country/Region', 'Death_Rate']].head()\n"
   ]
  },
  {
   "cell_type": "markdown",
   "id": "cdf88e93-1e3b-487f-b2f6-444c05da7f4f",
   "metadata": {},
   "source": [
    "20. Identify countries where total cases are increasing but death rates remain low. "
   ]
  },
  {
   "cell_type": "code",
   "execution_count": 19,
   "id": "90aaaf45-90ea-4846-b8ac-9546ec9ad02c",
   "metadata": {},
   "outputs": [
    {
     "data": {
      "text/html": [
       "<div>\n",
       "<style scoped>\n",
       "    .dataframe tbody tr th:only-of-type {\n",
       "        vertical-align: middle;\n",
       "    }\n",
       "\n",
       "    .dataframe tbody tr th {\n",
       "        vertical-align: top;\n",
       "    }\n",
       "\n",
       "    .dataframe thead th {\n",
       "        text-align: right;\n",
       "    }\n",
       "</style>\n",
       "<table border=\"1\" class=\"dataframe\">\n",
       "  <thead>\n",
       "    <tr style=\"text-align: right;\">\n",
       "      <th></th>\n",
       "      <th>Country/Region</th>\n",
       "      <th>1_week_change</th>\n",
       "      <th>Death_Rate</th>\n",
       "    </tr>\n",
       "    <tr>\n",
       "      <th>index</th>\n",
       "      <th></th>\n",
       "      <th></th>\n",
       "      <th></th>\n",
       "    </tr>\n",
       "  </thead>\n",
       "  <tbody>\n",
       "    <tr>\n",
       "      <th>6</th>\n",
       "      <td>Argentina</td>\n",
       "      <td>36642</td>\n",
       "      <td>1.827185</td>\n",
       "    </tr>\n",
       "    <tr>\n",
       "      <th>7</th>\n",
       "      <td>Armenia</td>\n",
       "      <td>2409</td>\n",
       "      <td>1.901578</td>\n",
       "    </tr>\n",
       "    <tr>\n",
       "      <th>8</th>\n",
       "      <td>Australia</td>\n",
       "      <td>2875</td>\n",
       "      <td>1.091289</td>\n",
       "    </tr>\n",
       "    <tr>\n",
       "      <th>10</th>\n",
       "      <td>Azerbaijan</td>\n",
       "      <td>2556</td>\n",
       "      <td>1.389345</td>\n",
       "    </tr>\n",
       "    <tr>\n",
       "      <th>12</th>\n",
       "      <td>Bahrain</td>\n",
       "      <td>2546</td>\n",
       "      <td>0.357125</td>\n",
       "    </tr>\n",
       "    <tr>\n",
       "      <th>...</th>\n",
       "      <td>...</td>\n",
       "      <td>...</td>\n",
       "      <td>...</td>\n",
       "    </tr>\n",
       "    <tr>\n",
       "      <th>176</th>\n",
       "      <td>United Arab Emirates</td>\n",
       "      <td>1984</td>\n",
       "      <td>0.582997</td>\n",
       "    </tr>\n",
       "    <tr>\n",
       "      <th>179</th>\n",
       "      <td>Uzbekistan</td>\n",
       "      <td>4060</td>\n",
       "      <td>0.570513</td>\n",
       "    </tr>\n",
       "    <tr>\n",
       "      <th>180</th>\n",
       "      <td>Venezuela</td>\n",
       "      <td>3654</td>\n",
       "      <td>0.913185</td>\n",
       "    </tr>\n",
       "    <tr>\n",
       "      <th>181</th>\n",
       "      <td>Vietnam</td>\n",
       "      <td>47</td>\n",
       "      <td>0.000000</td>\n",
       "    </tr>\n",
       "    <tr>\n",
       "      <th>182</th>\n",
       "      <td>West Bank and Gaza</td>\n",
       "      <td>1705</td>\n",
       "      <td>0.734394</td>\n",
       "    </tr>\n",
       "  </tbody>\n",
       "</table>\n",
       "<p>78 rows × 3 columns</p>\n",
       "</div>"
      ],
      "text/plain": [
       "             Country/Region  1_week_change  Death_Rate\n",
       "index                                                 \n",
       "6                 Argentina          36642    1.827185\n",
       "7                   Armenia           2409    1.901578\n",
       "8                 Australia           2875    1.091289\n",
       "10               Azerbaijan           2556    1.389345\n",
       "12                  Bahrain           2546    0.357125\n",
       "...                     ...            ...         ...\n",
       "176    United Arab Emirates           1984    0.582997\n",
       "179              Uzbekistan           4060    0.570513\n",
       "180               Venezuela           3654    0.913185\n",
       "181                 Vietnam             47    0.000000\n",
       "182      West Bank and Gaza           1705    0.734394\n",
       "\n",
       "[78 rows x 3 columns]"
      ]
     },
     "execution_count": 19,
     "metadata": {},
     "output_type": "execute_result"
    }
   ],
   "source": [
    "# Define \"low death rate\" as below 2%\n",
    "increasing_cases_low_deaths = df[(df['1_week_change'] > 0) & (df['Death_Rate'] < 2)][['Country/Region', '1_week_change', 'Death_Rate']]\n",
    "\n",
    "# Display results\n",
    "increasing_cases_low_deaths\n"
   ]
  },
  {
   "cell_type": "markdown",
   "id": "6fdbb342-ecd4-4ece-9e95-88870f6af8e0",
   "metadata": {},
   "source": [
    "21. print head of only 2 columns Country/Region  and Death_Rate "
   ]
  },
  {
   "cell_type": "code",
   "execution_count": 20,
   "id": "ae550240-2686-4122-bfb8-2b6fb9fe8819",
   "metadata": {},
   "outputs": [
    {
     "data": {
      "text/html": [
       "<div>\n",
       "<style scoped>\n",
       "    .dataframe tbody tr th:only-of-type {\n",
       "        vertical-align: middle;\n",
       "    }\n",
       "\n",
       "    .dataframe tbody tr th {\n",
       "        vertical-align: top;\n",
       "    }\n",
       "\n",
       "    .dataframe thead th {\n",
       "        text-align: right;\n",
       "    }\n",
       "</style>\n",
       "<table border=\"1\" class=\"dataframe\">\n",
       "  <thead>\n",
       "    <tr style=\"text-align: right;\">\n",
       "      <th></th>\n",
       "      <th>Country/Region</th>\n",
       "      <th>Death_Rate</th>\n",
       "    </tr>\n",
       "    <tr>\n",
       "      <th>index</th>\n",
       "      <th></th>\n",
       "      <th></th>\n",
       "    </tr>\n",
       "  </thead>\n",
       "  <tbody>\n",
       "    <tr>\n",
       "      <th>0</th>\n",
       "      <td>Afghanistan</td>\n",
       "      <td>3.499435</td>\n",
       "    </tr>\n",
       "    <tr>\n",
       "      <th>1</th>\n",
       "      <td>Albania</td>\n",
       "      <td>2.950820</td>\n",
       "    </tr>\n",
       "    <tr>\n",
       "      <th>2</th>\n",
       "      <td>Algeria</td>\n",
       "      <td>4.157581</td>\n",
       "    </tr>\n",
       "    <tr>\n",
       "      <th>3</th>\n",
       "      <td>Andorra</td>\n",
       "      <td>5.733186</td>\n",
       "    </tr>\n",
       "    <tr>\n",
       "      <th>4</th>\n",
       "      <td>Angola</td>\n",
       "      <td>4.315789</td>\n",
       "    </tr>\n",
       "  </tbody>\n",
       "</table>\n",
       "</div>"
      ],
      "text/plain": [
       "      Country/Region  Death_Rate\n",
       "index                           \n",
       "0        Afghanistan    3.499435\n",
       "1            Albania    2.950820\n",
       "2            Algeria    4.157581\n",
       "3            Andorra    5.733186\n",
       "4             Angola    4.315789"
      ]
     },
     "execution_count": 20,
     "metadata": {},
     "output_type": "execute_result"
    }
   ],
   "source": [
    "# Display only 'Country/Region' and 'Death_Rate' columns\n",
    "df[['Country/Region', 'Death_Rate']].head()\n"
   ]
  },
  {
   "cell_type": "markdown",
   "id": "2a414332-c418-4f6b-b858-8f53998843e0",
   "metadata": {},
   "source": [
    "22. Create a scatter plot comparing total cases and total deaths. "
   ]
  },
  {
   "cell_type": "code",
   "execution_count": 21,
   "id": "6521434f-0d98-4e51-9efd-d93f3725ddd4",
   "metadata": {},
   "outputs": [
    {
     "data": {
      "image/png": "[encoded data removed]",
      "text/plain": [
       "<Figure size 1000x600 with 1 Axes>"
      ]
     },
     "metadata": {},
     "output_type": "display_data"
    }
   ],
   "source": [
    "import matplotlib.pyplot as plt\n",
    "\n",
    "# Scatter plot\n",
    "plt.figure(figsize=(10, 6))\n",
    "plt.scatter(df['Total_cases'], df['Deaths'], alpha=0.5, color='red')\n",
    "plt.xlabel('Total Cases')\n",
    "plt.ylabel('Total Deaths')\n",
    "plt.title('Scatter Plot: Total Cases vs Total Deaths')\n",
    "plt.grid()\n",
    "plt.show()\n"
   ]
  },
  {
   "cell_type": "markdown",
   "id": "da204a1a-b9e0-43b2-9bca-346dd024c631",
   "metadata": {},
   "source": [
    "23. Save dataset in CSV format. "
   ]
  },
  {
   "cell_type": "code",
   "execution_count": 23,
   "id": "42b60a2d-a5cd-474c-909b-8c80b42c979c",
   "metadata": {},
   "outputs": [
    {
     "data": {
      "text/plain": [
       "'covid_cleaned.csv'"
      ]
     },
     "execution_count": 23,
     "metadata": {},
     "output_type": "execute_result"
    }
   ],
   "source": [
    "# Save the cleaned dataset\n",
    "cleaned_file_path = \"covid_cleaned.csv\"\n",
    "df.to_csv(cleaned_file_path, index=False)\n",
    "\n",
    "# Confirm file saved\n",
    "cleaned_file_path\n"
   ]
  }
 ],
 "metadata": {
  "kernelspec": {
   "display_name": "Python 3 (ipykernel)",
   "language": "python",
   "name": "python3"
  },
  "language_info": {
   "codemirror_mode": {
    "name": "ipython",
    "version": 3
   },
   "file_extension": ".py",
   "mimetype": "text/x-python",
   "name": "python",
   "nbconvert_exporter": "python",
   "pygments_lexer": "ipython3",
   "version": "3.12.5"
  }
 },
 "nbformat": 4,
 "nbformat_minor": 5
}
