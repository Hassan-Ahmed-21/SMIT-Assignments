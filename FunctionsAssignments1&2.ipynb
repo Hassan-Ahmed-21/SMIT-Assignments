{
 "cells": [
  {
   "cell_type": "markdown",
   "id": "9c3662c3-819b-4df2-aa4a-8c3c5e5632a1",
   "metadata": {},
   "source": [
    "# Functions Assignment 1"
   ]
  },
  {
   "cell_type": "markdown",
   "id": "b538e413-1d86-4bfb-a565-9d1d93f2d298",
   "metadata": {},
   "source": [
    "1. Write a Python function to find the maximum of three numbers. "
   ]
  },
  {
   "cell_type": "code",
   "execution_count": 6,
   "id": "ffa7b7fd-947b-4843-84d2-208b095fcb85",
   "metadata": {},
   "outputs": [],
   "source": [
    "def max(a,b,c):\n",
    "    if b<=a>=c:\n",
    "        print(f\"{a} or a is greater number\")\n",
    "    elif a<=b>=c:\n",
    "        print(f\"{b} or b is greater number\")\n",
    "    else:\n",
    "        print(f\"{c} or c is greater number\")"
   ]
  },
  {
   "cell_type": "code",
   "execution_count": 7,
   "id": "e823b6bd-6abf-4e82-816f-13e4bae4f5c1",
   "metadata": {},
   "outputs": [
    {
     "name": "stdout",
     "output_type": "stream",
     "text": [
      "14 or b is greater number\n"
     ]
    }
   ],
   "source": [
    "max(13,14,12)"
   ]
  },
  {
   "cell_type": "markdown",
   "id": "1f01a3e0-dbcd-461e-8d10-1caf3a1a2401",
   "metadata": {},
   "source": [
    "2. Write a Python function to sum all the numbers in a list. \n",
    "Sample List : (8, 2, 3, 0, 7) \n",
    "Expected Output : 20 "
   ]
  },
  {
   "cell_type": "code",
   "execution_count": 1,
   "id": "f1870244-82be-42a4-b6f1-838b331728ca",
   "metadata": {},
   "outputs": [
    {
     "name": "stdout",
     "output_type": "stream",
     "text": [
      "The sum of the numbers in the list is: 15\n"
     ]
    }
   ],
   "source": [
    "def sum_of_numbers(numbers):\n",
    "    return sum(numbers)\n",
    "numbers_list = [1, 2, 3, 4, 5]\n",
    "total_sum = sum_of_numbers(numbers_list)\n",
    "print(f\"The sum of the numbers in the list is: {total_sum}\")"
   ]
  },
  {
   "cell_type": "markdown",
   "id": "8d4a4b5f-ba49-49ce-8ea3-dcb6541d2b56",
   "metadata": {},
   "source": [
    "3. Write a Python function to multiply all the numbers in a list. \n",
    "Sample List : (8, 2, 3, -1, 7) \n",
    "Expected Output : -336 "
   ]
  },
  {
   "cell_type": "code",
   "execution_count": 13,
   "id": "d1bc6c8e-1259-4bcc-af22-c1abb3dc47db",
   "metadata": {},
   "outputs": [
    {
     "name": "stdout",
     "output_type": "stream",
     "text": [
      "The product of the numbers in the list is: 120\n"
     ]
    }
   ],
   "source": [
    "def multiply_numbers(numbers):\n",
    "    result = 1\n",
    "    for number in numbers:\n",
    "        result *= number\n",
    "    return result\n",
    "numbers_list = [1, 2, 3, 4, 5]\n",
    "total_product = multiply_numbers(numbers_list)\n",
    "print(f\"The product of the numbers in the list is: {total_product}\")\n"
   ]
  },
  {
   "cell_type": "markdown",
   "id": "9802fc89-b4a6-4a75-ba0f-0da9ec989101",
   "metadata": {},
   "source": [
    "4. Write a Python program to reverse a string. \n",
    "Sample String : \"1234abcd\" \n",
    "Expected Output : \"dcba4321\" "
   ]
  },
  {
   "cell_type": "code",
   "execution_count": 15,
   "id": "4106acf7-6358-45ac-b3aa-df931ee928e8",
   "metadata": {},
   "outputs": [
    {
     "name": "stdout",
     "output_type": "stream",
     "text": [
      "The reversed string is: dcba4321\n"
     ]
    }
   ],
   "source": [
    "def reverse_string(s):\n",
    "    return s[::-1]\n",
    "# Example usage\n",
    "original_string = \"1234abcd\"\n",
    "reversed_string = reverse_string(original_string)\n",
    "print(f\"The reversed string is: {reversed_string}\")\n"
   ]
  },
  {
   "cell_type": "markdown",
   "id": "8262df28-978d-46e7-b544-a7f06071857b",
   "metadata": {},
   "source": [
    "5. Write a Python function to calculate the factorial of a number (a non-negative \n",
    "integer). The function accepts the number as an argument. "
   ]
  },
  {
   "cell_type": "code",
   "execution_count": 4,
   "id": "ec02c5dc-b34f-4c77-b969-79f71e8dd9ff",
   "metadata": {},
   "outputs": [],
   "source": [
    "def factorial(n):\n",
    "    if n < 0:\n",
    "        raise ValueError(\"Factorial is not defined for negative numbers.\")\n",
    "    elif n == 0:\n",
    "        return 1\n",
    "    else:\n",
    "        return n * factorial(n-1)"
   ]
  },
  {
   "cell_type": "code",
   "execution_count": 5,
   "id": "a1eda9a6-025c-4582-9e9a-5dfd22f766e8",
   "metadata": {},
   "outputs": [
    {
     "name": "stdout",
     "output_type": "stream",
     "text": [
      "The factorial of 5 is 120\n"
     ]
    }
   ],
   "source": [
    "number = 5\n",
    "result = factorial(number)\n",
    "print(f\"The factorial of {number} is {result}\")"
   ]
  },
  {
   "cell_type": "markdown",
   "id": "978433e4-7293-44a0-9821-3ad73b5daa16",
   "metadata": {},
   "source": [
    "6. Write a Python function to check whether a number falls within a given range. "
   ]
  },
  {
   "cell_type": "code",
   "execution_count": 13,
   "id": "9b938bc5-7799-4ef6-8c39-cee1681229fc",
   "metadata": {},
   "outputs": [
    {
     "name": "stdout",
     "output_type": "stream",
     "text": [
      "10 is not within the range [15, 20]\n"
     ]
    }
   ],
   "source": [
    "def is_within_range(number, lower_bound, upper_bound):\n",
    "    return lower_bound <= number <= upper_bound\n",
    "\n",
    "num = 10\n",
    "lower = 15\n",
    "upper = 20\n",
    "\n",
    "if is_within_range(num, lower, upper):\n",
    "  print(f\"{num} is within the range [{lower}, {upper}]\")\n",
    "else:\n",
    "  print(f\"{num} is not within the range [{lower}, {upper}]\")"
   ]
  },
  {
   "cell_type": "markdown",
   "id": "28f1ce86-c04b-4270-89f3-204f8430986b",
   "metadata": {},
   "source": [
    "7. Write a Python function that accepts a string and counts the number of upper \n",
    "and lower case letters. \n",
    "Sample String : 'The quick Brow Fox' \n",
    "Expected Output : \n",
    "No. of Upper case characters : 3 \n",
    "No. of Lower case Characters : 12 "
   ]
  },
  {
   "cell_type": "code",
   "execution_count": 14,
   "id": "e8ad2ad1-3a73-471b-abe6-743f37a687d1",
   "metadata": {},
   "outputs": [],
   "source": [
    "def count_upper_lower(string):\n",
    "  upper_count = 0\n",
    "  lower_count = 0\n",
    "\n",
    "  for char in string:\n",
    "    if char.isupper():\n",
    "      upper_count += 1\n",
    "    elif char.islower():\n",
    "      lower_count += 1\n",
    "\n",
    "  return upper_count, lower_count"
   ]
  },
  {
   "cell_type": "code",
   "execution_count": 15,
   "id": "bd771a48-2d42-4d4d-aef1-8ac803077ede",
   "metadata": {},
   "outputs": [
    {
     "name": "stdout",
     "output_type": "stream",
     "text": [
      "No. of Upper case characters : 3\n",
      "No. of Lower case Characters : 12\n"
     ]
    }
   ],
   "source": [
    "string = 'The quick Brow Fox'\n",
    "upper, lower = count_upper_lower(string)\n",
    "\n",
    "print(f\"No. of Upper case characters : {upper}\")\n",
    "print(f\"No. of Lower case Characters : {lower}\")"
   ]
  },
  {
   "cell_type": "markdown",
   "id": "6e67999a-cce6-42a2-90e8-8c4ace3b240a",
   "metadata": {},
   "source": [
    "8. Write a Python function that takes a list and returns a new list with distinct \n",
    "elements from the first list. \n",
    "Sample List : [1,2,3,3,3,3,4,5] \n",
    "Unique List : [1, 2, 3, 4, 5] "
   ]
  },
  {
   "cell_type": "code",
   "execution_count": 18,
   "id": "9b98b8fc-88cf-4590-b577-95782203bda3",
   "metadata": {},
   "outputs": [],
   "source": [
    "def unique_elements(lst):\n",
    "  return list(set(lst))"
   ]
  },
  {
   "cell_type": "code",
   "execution_count": 19,
   "id": "be6eaead-9e78-4bbb-b3e1-2af5ff5312b6",
   "metadata": {},
   "outputs": [
    {
     "name": "stdout",
     "output_type": "stream",
     "text": [
      "Sample List: [1, 2, 3, 3, 3, 3, 4, 5]\n",
      "Unique List: [1, 2, 3, 4, 5]\n"
     ]
    }
   ],
   "source": [
    "sample_list = [1, 2, 3, 3, 3, 3, 4, 5]\n",
    "unique_list = unique_elements(sample_list)\n",
    "print(\"Sample List:\", sample_list)\n",
    "print(\"Unique List:\", unique_list)"
   ]
  },
  {
   "cell_type": "markdown",
   "id": "3da92245-c848-4c23-ba6a-b67b4bda5dab",
   "metadata": {},
   "source": [
    "9. Write a Python function that takes a number as a parameter and checks \n",
    "whether the number is prime or not. \n",
    "Note : A prime number (or a prime) is a natural number greater than 1 and that \n",
    "has no positive divisors other than 1 and itself. "
   ]
  },
  {
   "cell_type": "code",
   "execution_count": 27,
   "id": "d0a72438-d460-4da7-920f-11163ae4856d",
   "metadata": {},
   "outputs": [],
   "source": [
    "def is_prime(number):\n",
    "    if number <= 1:\n",
    "        return False\n",
    "    for i in range(2, int(number**0.5) + 1):\n",
    "        if number % i == 0:\n",
    "              return False\n",
    "    return True"
   ]
  },
  {
   "cell_type": "code",
   "execution_count": 52,
   "id": "7a72525b-939a-4103-b25e-08a2b6e57946",
   "metadata": {},
   "outputs": [
    {
     "name": "stdout",
     "output_type": "stream",
     "text": [
      "223 is a prime number.\n"
     ]
    }
   ],
   "source": [
    "num = 223\n",
    "if is_prime(num):\n",
    "  print(f\"{num} is a prime number.\")\n",
    "else:\n",
    "  print(f\"{num} is not a prime number.\")"
   ]
  },
  {
   "cell_type": "markdown",
   "id": "b1d9ebc9-5e21-4549-b3b5-b9f6c9689437",
   "metadata": {},
   "source": [
    "10. Write a Python program to print the even numbers from a given list. \n",
    "Sample List : [1, 2, 3, 4, 5, 6, 7, 8, 9]\n",
    "Expected Result : [2, 4, 6, 8] "
   ]
  },
  {
   "cell_type": "code",
   "execution_count": 36,
   "id": "a1ee1693-b77b-4bbb-8de6-6f939dc51b82",
   "metadata": {},
   "outputs": [],
   "source": [
    "def even_numbers(lst):\n",
    "    even_numbers = []\n",
    "    for num in lst:\n",
    "        if num % 2 == 0:\n",
    "            even_numbers.append(num)\n",
    "    return even_numbers"
   ]
  },
  {
   "cell_type": "code",
   "execution_count": 37,
   "id": "fdd7508a-e5b7-4b5a-989e-4f18305a1c62",
   "metadata": {},
   "outputs": [
    {
     "name": "stdout",
     "output_type": "stream",
     "text": [
      "Sample List: [1, 2, 3, 4, 5, 6, 7, 8, 9]\n",
      "Even Numbers: [2, 4, 6, 8]\n"
     ]
    }
   ],
   "source": [
    "sample_list = [1, 2, 3, 4, 5, 6, 7, 8, 9]\n",
    "even_numbers_list = even_numbers(sample_list)\n",
    "print(\"Sample List:\", sample_list)\n",
    "print(\"Even Numbers:\", even_numbers_list)  # Output: Even Numbers: [2, 4, 6, 8]"
   ]
  },
  {
   "cell_type": "markdown",
   "id": "de411114-afae-4390-9457-51ab0ab739e0",
   "metadata": {},
   "source": [
    "11. Write a Python function to check whether a number is \"Perfect\" or not.\n",
    "A perfect number is a positive integer that is equal to the sum of its proper positive divisors, that is, the sum of its \n",
    "positive divisors excluding the number itself (also known as its aliquot sum). Equivalently, a perfect number is a number that is half the sum of all of its positive divisors (including itself). \n",
    "Example : The first perfect number is 6, because 1, 2, and 3 are its proper positive \n",
    "divisors, and 1 + 2 + 3 = 6. Equivalently, the number 6 is equal to half the sum of \n",
    "all its positive divisors: ( 1 + 2 + 3 + 6 ) / 2 = 6. The next perfect number is 28 = 1 + \n",
    "2 + 4 + 7 + 14. This is followed by the perfect numbers 496 and 8128. "
   ]
  },
  {
   "cell_type": "code",
   "execution_count": 39,
   "id": "613314d1-5a04-44cd-8f35-1f786eec4fd9",
   "metadata": {},
   "outputs": [],
   "source": [
    "def is_perfect_number(number):\n",
    "    if number <= 0:\n",
    "        return False\n",
    "    sum_of_divisors = 0\n",
    "    for i in range(1, number):\n",
    "        if number % i == 0:\n",
    "            sum_of_divisors += i\n",
    "    return sum_of_divisors == number"
   ]
  },
  {
   "cell_type": "code",
   "execution_count": 44,
   "id": "0c68a6a0-94a5-4c7a-8c20-42259992a0e6",
   "metadata": {},
   "outputs": [
    {
     "name": "stdout",
     "output_type": "stream",
     "text": [
      "12 is not a perfect number.\n"
     ]
    }
   ],
   "source": [
    "num = 12\n",
    "if is_perfect_number(num):\n",
    "  print(f\"{num} is a perfect number.\")\n",
    "else:\n",
    "  print(f\"{num} is not a perfect number.\")"
   ]
  },
  {
   "cell_type": "markdown",
   "id": "c4f7338d-1282-4091-b833-e135e5ddea03",
   "metadata": {},
   "source": [
    "12. Write a Python function that checks whether a passed string is a palindrome \n",
    "or not. \n",
    "Note: A palindrome is a word, phrase, or sequence that reads the same backward \n",
    "as forward, e.g., madam or nurses run. "
   ]
  },
  {
   "cell_type": "code",
   "execution_count": 46,
   "id": "09d59451-661c-4474-8507-d61fe215bdeb",
   "metadata": {},
   "outputs": [],
   "source": [
    "def is_palindrome(string):\n",
    "    clean_string = string.replace(\" \", \"\").lower()\n",
    "    reversed_string = clean_string[::-1]\n",
    "    return clean_string == reversed_string"
   ]
  },
  {
   "cell_type": "code",
   "execution_count": 47,
   "id": "3e737ee3-ad46-4a74-870a-342885aad3aa",
   "metadata": {},
   "outputs": [
    {
     "name": "stdout",
     "output_type": "stream",
     "text": [
      "racecar is a palindrome.\n",
      "A man a plan a canal Panama is a palindrome.\n"
     ]
    }
   ],
   "source": [
    "string1 = \"racecar\"\n",
    "string2 = \"A man a plan a canal Panama\"\n",
    "\n",
    "if is_palindrome(string1):\n",
    "  print(f\"{string1} is a palindrome.\")\n",
    "else:\n",
    "  print(f\"{string1} is not a palindrome.\")\n",
    "\n",
    "if is_palindrome(string2):\n",
    "  print(f\"{string2} is a palindrome.\")\n",
    "else:\n",
    "  print(f\"{string2} is not a palindrome.\")"
   ]
  },
  {
   "cell_type": "markdown",
   "id": "00a9407d-262f-4115-9a9b-d9c9068b81e3",
   "metadata": {},
   "source": [
    "# FUNCTIONS ASSIGNMENT 2"
   ]
  },
  {
   "cell_type": "markdown",
   "id": "4ddef56b-a528-49e7-8bc7-ddddac31df89",
   "metadata": {},
   "source": [
    "Task1: \n",
    "You need to write a function in python that return all such numbers which are divisible by 7 but are not a multiple of 5, \n",
    "between 2000 and 3200 (both included). \n",
    "Return the obtained numbers in a comma-separated sequence on a single line."
   ]
  },
  {
   "cell_type": "code",
   "execution_count": 1,
   "id": "fca3337e-1bb5-458b-9f74-cb520156ac21",
   "metadata": {},
   "outputs": [],
   "source": [
    "def multiple_of_7():\n",
    "    list=[]\n",
    "    for i in range(2000,3201):\n",
    "        if i%7==0:\n",
    "            list.append(str(i))\n",
    "    return \",\".join(list)"
   ]
  },
  {
   "cell_type": "code",
   "execution_count": 2,
   "id": "13518d4c-5472-400d-b0f1-12135ddf4e3a",
   "metadata": {},
   "outputs": [
    {
     "data": {
      "text/plain": [
       "'2002,2009,2016,2023,2030,2037,2044,2051,2058,2065,2072,2079,2086,2093,2100,2107,2114,2121,2128,2135,2142,2149,2156,2163,2170,2177,2184,2191,2198,2205,2212,2219,2226,2233,2240,2247,2254,2261,2268,2275,2282,2289,2296,2303,2310,2317,2324,2331,2338,2345,2352,2359,2366,2373,2380,2387,2394,2401,2408,2415,2422,2429,2436,2443,2450,2457,2464,2471,2478,2485,2492,2499,2506,2513,2520,2527,2534,2541,2548,2555,2562,2569,2576,2583,2590,2597,2604,2611,2618,2625,2632,2639,2646,2653,2660,2667,2674,2681,2688,2695,2702,2709,2716,2723,2730,2737,2744,2751,2758,2765,2772,2779,2786,2793,2800,2807,2814,2821,2828,2835,2842,2849,2856,2863,2870,2877,2884,2891,2898,2905,2912,2919,2926,2933,2940,2947,2954,2961,2968,2975,2982,2989,2996,3003,3010,3017,3024,3031,3038,3045,3052,3059,3066,3073,3080,3087,3094,3101,3108,3115,3122,3129,3136,3143,3150,3157,3164,3171,3178,3185,3192,3199'"
      ]
     },
     "execution_count": 2,
     "metadata": {},
     "output_type": "execute_result"
    }
   ],
   "source": [
    "multiple_of_7()"
   ]
  },
  {
   "cell_type": "markdown",
   "id": "1169c133-ddf8-4a5b-a837-3877c0732122",
   "metadata": {},
   "source": [
    "Task2:\n",
    "You need code a function that calculates and returns the value according to the given formula: \n",
    "P = [(2 * A * B)/C]**1/2 \n",
    "Following are the fixed values of A and B: \n",
    "A is 50. B is 30. \n",
    "The values of the literal C should be taken as console input to your program in a comma-separated sequence. \n",
    "Example Let us assume the following comma separated input sequence is given to the program: \n",
    "100,150,180 \n",
    "The output of the program should be: \n",
    "18,22,24 "
   ]
  },
  {
   "cell_type": "code",
   "execution_count": 5,
   "id": "597d6edd-4fae-46c1-bead-67e0d756b23b",
   "metadata": {},
   "outputs": [
    {
     "name": "stdin",
     "output_type": "stream",
     "text": [
      "Enter the values of C as comma-separated sequence:  1\n"
     ]
    },
    {
     "name": "stdout",
     "output_type": "stream",
     "text": [
      "54\n"
     ]
    }
   ],
   "source": [
    "import math\n",
    "def calculate_values(C):\n",
    "    A = 50\n",
    "    B = 30\n",
    "    return [int(math.sqrt((2 * A * B) / c)) for c in C]\n",
    "# Example usage\n",
    "C_input = input(\"Enter the values of C as comma-separated sequence: \")\n",
    "C_values = [int(c) for c in C_input.split(',')]\n",
    "output = calculate_values(C_values)\n",
    "print(\", \".join(map(str, output)))"
   ]
  },
  {
   "cell_type": "markdown",
   "id": "72d6d9d6-9e20-4b4a-b0b0-da0a031c95f5",
   "metadata": {},
   "source": [
    "Task3: \n",
    "You need to write a function that takes a comma separated sequence of words as \n",
    "input and prints the words in a comma-separated sequence after sorting them \n",
    "alphabetically. \n",
    "Suppose the following input is supplied to the program: \n",
    "without,hello,bag,world \n",
    "Then, the output should be: \n",
    "bag,hello,without,world "
   ]
  },
  {
   "cell_type": "code",
   "execution_count": 6,
   "id": "50dcc474-b7f0-408c-9961-fb07f4c1b418",
   "metadata": {},
   "outputs": [],
   "source": [
    "def sort_words():\n",
    "    words = input(\"Enter a comma-separated sequence of words: \")\n",
    "    word_list = words.split(',')\n",
    "    sorted_word_list = sorted(word_list)\n",
    "    sorted_words = ','.join(sorted_word_list)\n",
    "    print(sorted_words)"
   ]
  },
  {
   "cell_type": "code",
   "execution_count": 7,
   "id": "8934e19d-90f9-475b-b3fa-dc3d3d2b479b",
   "metadata": {},
   "outputs": [
    {
     "name": "stdin",
     "output_type": "stream",
     "text": [
      "Enter a comma-separated sequence of words:  this,my,bag,is\n"
     ]
    },
    {
     "name": "stdout",
     "output_type": "stream",
     "text": [
      "bag,is,my,this\n"
     ]
    }
   ],
   "source": [
    "sort_words()"
   ]
  },
  {
   "cell_type": "markdown",
   "id": "affb2e15-eb90-4a64-a5bc-cf26afa02f48",
   "metadata": {},
   "source": [
    "Task4: \n",
    "You need to write a program that takes sequence of lines as input and prints the \n",
    "lines after making all characters in the sentence capitalized. \n",
    "Suppose the following input is supplied to the program: \n",
    "Hello world \n",
    "Practice makes perfect \n",
    "Then, the output should be: \n",
    "HELLO WORLD \n",
    "PRACTICE MAKES PERFECT "
   ]
  },
  {
   "cell_type": "code",
   "execution_count": 8,
   "id": "137c0fd9-3c5a-475b-b2d1-d34a9f5a45d5",
   "metadata": {},
   "outputs": [],
   "source": [
    "def capitalize_lines():\n",
    "    lines = []\n",
    "    while True:\n",
    "        line = input()\n",
    "        if not line:\n",
    "            break\n",
    "        lines.append(line.upper())\n",
    "    \n",
    "    for line in lines:\n",
    "        print(line)"
   ]
  },
  {
   "cell_type": "markdown",
   "id": "0ed3f378-8ef0-431e-b493-ab413471826b",
   "metadata": {},
   "source": [
    "print(\"Enter your lines (press Enter twice to stop):\")\n",
    "capitalize_lines()"
   ]
  },
  {
   "cell_type": "markdown",
   "id": "139581be-2513-4371-ad6e-122a1a6b2fac",
   "metadata": {},
   "source": [
    "Task5: \n",
    "You need to write a function that counts the number of vowels in a given \n",
    "sentence as input from console. \n",
    "Suppose the following input is supplied to the program: \n",
    "Hello world \n",
    "Practice makes perfect \n",
    "Then, the output should be: \n",
    "a appeared 2 times \n",
    "e appeared 5 times \n",
    "i appeared 1 time \n",
    "o appeared 2 times \n",
    "u appeared 0 time"
   ]
  },
  {
   "cell_type": "code",
   "execution_count": 12,
   "id": "9c433702-7ece-425a-a762-0ad7eda002f7",
   "metadata": {},
   "outputs": [],
   "source": [
    "def count_vowels(sentence):\n",
    "    vowels = 'aeiou'\n",
    "    vowel_count = {v: 0 for v in vowels}\n",
    "    sentence = sentence.lower()\n",
    "\n",
    "    for char in sentence:\n",
    "        if char in vowels:\n",
    "            vowel_count[char] += 1\n",
    "    for vowel in vowels:\n",
    "        count = vowel_count[vowel]\n",
    "        if count == 1:\n",
    "            print(f\"{vowel} appeared {count} time\")\n",
    "        else:\n",
    "            print(f\"{vowel} appeared {count} times\")"
   ]
  },
  {
   "cell_type": "code",
   "execution_count": 13,
   "id": "c5663cc7-0d02-4ab4-8189-41c2d6c3a767",
   "metadata": {},
   "outputs": [
    {
     "name": "stdin",
     "output_type": "stream",
     "text": [
      "Enter a sentence:  hello world\n"
     ]
    },
    {
     "name": "stdout",
     "output_type": "stream",
     "text": [
      "a appeared 0 times\n",
      "e appeared 1 time\n",
      "i appeared 0 times\n",
      "o appeared 2 times\n",
      "u appeared 0 times\n"
     ]
    }
   ],
   "source": [
    "input_sentence = input(\"Enter a sentence: \")\n",
    "count_vowels(input_sentence)"
   ]
  },
  {
   "cell_type": "markdown",
   "id": "d6d9e7aa-fc19-44f0-a107-199c3e9619d4",
   "metadata": {},
   "source": [
    "Task6: \n",
    "You need write a function that traces and makes a list of all such numbers \n",
    "from1000 to 3000 in which all the digits are even numbers. "
   ]
  },
  {
   "cell_type": "code",
   "execution_count": 14,
   "id": "ee31e55d-99d0-487a-84d0-396599463ad7",
   "metadata": {},
   "outputs": [],
   "source": [
    "def even_no():\n",
    "    list=[]\n",
    "    for i in range(1000,3001):\n",
    "        if i%2==0:\n",
    "            list.append(str(i))\n",
    "    return \",\".join(list)"
   ]
  },
  {
   "cell_type": "code",
   "execution_count": 15,
   "id": "3c197bf6-007b-4e60-a16b-797659818c36",
   "metadata": {},
   "outputs": [
    {
     "data": {
      "text/plain": [
       "'1000,1002,1004,1006,1008,1010,1012,1014,1016,1018,1020,1022,1024,1026,1028,1030,1032,1034,1036,1038,1040,1042,1044,1046,1048,1050,1052,1054,1056,1058,1060,1062,1064,1066,1068,1070,1072,1074,1076,1078,1080,1082,1084,1086,1088,1090,1092,1094,1096,1098,1100,1102,1104,1106,1108,1110,1112,1114,1116,1118,1120,1122,1124,1126,1128,1130,1132,1134,1136,1138,1140,1142,1144,1146,1148,1150,1152,1154,1156,1158,1160,1162,1164,1166,1168,1170,1172,1174,1176,1178,1180,1182,1184,1186,1188,1190,1192,1194,1196,1198,1200,1202,1204,1206,1208,1210,1212,1214,1216,1218,1220,1222,1224,1226,1228,1230,1232,1234,1236,1238,1240,1242,1244,1246,1248,1250,1252,1254,1256,1258,1260,1262,1264,1266,1268,1270,1272,1274,1276,1278,1280,1282,1284,1286,1288,1290,1292,1294,1296,1298,1300,1302,1304,1306,1308,1310,1312,1314,1316,1318,1320,1322,1324,1326,1328,1330,1332,1334,1336,1338,1340,1342,1344,1346,1348,1350,1352,1354,1356,1358,1360,1362,1364,1366,1368,1370,1372,1374,1376,1378,1380,1382,1384,1386,1388,1390,1392,1394,1396,1398,1400,1402,1404,1406,1408,1410,1412,1414,1416,1418,1420,1422,1424,1426,1428,1430,1432,1434,1436,1438,1440,1442,1444,1446,1448,1450,1452,1454,1456,1458,1460,1462,1464,1466,1468,1470,1472,1474,1476,1478,1480,1482,1484,1486,1488,1490,1492,1494,1496,1498,1500,1502,1504,1506,1508,1510,1512,1514,1516,1518,1520,1522,1524,1526,1528,1530,1532,1534,1536,1538,1540,1542,1544,1546,1548,1550,1552,1554,1556,1558,1560,1562,1564,1566,1568,1570,1572,1574,1576,1578,1580,1582,1584,1586,1588,1590,1592,1594,1596,1598,1600,1602,1604,1606,1608,1610,1612,1614,1616,1618,1620,1622,1624,1626,1628,1630,1632,1634,1636,1638,1640,1642,1644,1646,1648,1650,1652,1654,1656,1658,1660,1662,1664,1666,1668,1670,1672,1674,1676,1678,1680,1682,1684,1686,1688,1690,1692,1694,1696,1698,1700,1702,1704,1706,1708,1710,1712,1714,1716,1718,1720,1722,1724,1726,1728,1730,1732,1734,1736,1738,1740,1742,1744,1746,1748,1750,1752,1754,1756,1758,1760,1762,1764,1766,1768,1770,1772,1774,1776,1778,1780,1782,1784,1786,1788,1790,1792,1794,1796,1798,1800,1802,1804,1806,1808,1810,1812,1814,1816,1818,1820,1822,1824,1826,1828,1830,1832,1834,1836,1838,1840,1842,1844,1846,1848,1850,1852,1854,1856,1858,1860,1862,1864,1866,1868,1870,1872,1874,1876,1878,1880,1882,1884,1886,1888,1890,1892,1894,1896,1898,1900,1902,1904,1906,1908,1910,1912,1914,1916,1918,1920,1922,1924,1926,1928,1930,1932,1934,1936,1938,1940,1942,1944,1946,1948,1950,1952,1954,1956,1958,1960,1962,1964,1966,1968,1970,1972,1974,1976,1978,1980,1982,1984,1986,1988,1990,1992,1994,1996,1998,2000,2002,2004,2006,2008,2010,2012,2014,2016,2018,2020,2022,2024,2026,2028,2030,2032,2034,2036,2038,2040,2042,2044,2046,2048,2050,2052,2054,2056,2058,2060,2062,2064,2066,2068,2070,2072,2074,2076,2078,2080,2082,2084,2086,2088,2090,2092,2094,2096,2098,2100,2102,2104,2106,2108,2110,2112,2114,2116,2118,2120,2122,2124,2126,2128,2130,2132,2134,2136,2138,2140,2142,2144,2146,2148,2150,2152,2154,2156,2158,2160,2162,2164,2166,2168,2170,2172,2174,2176,2178,2180,2182,2184,2186,2188,2190,2192,2194,2196,2198,2200,2202,2204,2206,2208,2210,2212,2214,2216,2218,2220,2222,2224,2226,2228,2230,2232,2234,2236,2238,2240,2242,2244,2246,2248,2250,2252,2254,2256,2258,2260,2262,2264,2266,2268,2270,2272,2274,2276,2278,2280,2282,2284,2286,2288,2290,2292,2294,2296,2298,2300,2302,2304,2306,2308,2310,2312,2314,2316,2318,2320,2322,2324,2326,2328,2330,2332,2334,2336,2338,2340,2342,2344,2346,2348,2350,2352,2354,2356,2358,2360,2362,2364,2366,2368,2370,2372,2374,2376,2378,2380,2382,2384,2386,2388,2390,2392,2394,2396,2398,2400,2402,2404,2406,2408,2410,2412,2414,2416,2418,2420,2422,2424,2426,2428,2430,2432,2434,2436,2438,2440,2442,2444,2446,2448,2450,2452,2454,2456,2458,2460,2462,2464,2466,2468,2470,2472,2474,2476,2478,2480,2482,2484,2486,2488,2490,2492,2494,2496,2498,2500,2502,2504,2506,2508,2510,2512,2514,2516,2518,2520,2522,2524,2526,2528,2530,2532,2534,2536,2538,2540,2542,2544,2546,2548,2550,2552,2554,2556,2558,2560,2562,2564,2566,2568,2570,2572,2574,2576,2578,2580,2582,2584,2586,2588,2590,2592,2594,2596,2598,2600,2602,2604,2606,2608,2610,2612,2614,2616,2618,2620,2622,2624,2626,2628,2630,2632,2634,2636,2638,2640,2642,2644,2646,2648,2650,2652,2654,2656,2658,2660,2662,2664,2666,2668,2670,2672,2674,2676,2678,2680,2682,2684,2686,2688,2690,2692,2694,2696,2698,2700,2702,2704,2706,2708,2710,2712,2714,2716,2718,2720,2722,2724,2726,2728,2730,2732,2734,2736,2738,2740,2742,2744,2746,2748,2750,2752,2754,2756,2758,2760,2762,2764,2766,2768,2770,2772,2774,2776,2778,2780,2782,2784,2786,2788,2790,2792,2794,2796,2798,2800,2802,2804,2806,2808,2810,2812,2814,2816,2818,2820,2822,2824,2826,2828,2830,2832,2834,2836,2838,2840,2842,2844,2846,2848,2850,2852,2854,2856,2858,2860,2862,2864,2866,2868,2870,2872,2874,2876,2878,2880,2882,2884,2886,2888,2890,2892,2894,2896,2898,2900,2902,2904,2906,2908,2910,2912,2914,2916,2918,2920,2922,2924,2926,2928,2930,2932,2934,2936,2938,2940,2942,2944,2946,2948,2950,2952,2954,2956,2958,2960,2962,2964,2966,2968,2970,2972,2974,2976,2978,2980,2982,2984,2986,2988,2990,2992,2994,2996,2998,3000'"
      ]
     },
     "execution_count": 15,
     "metadata": {},
     "output_type": "execute_result"
    }
   ],
   "source": [
    "even_no()"
   ]
  },
  {
   "cell_type": "markdown",
   "id": "5f6593f0-5f6d-43bb-8e42-515bce0213e7",
   "metadata": {},
   "source": [
    "Task7: \n",
    "You need to write a code which accepts a sequence of comma separated 4 digit \n",
    "binary numbers as its input and then check whether they are divisible by 5 or not. \n",
    "The numbers that are divisible by 5 are to be printed in a comma separated \n",
    "sequence. \n",
    "Example: \n",
    "0100,0011,1010,1001 \n",
    "Then the output should be: \n",
    "1010 "
   ]
  },
  {
   "cell_type": "code",
   "execution_count": 17,
   "id": "72d57028-de36-4b52-b720-0ed36ffe880e",
   "metadata": {},
   "outputs": [],
   "source": [
    "def divisible_by_five(binary_numbers):\n",
    "    divisible_numbers = []\n",
    "    for number in binary_numbers.split(','):\n",
    "        decimal_number = int(number, 2)  # Convert binary to decimal\n",
    "        if decimal_number % 5 == 0:\n",
    "            divisible_numbers.append(number)\n",
    "    return ','.join(divisible_numbers)"
   ]
  },
  {
   "cell_type": "code",
   "execution_count": 18,
   "id": "9569d536-c5ca-4d70-a6de-f6964378b445",
   "metadata": {},
   "outputs": [
    {
     "name": "stdin",
     "output_type": "stream",
     "text": [
      "Enter binary numbers (comma-separated):  1111,1100,1001,1110\n"
     ]
    },
    {
     "name": "stdout",
     "output_type": "stream",
     "text": [
      "Divisible by 5: 1111\n"
     ]
    }
   ],
   "source": [
    "input_string = input(\"Enter binary numbers (comma-separated): \")\n",
    "result = divisible_by_five(input_string)\n",
    "print(\"Divisible by 5:\", result)"
   ]
  },
  {
   "cell_type": "markdown",
   "id": "e69b3ca6-f5bd-4128-9044-6ace2e167139",
   "metadata": {},
   "source": [
    "Task8: \n",
    "Write a program that accepts a sentence and calculate the number of letters and digits. \n",
    "Suppose the following input is supplied to the program: \n",
    "hello world! 123 \n",
    "Then, the output should be: \n",
    "LETTERS 10 \n",
    "DIGITS 3"
   ]
  },
  {
   "cell_type": "code",
   "execution_count": 19,
   "id": "11fa2dad-0563-4c24-99bb-6a117c5fdf34",
   "metadata": {},
   "outputs": [],
   "source": [
    "def count_letters_and_digits(sentence):\n",
    "    letters = 0\n",
    "    digits = 0\n",
    "    for char in sentence:\n",
    "        if char.isalpha():\n",
    "            letters += 1\n",
    "        elif char.isdigit():\n",
    "            digits += 1\n",
    "    return letters, digits"
   ]
  },
  {
   "cell_type": "code",
   "execution_count": 20,
   "id": "82397869-fda7-4618-92fd-a03a242b85d3",
   "metadata": {},
   "outputs": [
    {
     "name": "stdin",
     "output_type": "stream",
     "text": [
      "Enter a sentence:  hello world! 123\n"
     ]
    },
    {
     "name": "stdout",
     "output_type": "stream",
     "text": [
      "LETTERS 10\n",
      "DIGITS 3\n"
     ]
    }
   ],
   "source": [
    "sentence = input(\"Enter a sentence: \")\n",
    "letters, digits = count_letters_and_digits(sentence)\n",
    "print(f\"LETTERS {letters}\")\n",
    "print(f\"DIGITS {digits}\")"
   ]
  }
 ],
 "metadata": {
  "kernelspec": {
   "display_name": "Python 3 (ipykernel)",
   "language": "python",
   "name": "python3"
  },
  "language_info": {
   "codemirror_mode": {
    "name": "ipython",
    "version": 3
   },
   "file_extension": ".py",
   "mimetype": "text/x-python",
   "name": "python",
   "nbconvert_exporter": "python",
   "pygments_lexer": "ipython3",
   "version": "3.12.5"
  }
 },
 "nbformat": 4,
 "nbformat_minor": 5
}
