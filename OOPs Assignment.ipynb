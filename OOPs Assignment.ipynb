{
 "cells": [
  {
   "cell_type": "markdown",
   "id": "2371d6ae-4620-4d89-8e0c-2139048a7d62",
   "metadata": {},
   "source": [
    "1. Write a Python program to create a class called \"Person\" with properties for name, age and country. Include a method to display the person's details. Create two instances of the 'Person' class and display their details. "
   ]
  },
  {
   "cell_type": "code",
   "execution_count": 4,
   "id": "fed81b42-730b-4e07-8297-50e65a27a1ff",
   "metadata": {},
   "outputs": [],
   "source": [
    "class Person:\n",
    "    def __init__(self, name, age, country):\n",
    "        self.name = name\n",
    "        self.age = age\n",
    "        self.country = country\n",
    "\n",
    "    def details(self):\n",
    "        print(f\"Name: {self.name}\")\n",
    "        print(f\"Age: {self.age}\")\n",
    "        print(f\"Country: {self.country}\")"
   ]
  },
  {
   "cell_type": "code",
   "execution_count": 6,
   "id": "a8284521-f3f0-4e3d-bfa9-3ca291350487",
   "metadata": {},
   "outputs": [
    {
     "name": "stdout",
     "output_type": "stream",
     "text": [
      "Name: Ahmed\n",
      "Age: 20\n",
      "Country: Indonasia\n"
     ]
    }
   ],
   "source": [
    "Person1 = Person(\"Ahmed\", 20, \"Indonasia\")\n",
    "Person1.details()"
   ]
  },
  {
   "cell_type": "markdown",
   "id": "7104916f-2f97-4c35-8408-ffcad2acd8e6",
   "metadata": {},
   "source": [
    "2. Write a Python program to create a class called 'Rectangle' with properties for width and height. Include two methods to calculate \n",
    "rectangle area and perimeter. Create an instance of the 'Rectangle' class and calculate its area and perimeter. "
   ]
  },
  {
   "cell_type": "code",
   "execution_count": 10,
   "id": "18d2f81e-8497-4f8b-9ea9-b0a7a0677574",
   "metadata": {},
   "outputs": [],
   "source": [
    "class Rectangle:\n",
    "    def __init__(self, width, height):\n",
    "        self.width = width\n",
    "        self.height = height\n",
    "\n",
    "    def area_parameter(self):\n",
    "        area = self.width*self.height\n",
    "        perimeter = 2*(self.width*self.height)\n",
    "        print(f\"Area is {area}\")\n",
    "        print(f\"Parameter is {perimeter}\")"
   ]
  },
  {
   "cell_type": "code",
   "execution_count": 9,
   "id": "9d0e6ca1-674b-426f-811d-94c869de3ee1",
   "metadata": {},
   "outputs": [
    {
     "name": "stdout",
     "output_type": "stream",
     "text": [
      "Area is 30\n",
      "Parameter is 60\n"
     ]
    }
   ],
   "source": [
    "Rect1 = Rectangle(5, 6)\n",
    "Rect1.area_parameter()"
   ]
  },
  {
   "cell_type": "markdown",
   "id": "3e2e3afb-2c01-4093-a710-b259a61a35c4",
   "metadata": {},
   "source": [
    "3. Write a Python program that creates a class called 'Vehicle' with properties for make, model, and year. Include a method to display \n",
    "vehicle details. Create a subclass called 'Car' that inherits from the 'Vehicle' class and includes an additional property for the \n",
    "number of doors. Override the display method to include the number of doors. "
   ]
  },
  {
   "cell_type": "code",
   "execution_count": 26,
   "id": "a7e57dc0-3057-411d-a185-9551f2f4a0dd",
   "metadata": {},
   "outputs": [],
   "source": [
    "class Vehicle:\n",
    "    def __init__(self,make,model,year):\n",
    "        self.make = make\n",
    "        self.model = model\n",
    "        self.year = year\n",
    "\n",
    "    def details(self):\n",
    "        print(f\"Make: {self.make}\")\n",
    "        print(f\"Model: {self.model}\")\n",
    "        print(f\"Year: {self.year}\")\n",
    "\n",
    "class Car(Vehicle):\n",
    "    def __init__(self,make,model,year,doors):\n",
    "        super().__init__(make,model,year)\n",
    "        self.doors = doors\n",
    "\n",
    "    def details(self):\n",
    "        super().details()\n",
    "        print(f\"Number of Doors: {self.doors}\")"
   ]
  },
  {
   "cell_type": "code",
   "execution_count": 27,
   "id": "9cea64f4-6884-4fbe-b5a6-572b419cceca",
   "metadata": {},
   "outputs": [
    {
     "name": "stdout",
     "output_type": "stream",
     "text": [
      "Make: Toyota\n",
      "Model: Camry\n",
      "Year: 2023\n",
      "Number of Doors: 4\n"
     ]
    }
   ],
   "source": [
    "my_car = Car(\"Toyota\", \"Camry\", 2023, 4)\n",
    "my_car.details()"
   ]
  },
  {
   "cell_type": "markdown",
   "id": "bde92150-54da-45e0-ae38-2682e74a06c6",
   "metadata": {},
   "source": [
    "4. Write a Python program that creates a class called \"BankAccount\" with properties for account number and balance. Include methods to \n",
    "deposit and withdraw money from the account. Create some instances of the \"BankAccount\" class, deposit some money, and withdraw a \n",
    "portion of it. "
   ]
  },
  {
   "cell_type": "code",
   "execution_count": 28,
   "id": "81edeb03-7424-43e3-8db1-546621944930",
   "metadata": {},
   "outputs": [],
   "source": [
    "class BankAcc:\n",
    "    def __init__(self, acc_no, balance):\n",
    "        self.acc_no = acc_no\n",
    "        self.balance = balance\n",
    "\n",
    "    def deposit(self, amount):\n",
    "        if amount > 0:\n",
    "            self.balance += amount\n",
    "            print(f\"Deposited ${amount:.2f}. New balance: ${self.balance:.2f}\")\n",
    "        else:\n",
    "            print(\"Invalid deposit amount.\")\n",
    "    def withdraw(self, amount):\n",
    "        if amount > 0 and amount <= self.balance:\n",
    "            self.balance -= amount\n",
    "            print(f\"Withdrew ${amount:.2f}. New balance: ${self.balance:.2f}\")\n",
    "        elif amount > self.balance:\n",
    "            print(\"Insufficient funds.\")\n",
    "        else:\n",
    "            print(\"Invalid withdrawal amount.\")"
   ]
  },
  {
   "cell_type": "code",
   "execution_count": 33,
   "id": "5a473203-636e-4c70-8597-1550176b4a54",
   "metadata": {},
   "outputs": [
    {
     "name": "stdout",
     "output_type": "stream",
     "text": [
      "Deposited $500.00. New balance: $500.00\n",
      "Deposited $2000.00. New balance: $2000.00\n",
      "Withdrew $200.00. New balance: $300.00\n",
      "Withdrew $1500.00. New balance: $500.00\n"
     ]
    }
   ],
   "source": [
    "account1 = BankAcc(\"12345\", 0)\n",
    "account2 = BankAcc(\"67890\", 0)\n",
    "\n",
    "account1.deposit(500)\n",
    "account2.deposit(2000)\n",
    "\n",
    "account1.withdraw(200)\n",
    "account2.withdraw(1500)\n"
   ]
  },
  {
   "cell_type": "markdown",
   "id": "29f8ce50-9750-4040-9a97-b2274a906f4c",
   "metadata": {},
   "source": [
    "5. Write a Python program that creates a class called 'Shape' with a method to calculate the area. Create two subclasses, 'Circle' and \n",
    "'Triangle', that inherit from the 'Shape' class and override the area calculation method. Create an instance of the 'Circle' class and \n",
    "calculate its area. Similarly, do the same for the 'Triangle' class. "
   ]
  },
  {
   "cell_type": "code",
   "execution_count": 46,
   "id": "34aa8768-883a-4c9b-8de3-5ff502e070cb",
   "metadata": {},
   "outputs": [],
   "source": [
    "class Shape:\n",
    "    def calc_area(self):\n",
    "        pass\n",
    "\n",
    "class Circle(Shape):\n",
    "    def __init__(self,radius):\n",
    "        self.radius = radius\n",
    "    def calc_area(self):\n",
    "        return 3.14*self.radius**2\n",
    "\n",
    "class Triangle(Shape):\n",
    "    def __init__(self,base,height):\n",
    "        self.base = base\n",
    "        self.height = height\n",
    "    def calc_area(self):\n",
    "        return 0.5*(self.base*self.height)\n"
   ]
  },
  {
   "cell_type": "code",
   "execution_count": 47,
   "id": "af1b3d9f-7898-4181-9cc9-c3bb68ef0fb7",
   "metadata": {},
   "outputs": [
    {
     "name": "stdout",
     "output_type": "stream",
     "text": [
      "Area of the circle: 78.5\n",
      "Area of the triangle: 12.0\n"
     ]
    }
   ],
   "source": [
    "circle = Circle(5)\n",
    "circle_area = circle.calc_area()  # Call the method using the instance\n",
    "print(f\"Area of the circle: {circle_area}\")\n",
    "\n",
    "triangle = Triangle(4, 6)\n",
    "triangle_area = triangle.calc_area()  # Call the method using the instance\n",
    "print(f\"Area of the triangle: {triangle_area}\")"
   ]
  },
  {
   "cell_type": "markdown",
   "id": "f6ab7d06-1705-4c26-8ee6-f73511f2d437",
   "metadata": {},
   "source": [
    "6. Write a Python program that creates a class called 'Employee' with properties for name and salary. Include a method to calculate \n",
    "annual salary. Create a subclass called 'Manager' that inherits from the 'Employee' class and adds an additional property for \n",
    "department. Override the annual salary calculation method to include bonuses for managers. Create two instances of the 'Manager' class \n",
    "and calculate their annual salary. "
   ]
  },
  {
   "cell_type": "code",
   "execution_count": 54,
   "id": "3a35e6d0-e5df-4e58-aec7-877b00045399",
   "metadata": {},
   "outputs": [],
   "source": [
    "class Employee:\n",
    "    def __init__(self, name, salary):\n",
    "        self.name = name\n",
    "        self.monthly_salary = salary\n",
    "\n",
    "    def calc_ann_salary(self):\n",
    "        return self.monthly_salary * 12\n",
    "\n",
    "class Manager(Employee):\n",
    "    def __init__(self, name, salary, department):\n",
    "        super().__init__(name, salary)\n",
    "        self.department = department\n",
    "\n",
    "    def calc_ann_salary(self):\n",
    "        base_salary = super().calc_ann_salary()\n",
    "        bonus = base_salary * 0.15\n",
    "        return base_salary + bonus"
   ]
  },
  {
   "cell_type": "code",
   "execution_count": 55,
   "id": "abc33026-e16c-445e-9b3f-02f3df6e1a42",
   "metadata": {},
   "outputs": [
    {
     "name": "stdout",
     "output_type": "stream",
     "text": [
      "Employee: Asghar\n",
      "Annual Salary: $60000\n",
      "Manager: Akbar, Department: Sales\n",
      "Annual Salary: $110400.0\n"
     ]
    }
   ],
   "source": [
    "employee1 = Employee(\"Asghar\", 5000)\n",
    "print(f\"Employee: {employee1.name}\")\n",
    "print(f\"Annual Salary: ${employee1.calc_ann_salary()}\")\n",
    "manager1 = Manager(\"Akbar\", 8000, \"Sales\")\n",
    "print(f\"Manager: {manager1.name}, Department: {manager1.department}\")\n",
    "print(f\"Annual Salary: ${manager1.calc_ann_salary()}\")"
   ]
  },
  {
   "cell_type": "markdown",
   "id": "051b38f4-5a0b-4fbf-bceb-4c0cc2ce6b59",
   "metadata": {},
   "source": [
    "7. Write a Python program that creates a class Book with properties for title, author, and publication year. Include a method to \n",
    "display book details. Create a subclass called Ebook that inherits from the Book class and includes an additional property for book \n",
    "price. Override the display method to include the book price. Create an instance of the Ebook class and display its details. "
   ]
  },
  {
   "cell_type": "code",
   "execution_count": 56,
   "id": "fdec1ef8-22b9-4084-8fad-901841a9c0f6",
   "metadata": {},
   "outputs": [],
   "source": [
    "class Book:\n",
    "    def __init__(self, title, author, pub_year):\n",
    "        self.title = title\n",
    "        self.author = author\n",
    "        self.pub_year = pub_year\n",
    "\n",
    "    def details(self):\n",
    "        print(f\"Title: {self.title}\")\n",
    "        print(f\"Author: {self.author}\")\n",
    "        print(f\"Publication year: {self.pub_year}\")\n",
    "        \n",
    "class EBook(Book):\n",
    "    def __init__(self, title, author, pub_year, book_price):\n",
    "        super().__init__(title, author, pub_year)\n",
    "        self.book_price = book_price\n",
    "\n",
    "    def details(self):\n",
    "        super().details()\n",
    "        print(f\"Book price: {self.book_price}\")"
   ]
  },
  {
   "cell_type": "code",
   "execution_count": 58,
   "id": "c8990d55-a666-40cd-bde1-e0726bc09bb5",
   "metadata": {},
   "outputs": [
    {
     "name": "stdout",
     "output_type": "stream",
     "text": [
      "Title: Bange Dara\n",
      "Author: Allama Iqbal\n",
      "Publication year: 1946\n",
      "Book price: 400\n"
     ]
    }
   ],
   "source": [
    "mybook = EBook(\"Bange Dara\", \"Allama Iqbal\", 1946, 400)\n",
    "mybook.details()"
   ]
  },
  {
   "cell_type": "markdown",
   "id": "59b91464-1b0c-40cb-8f15-ee5561e528c1",
   "metadata": {},
   "source": [
    "8. Write a Python program that creates a class called 'Animal' with properties for species and sound. Include a method to make the \n",
    "animal's sound. Create a subclass called 'Dog' that inherits from the 'Animal' class and adds an additional property for color. \n",
    "Override the make sound method to include the dog's color. Create an instance of the 'Dog' class and make it make its sound. "
   ]
  },
  {
   "cell_type": "code",
   "execution_count": 60,
   "id": "6d0c2631-ea2c-4ca6-bf06-c5b39e6fe09a",
   "metadata": {},
   "outputs": [],
   "source": [
    "class Animal:\n",
    "    def __init__(self, species, sound):\n",
    "        self.species = species\n",
    "        self.sound = sound\n",
    "\n",
    "    def sound(self):\n",
    "        print(\"Making sound:\")\n",
    "        \n",
    "class Dog(Animal):\n",
    "    def __init__(self, species, sound, color):\n",
    "        super().__init__(species, sound)\n",
    "        self.color = color\n",
    "\n",
    "    def sound(self):\n",
    "        super().sound()\n",
    "        print(f\"Making Sound: {self.sound}\")"
   ]
  },
  {
   "cell_type": "code",
   "execution_count": 68,
   "id": "b7f60b5b-9135-4faa-9f4e-6e6f74ab7eb6",
   "metadata": {},
   "outputs": [
    {
     "data": {
      "text/plain": [
       "'Woof'"
      ]
     },
     "execution_count": 68,
     "metadata": {},
     "output_type": "execute_result"
    }
   ],
   "source": [
    "dog = Dog(\"Huskey\", \"Woof\", \"Black\")\n",
    "dog.sound"
   ]
  },
  {
   "cell_type": "markdown",
   "id": "91a3c6f6-77ea-4ad0-b4fc-d7319b90fc47",
   "metadata": {},
   "source": [
    "9. Write a Python program that creates a class called Bank with properties for bank names and branches. Include methods to add a \n",
    "branch, remove a branch, and display all branches. Create an instance of the Bank class and perform operations to add and remove \n",
    "branches. "
   ]
  },
  {
   "cell_type": "code",
   "execution_count": 72,
   "id": "19f80226-2264-4981-a66f-1b98ffad2c6f",
   "metadata": {},
   "outputs": [],
   "source": [
    "class Bank:\n",
    "    def __init__(self, bank_name):\n",
    "        self.bank_name = bank_name\n",
    "        self.branches = []\n",
    "\n",
    "    def add_branch(self, branch_name):\n",
    "        self.branches.append(branch_name)\n",
    "        print(f\"Branch '{branch_name}' added.\")\n",
    "\n",
    "    def remove_branch(self, branch_name):\n",
    "        if branch_name in self.branches:\n",
    "            self.branches.remove(branch_name)\n",
    "            print(f\"Branch '{branch_name}' removed.\")\n",
    "        else:\n",
    "            print(f\"Branch '{branch_name}' not found.\")\n",
    "\n",
    "    def display_branches(self):\n",
    "        print(f\"Branches of {self.bank_name}:\")\n",
    "        for branch in self.branches:\n",
    "            print(f\"- {branch}\")"
   ]
  },
  {
   "cell_type": "code",
   "execution_count": 73,
   "id": "704a00ad-7ded-428b-81bb-6d41e9ad265a",
   "metadata": {},
   "outputs": [
    {
     "name": "stdout",
     "output_type": "stream",
     "text": [
      "Branch 'Karimabad' added.\n",
      "Branch 'Azizabad' added.\n",
      "Branch 'Liaquatabad' added.\n",
      "Branches of UBL Bank:\n",
      "- Karimabad\n",
      "- Azizabad\n",
      "- Liaquatabad\n",
      "Branch 'Liaquatabad' removed.\n",
      "Branches of UBL Bank:\n",
      "- Karimabad\n",
      "- Azizabad\n"
     ]
    }
   ],
   "source": [
    "my_bank = Bank(\"UBL Bank\")\n",
    "my_bank.add_branch(\"Karimabad\")\n",
    "my_bank.add_branch(\"Azizabad\")\n",
    "my_bank.add_branch(\"Liaquatabad\")\n",
    "\n",
    "my_bank.display_branches()\n",
    "\n",
    "my_bank.remove_branch(\"Liaquatabad\")\n",
    "\n",
    "my_bank.display_branches()"
   ]
  },
  {
   "cell_type": "markdown",
   "id": "836c18c8-158a-45ae-9518-92beda9560f4",
   "metadata": {},
   "source": [
    "10. Write a Python program that creates a class called Product with properties for product ID, name, and price. Include a method to \n",
    "calculate the total price by multiplying the price by the quantity. Create a subclass called PersonalCareProduct that inherits from the \n",
    "Product class and adds an additional property for the warranty period. Override the total price calculation method to include the \n",
    "warranty period. Create an instance of the PersonalCareProduct class and calculate its total price. "
   ]
  },
  {
   "cell_type": "code",
   "execution_count": 100,
   "id": "2eb4e6be-3948-4698-bf88-3a47e9770dc9",
   "metadata": {},
   "outputs": [],
   "source": [
    "class Product:\n",
    "    def __init__(self, productID, name, price, quantity):\n",
    "        self.productID = productID\n",
    "        self.name = name\n",
    "        self.price = price\n",
    "        self.quantity = quantity\n",
    "\n",
    "    def calc_tot_price(self): \n",
    "        total = self.price*self.quantity\n",
    "        print(f\"Total price of product is {total}\")\n",
    "class PersonalCareProduct(Product):\n",
    "    def __init__(self, productID, name, price, quantity, warranty):\n",
    "        super().__init__(productID, name, price, quantity)\n",
    "        self.warranty = warranty\n",
    "\n",
    "    def calc_tot_price(self):\n",
    "        super().calc_tot_price()"
   ]
  },
  {
   "cell_type": "code",
   "execution_count": 83,
   "id": "b4e9c5d1-32ee-4b09-93f0-57a27c99cbb5",
   "metadata": {},
   "outputs": [
    {
     "name": "stdout",
     "output_type": "stream",
     "text": [
      "Total price of product is 1350\n"
     ]
    }
   ],
   "source": [
    "product = PersonalCareProduct(718565481, \"Facewash\", 450, 3, \"yes\")\n",
    "product.calc_tot_price()"
   ]
  },
  {
   "cell_type": "markdown",
   "id": "2362ac9d-2de1-4b7b-92e0-bac705986816",
   "metadata": {},
   "source": [
    "11. Write a Python program that creates a class called BankAccount with properties for account number, account holder name, and \n",
    "balance. Include methods to deposit, withdraw, and transfer money between accounts. Create multiple instances of the BankAccount class \n",
    "and perform operations such as depositing, withdrawing, and transferring money. "
   ]
  },
  {
   "cell_type": "code",
   "execution_count": 99,
   "id": "508bc10c-1d4f-41e6-a019-f528234b94cd",
   "metadata": {},
   "outputs": [],
   "source": [
    "class BankAccount:\n",
    "    def __init__(self, account_number, account_holder_name, initial_balance=0):\n",
    "        self.account_number = account_number\n",
    "        self.account_holder_name = account_holder_name\n",
    "        self.balance = initial_balance\n",
    "\n",
    "    def deposit(self, amount):\n",
    "        if amount <= 0:\n",
    "            raise ValueError(\"Invalid deposit amount. Must be greater than 0.\")\n",
    "        self.balance += amount\n",
    "        print(f\"Deposited ${amount} to account {self.account_number}. New balance: ${self.balance}\")\n",
    "\n",
    "    def withdraw(self, amount):\n",
    "        if amount <= 0:\n",
    "            raise ValueError(\"Invalid withdrawal amount. Must be greater than 0.\")\n",
    "        if amount > self.balance:\n",
    "            raise InsufficientFundsError(\"Insufficient funds in account {self.account_number}.\")\n",
    "        self.balance -= amount\n",
    "        print(f\"Withdrew ${amount} from account {self.account_number}. New balance: ${self.balance}\")\n",
    "\n",
    "    def transfer(self, amount, recipient_account):\n",
    "        self.withdraw(amount)\n",
    "        recipient_account.deposit(amount)\n",
    "        print(f\"Transferred ${amount} from account {self.account_number} to account {recipient_account.account_number}.\")"
   ]
  },
  {
   "cell_type": "code",
   "execution_count": 87,
   "id": "b61e7a80-33fc-4ee9-898a-63382dcc8c57",
   "metadata": {},
   "outputs": [
    {
     "name": "stdout",
     "output_type": "stream",
     "text": [
      "Deposited $500 to account 12345. New balance: $1500\n",
      "Withdrew $200 from account 67890. New balance: $300\n",
      "Withdrew $300 from account 12345. New balance: $1200\n",
      "Deposited $300 to account 67890. New balance: $600\n",
      "Transferred $300 from account 12345 to account 67890.\n",
      "Account 1 balance: $1200\n",
      "Account 2 balance: $600\n"
     ]
    }
   ],
   "source": [
    "account1 = BankAccount(\"12345\", \"John Doe\", 1000)\n",
    "account2 = BankAccount(\"67890\", \"Jane Smith\", 500)\n",
    "try:\n",
    "    account1.deposit(500)\n",
    "    account2.withdraw(200)\n",
    "    account1.transfer(300, account2)\n",
    "except (ValueError, InsufficientFundsError) as e:\n",
    "    print(f\"Error: {e}\")\n",
    "print(f\"Account 1 balance: ${account1.balance}\")\n",
    "print(f\"Account 2 balance: ${account2.balance}\")"
   ]
  },
  {
   "cell_type": "markdown",
   "id": "2c54cb85-cf94-4c47-93fb-3c3afa131cf8",
   "metadata": {},
   "source": [
    "12. Write a Python program that creates a class called University with properties for university name and departments. Include methods \n",
    "to add a department, remove a department, and display all departments. Create an instance of the University class and add and remove \n",
    "departments."
   ]
  },
  {
   "cell_type": "code",
   "execution_count": 98,
   "id": "f4bfcf4e-5a15-4c2c-af59-58cfe47a5c73",
   "metadata": {},
   "outputs": [],
   "source": [
    "class University:\n",
    "    def __init__(self,name):\n",
    "        self.name = name\n",
    "        self.departments = []\n",
    "\n",
    "    def add_dep(self, dep_name):\n",
    "        self.departments.append(dep_name)\n",
    "        print(f\"Department '{dep_name}' added.\")\n",
    "\n",
    "    def remove_dep(self, dep_name):\n",
    "        if dep_name in self.departments:\n",
    "            self.departments.remove(dep_name)\n",
    "            print(f\"Department '{dep_name}' removed.\")\n",
    "        else:\n",
    "            print(f\"Department '{dep_name}' not found.\")\n",
    "\n",
    "    def display_dep(self):\n",
    "        print(f\"Departments of {self.name}:\")\n",
    "        for departments in self.departments:\n",
    "            print(f\"- {departments}\")    "
   ]
  },
  {
   "cell_type": "code",
   "execution_count": 97,
   "id": "0f2bd5e3-3937-4d40-ae6f-1df8fda10f3d",
   "metadata": {},
   "outputs": [
    {
     "name": "stdout",
     "output_type": "stream",
     "text": [
      "Department 'Metalurgy' added.\n",
      "Department 'Materials' added.\n",
      "Department 'Management' added.\n",
      "Departments of NED:\n",
      "- Metalurgy\n",
      "- Materials\n",
      "- Management\n",
      "Department 'Management' removed.\n",
      "Departments of NED:\n",
      "- Metalurgy\n",
      "- Materials\n"
     ]
    }
   ],
   "source": [
    "my_uni = University(\"NED\")\n",
    "my_uni.add_dep(\"Metalurgy\")\n",
    "my_uni.add_dep(\"Materials\")\n",
    "my_uni.add_dep(\"Management\")\n",
    "\n",
    "my_uni.display_dep()\n",
    "\n",
    "my_uni.remove_dep(\"Management\")\n",
    "\n",
    "my_uni.display_dep()"
   ]
  }
 ],
 "metadata": {
  "kernelspec": {
   "display_name": "Python 3 (ipykernel)",
   "language": "python",
   "name": "python3"
  },
  "language_info": {
   "codemirror_mode": {
    "name": "ipython",
    "version": 3
   },
   "file_extension": ".py",
   "mimetype": "text/x-python",
   "name": "python",
   "nbconvert_exporter": "python",
   "pygments_lexer": "ipython3",
   "version": "3.12.5"
  }
 },
 "nbformat": 4,
 "nbformat_minor": 5
}
