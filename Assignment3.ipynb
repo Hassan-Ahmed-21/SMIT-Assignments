{
 "cells": [
  {
   "cell_type": "markdown",
   "id": "ca6e7146-14b0-479e-b404-614ea8589a63",
   "metadata": {},
   "source": [
    "# A- Discounts and Pricing"
   ]
  },
  {
   "cell_type": "markdown",
   "id": "c73076ea-9068-40b6-b8e3-87761df6b06e",
   "metadata": {},
   "source": [
    "1. Check Discount Eligibility\n",
    "Write a program to check if a customer is eligible for a discount. If the total purchase is\n",
    "more than $100, apply a 10% discount and display the final price. Otherwise, display the\n",
    "total price as it is."
   ]
  },
  {
   "cell_type": "code",
   "execution_count": 8,
   "id": "06ae9a90-4a1c-4749-a7fd-99bf52b0b347",
   "metadata": {},
   "outputs": [
    {
     "name": "stdin",
     "output_type": "stream",
     "text": [
      "Enter shopping amount 120\n"
     ]
    },
    {
     "name": "stdout",
     "output_type": "stream",
     "text": [
      "\n",
      "            Total amount befire discount 120\n",
      "            10% discount is 12.0\n",
      "            Total payable is 108.0\n",
      "            \n"
     ]
    }
   ],
   "source": [
    "total = int(input(\"Enter shopping amount\"))\n",
    "if total >= 100:\n",
    "    discount = total*0.1\n",
    "    print(f\"\"\"\n",
    "            Total amount before discount {total}\n",
    "            10% discount is {discount}\n",
    "            Total payable is {total-discount}\n",
    "            \"\"\")\n",
    "else:\n",
    "    print(f\"Total amount payable is {total}\")"
   ]
  },
  {
   "cell_type": "markdown",
   "id": "1436cb79-515e-4507-967d-a5100578a3f1",
   "metadata": {},
   "source": [
    "2. Calculate Bulk Discount\n",
    "If a customer buys more than 5 items, apply a 15% discount on the total price. Otherwise,\n",
    "no discount is applied. Display the total price."
   ]
  },
  {
   "cell_type": "code",
   "execution_count": 12,
   "id": "7bf71f10-c48f-4cb7-8750-5b6da31488c6",
   "metadata": {},
   "outputs": [
    {
     "name": "stdin",
     "output_type": "stream",
     "text": [
      "Enter shopping amount 23000\n",
      "Enter Total No. of items purchased 6\n"
     ]
    },
    {
     "name": "stdout",
     "output_type": "stream",
     "text": [
      "\n",
      "            Total amount befire discount 23000\n",
      "            15% discount is 3450.0\n",
      "            Total payable is 19550.0\n",
      "            \n"
     ]
    }
   ],
   "source": [
    "total = int(input(\"Enter shopping amount\"))\n",
    "total_items= int(input(\"Enter Total No. of items purchased\"))\n",
    "if total_items >= 5:\n",
    "    discount = total*0.15\n",
    "    print(f\"\"\"\n",
    "            Total amount befire discount {total}\n",
    "            15% discount is {discount}\n",
    "            Total payable is {total-discount}\n",
    "            \"\"\")\n",
    "else:\n",
    "    print(f\"Total amount payable is {total}\")"
   ]
  },
  {
   "cell_type": "markdown",
   "id": "eafb8639-ece8-47a4-bd19-6bd1ae272a4d",
   "metadata": {},
   "source": [
    "3. Membership Discount\n",
    "Check if the customer is a member (is_member = True). Members get a 20% discount;\n",
    "non-members get a 5% discount. Calculate and print the discounted price."
   ]
  },
  {
   "cell_type": "code",
   "execution_count": 61,
   "id": "8ff93c74-76b8-47a3-9c2e-f769e8eeab85",
   "metadata": {},
   "outputs": [
    {
     "name": "stdout",
     "output_type": "stream",
     "text": [
      "The discounted price is: 750.0\n"
     ]
    }
   ],
   "source": [
    "is_member = True\n",
    "price = 1000\n",
    "\n",
    "if is_member==True:\n",
    "    discount = price * 0.25\n",
    "    final = price - discount\n",
    "    print(f\"The discounted price is: {final:}\")\n",
    "else:\n",
    "    discount = price * 0.1\n",
    "    final = price - discount\n",
    "    print(f\"The discounted price is: {final:}\")"
   ]
  },
  {
   "cell_type": "markdown",
   "id": "f4255afa-fbe9-4dbe-bf14-25841625efdf",
   "metadata": {},
   "source": [
    "4. Seasonal Sale\n",
    "If today is a holiday (is_holiday = True), apply a 25% discount; otherwise, apply a 10%\n",
    "discount. Calculate the price after discount."
   ]
  },
  {
   "cell_type": "code",
   "execution_count": 60,
   "id": "fc9fb9c6-fc02-41fe-a54d-81973e615758",
   "metadata": {},
   "outputs": [
    {
     "name": "stdout",
     "output_type": "stream",
     "text": [
      "The total price is: 1250.0\n"
     ]
    }
   ],
   "source": [
    "is_holiday = True\n",
    "price = 1000\n",
    "\n",
    "if is_holiday==True:\n",
    "    tax = price * 0.25\n",
    "    final = price + tax\n",
    "    print(f\"The total price is: {final:}\")\n",
    "else:\n",
    "    tax = price * 0.1\n",
    "    final = price + tax\n",
    "    print(f\"The total price is: {final:}\")"
   ]
  },
  {
   "cell_type": "markdown",
   "id": "406f0490-1fa2-4ba8-844c-aaf802c74221",
   "metadata": {},
   "source": [
    "5. Buy-One-Get-One-Free\n",
    "If a customer buys an even number of items, they get half of them for free. Otherwise,\n",
    "they pay for all. Calculate the number of items the customer has to pay for."
   ]
  },
  {
   "cell_type": "code",
   "execution_count": 21,
   "id": "77fe66b9-a773-4d51-8347-f7d0b2ec4505",
   "metadata": {},
   "outputs": [
    {
     "name": "stdin",
     "output_type": "stream",
     "text": [
      "Enter Total No. of items purchased 3\n"
     ]
    },
    {
     "name": "stdout",
     "output_type": "stream",
     "text": [
      "You have to pay for all items\n"
     ]
    }
   ],
   "source": [
    "total_items= int(input(\"Enter Total No. of items purchased\"))\n",
    "if total_items%2==0:\n",
    "    print(\"You have half of the items free\")\n",
    "else:\n",
    "    print(\"You have to pay for all items\")"
   ]
  },
  {
   "cell_type": "markdown",
   "id": "694bda9a-ef2e-4118-bd05-d81160ad2118",
   "metadata": {},
   "source": [
    "# B- Tax Calculations"
   ]
  },
  {
   "cell_type": "markdown",
   "id": "6680fbcf-44c8-4d94-983d-a4bdffea49c7",
   "metadata": {},
   "source": [
    "6. Sales Tax\n",
    "If the price of an item is greater than $500, apply a luxury tax of 15%. Otherwise, apply a\n",
    "standard tax of 8%. Display the total price after tax."
   ]
  },
  {
   "cell_type": "code",
   "execution_count": 24,
   "id": "a8d53729-33eb-49d2-9640-75a212a32645",
   "metadata": {},
   "outputs": [
    {
     "name": "stdin",
     "output_type": "stream",
     "text": [
      "Enter Item Price 420\n"
     ]
    },
    {
     "name": "stdout",
     "output_type": "stream",
     "text": [
      "\n",
      "            Total amount of item 420\n",
      "            8% tax is 33.6\n",
      "            Total payable is 453.6\n",
      "            \n"
     ]
    }
   ],
   "source": [
    "item = int(input(\"Enter Item Price\"))\n",
    "if item>500:\n",
    "    tax = item*0.15\n",
    "    total_price = tax + item\n",
    "    print(f\"\"\"\n",
    "            Total amount of item {item}\n",
    "            15% tax is {tax}\n",
    "            Total payable is {total_price}\n",
    "            \"\"\")\n",
    "else:\n",
    "    tax = item*0.08\n",
    "    total_price = tax + item\n",
    "    print(f\"\"\"\n",
    "            Total amount of item {item}\n",
    "            8% tax is {tax}\n",
    "            Total payable is {total_price}\n",
    "            \"\"\")\n"
   ]
  },
  {
   "cell_type": "markdown",
   "id": "2ae9d8f6-f298-42b0-841d-c39bf8e2f033",
   "metadata": {},
   "source": [
    "7. Income Tax\n",
    "If a person's annual income is above $50,000, they pay 20% tax. Otherwise, they pay\n",
    "10%. Calculate and display the tax amount."
   ]
  },
  {
   "cell_type": "code",
   "execution_count": 26,
   "id": "92a3a258-67fe-4d2e-b289-9cc628fd2b71",
   "metadata": {},
   "outputs": [
    {
     "name": "stdin",
     "output_type": "stream",
     "text": [
      "Enter Income 48500\n"
     ]
    },
    {
     "name": "stdout",
     "output_type": "stream",
     "text": [
      "\n",
      "            Total income 48500\n",
      "            10% tax is 4850.0\n",
      "            \n"
     ]
    }
   ],
   "source": [
    "income = int(input(\"Enter Income\"))\n",
    "if income>50000:\n",
    "    tax = income*0.2\n",
    "    print(f\"\"\"\n",
    "            Total income {income}\n",
    "            20% tax is {tax}\n",
    "            \"\"\")\n",
    "else:\n",
    "    tax = income*0.1\n",
    "    print(f\"\"\"\n",
    "            Total income {income}\n",
    "            10% tax is {tax}\n",
    "            \"\"\")\n"
   ]
  },
  {
   "cell_type": "markdown",
   "id": "dbb1ff33-2acb-4c7a-b992-600111983218",
   "metadata": {},
   "source": [
    "8. Tax Bracket\n",
    "Write a program to categorize a person into tax brackets:\n",
    "Income < $30,000 \"Low Tax\";\n",
    "$30,000 ≤ Income < $100,000: \"Medium Tax\";\n",
    "Income ≥ $100,000: \"High Tax\";"
   ]
  },
  {
   "cell_type": "code",
   "execution_count": 31,
   "id": "436e8374-97a2-45a1-9209-55a4b577893b",
   "metadata": {},
   "outputs": [
    {
     "name": "stdin",
     "output_type": "stream",
     "text": [
      "Enter Income 120000\n"
     ]
    },
    {
     "name": "stdout",
     "output_type": "stream",
     "text": [
      "High Tax\n"
     ]
    }
   ],
   "source": [
    "income = int(input(\"Enter Income\"))\n",
    "if income<30000:\n",
    "    print(\"Low Tax\")\n",
    "elif 30000<=income<100000:\n",
    "    print(\"Medium Tax\")\n",
    "else:\n",
    "    print(\"High Tax\")"
   ]
  },
  {
   "cell_type": "markdown",
   "id": "09d4a6a5-8d7b-46e2-a005-db8399c8faa1",
   "metadata": {},
   "source": [
    "9. VAT Calculation\n",
    "If the item is marked as essential (is_essential = True), apply a VAT of 5%. Otherwise,\n",
    "apply a VAT of 12%. Display the final price."
   ]
  },
  {
   "cell_type": "code",
   "execution_count": 51,
   "id": "9d67f16b-f9b3-408f-ba81-a71f410b2a12",
   "metadata": {},
   "outputs": [
    {
     "name": "stdout",
     "output_type": "stream",
     "text": [
      "The total price is: 1050.0\n"
     ]
    }
   ],
   "source": [
    "is_essential=True\n",
    "original_price = 1000\n",
    "\n",
    "if is_essential==True:\n",
    "    vat = original_price * 0.05\n",
    "    final_price = original_price + vat\n",
    "    print(f\"The total price is: {final_price:}\")\n",
    "else:\n",
    "    vat = price * 0.12\n",
    "    final_price = original_price + vat\n",
    "    print(f\"The total price is: {final_price:}\")"
   ]
  },
  {
   "cell_type": "markdown",
   "id": "58b3f80a-bfae-41cd-9635-f28f3f6bc44f",
   "metadata": {},
   "source": [
    "10. Tax-Free Day\n",
    "If today is a tax-free day (tax_free = True), display the original price. Otherwise, add a\n",
    "7% tax."
   ]
  },
  {
   "cell_type": "code",
   "execution_count": 59,
   "id": "a6c81cf7-ac3a-42d6-8f13-8effc2716e54",
   "metadata": {},
   "outputs": [
    {
     "name": "stdout",
     "output_type": "stream",
     "text": [
      "1000\n"
     ]
    }
   ],
   "source": [
    "is_holiday = True\n",
    "price = 1000\n",
    "\n",
    "if is_holiday==True:\n",
    "    print(price)\n",
    "\n",
    "else:\n",
    "    tax = price * 0.07\n",
    "    final = price + tax\n",
    "    print(f\"The total price is: {final:}\")"
   ]
  },
  {
   "cell_type": "markdown",
   "id": "bf599908-6e2b-42b6-a438-81500ab2b73e",
   "metadata": {},
   "source": [
    "# C- Shopping and Billing"
   ]
  },
  {
   "cell_type": "markdown",
   "id": "743c06eb-5b13-41cc-b626-c12ebb6c73c0",
   "metadata": {},
   "source": [
    "11. Free Shipping\n",
    "If the total purchase amount is more than $50, offer free shipping; otherwise, charge $5\n",
    "for shipping. Display the total amount including shipping."
   ]
  },
  {
   "cell_type": "code",
   "execution_count": 69,
   "id": "295e2fa6-acfc-4c2f-a26a-56b06d68973a",
   "metadata": {},
   "outputs": [
    {
     "name": "stdin",
     "output_type": "stream",
     "text": [
      "Enter purchase amount 42\n"
     ]
    },
    {
     "name": "stdout",
     "output_type": "stream",
     "text": [
      "Your amount including shipping price is $47\n"
     ]
    }
   ],
   "source": [
    "amount = int(input(\"Enter purchase amount\"))\n",
    "if amount >= 50:\n",
    "    print(\"Free Shipping\")\n",
    "else:\n",
    "    total = amount + 5\n",
    "    print(f\"Your amount including shipping price is ${total}\")"
   ]
  },
  {
   "cell_type": "markdown",
   "id": "807e4877-955a-431f-8d84-c5e9a10ace70",
   "metadata": {},
   "source": [
    "12. Discount Code\n",
    "If a customer enters the correct discount code (DISCOUNT10), apply a 10% discount.\n",
    "Otherwise, charge the full amount."
   ]
  },
  {
   "cell_type": "code",
   "execution_count": 72,
   "id": "33c6494f-c4b7-4a85-a388-8db351fcfa96",
   "metadata": {},
   "outputs": [
    {
     "name": "stdin",
     "output_type": "stream",
     "text": [
      "Enter Discount Code DISCOUNT10\n"
     ]
    },
    {
     "name": "stdout",
     "output_type": "stream",
     "text": [
      "Your discounted price is 45.0\n"
     ]
    }
   ],
   "source": [
    "price = 50\n",
    "disc_code = input(\"Enter Discount Code\")\n",
    "code = \"DISCOUNT10\"\n",
    "if disc_code==code:\n",
    "    disc = 50*0.1\n",
    "    disc_price = price - disc\n",
    "    print(f\"Your discounted price is {disc_price}\")\n",
    "else:\n",
    "    print(f\"Your price is {price}\")"
   ]
  },
  {
   "cell_type": "markdown",
   "id": "19b7bcf7-a102-421c-8036-fa5730e6fbda",
   "metadata": {},
   "source": [
    "13. Tiered Discounts\n",
    "Apply discounts based on the total price:\n",
    "$0–$50: No discount.\n",
    "$50–$100: 10% discount.\n",
    "Over $100: 20% discount."
   ]
  },
  {
   "cell_type": "code",
   "execution_count": 73,
   "id": "40e1aa7e-0f3b-4897-9a8d-039f812af2e9",
   "metadata": {},
   "outputs": [
    {
     "name": "stdin",
     "output_type": "stream",
     "text": [
      "Enter Total Bill 60\n"
     ]
    },
    {
     "name": "stdout",
     "output_type": "stream",
     "text": [
      "10% discount\n"
     ]
    }
   ],
   "source": [
    "price = int(input(\"Enter Total Bill\"))\n",
    "if 0<price<50:\n",
    "    print(\"No discount\")\n",
    "elif 50<price<100:\n",
    "    print(\"10% discount\")\n",
    "else:\n",
    "    print(\"20% discount\")"
   ]
  },
  {
   "cell_type": "markdown",
   "id": "2fdbd620-8593-4e78-a680-f1c4ca887f5b",
   "metadata": {},
   "source": [
    "14. Minimum Purchase Requirement\n",
    "If the total amount is less than $20, display a message: \"Minimum purchase of $20 is required.\" Otherwise, display the total amount."
   ]
  },
  {
   "cell_type": "code",
   "execution_count": 75,
   "id": "3fffc4d6-5987-4c31-a967-b901c8230ffb",
   "metadata": {},
   "outputs": [
    {
     "name": "stdin",
     "output_type": "stream",
     "text": [
      "Enter Amount 15\n"
     ]
    },
    {
     "name": "stdout",
     "output_type": "stream",
     "text": [
      "Minimum purchase of $20 is required.\n"
     ]
    }
   ],
   "source": [
    "amount = int(input(\"Enter Amount\"))\n",
    "if amount<20:\n",
    "    print(\"Minimum purchase of $20 is required.\")\n",
    "else:\n",
    "    print(amount)"
   ]
  },
  {
   "cell_type": "markdown",
   "id": "324f6d4a-b4f3-45cc-ad4e-18fccf806ee7",
   "metadata": {},
   "source": [
    "15. Loyalty Points\n",
    "If a customer is a loyal member (is_loyal = True), they earn double loyalty points for\n",
    "their purchase. Otherwise, they earn standard points."
   ]
  },
  {
   "cell_type": "code",
   "execution_count": 76,
   "id": "a5f1c5af-da32-4e19-9033-4de204a50990",
   "metadata": {},
   "outputs": [
    {
     "name": "stdout",
     "output_type": "stream",
     "text": [
      "You earned double loyalty points\n"
     ]
    }
   ],
   "source": [
    "is_loyal = True\n",
    "if is_loyal==True:\n",
    "    print(\"You earned double loyalty points\")\n",
    "else:\n",
    "    print(\"You earned standard points\")"
   ]
  },
  {
   "cell_type": "markdown",
   "id": "08aea5fb-8b6d-4980-afa1-a624d7548cee",
   "metadata": {},
   "source": [
    "# D- Travel and Tickets"
   ]
  },
  {
   "cell_type": "markdown",
   "id": "e4717475-4ac2-45f2-9336-1e1f6a5b50dd",
   "metadata": {},
   "source": [
    "16. Travel Discount\n",
    "If a person is traveling more than 500 miles, offer a 20% discount on ticket price.\n",
    "Otherwise, charge the full amount."
   ]
  },
  {
   "cell_type": "code",
   "execution_count": 80,
   "id": "6c60d785-3a82-4bb2-9ca8-a4c4816f50e6",
   "metadata": {},
   "outputs": [
    {
     "name": "stdin",
     "output_type": "stream",
     "text": [
      "Enter Travelled Distance 480\n"
     ]
    },
    {
     "name": "stdout",
     "output_type": "stream",
     "text": [
      "Your Price is 10000\n"
     ]
    }
   ],
   "source": [
    "price = 10000\n",
    "distance = int(input(\"Enter Travelled Distance\"))\n",
    "if distance>500:\n",
    "    disc = price*0.2\n",
    "    disc_price = price - disc\n",
    "    print(f\"Your discounted price is {disc_price}\")\n",
    "else:\n",
    "    print(f\"Your Price is {price}\")"
   ]
  },
  {
   "cell_type": "markdown",
   "id": "22951998-bdef-4d74-a70d-3a95006a1bf2",
   "metadata": {},
   "source": [
    "17. Child or Senior Discount\n",
    "If a passenger is under 12 or over 60 years old, apply a 15% discount on the ticket price.\n",
    "Otherwise, charge the full price."
   ]
  },
  {
   "cell_type": "code",
   "execution_count": 107,
   "id": "648a92f1-7800-4d10-aee8-be59eadb4211",
   "metadata": {},
   "outputs": [
    {
     "name": "stdin",
     "output_type": "stream",
     "text": [
      "Enter Your Age 11\n"
     ]
    },
    {
     "name": "stdout",
     "output_type": "stream",
     "text": [
      "Your discounted price is 8500.0\n"
     ]
    }
   ],
   "source": [
    "price = 10000\n",
    "age = int(input(\"Enter Your Age\"))\n",
    "if age<12 or age>60:\n",
    "    disc = price*0.15\n",
    "    disc_price = price - disc\n",
    "    print(f\"Your discounted price is {disc_price}\")\n",
    "else:\n",
    "    print(f\"Your Price is {price}\")"
   ]
  },
  {
   "cell_type": "markdown",
   "id": "4d7671e4-4f35-4e20-9fdb-34e0772b31fd",
   "metadata": {},
   "source": [
    "18. Ticket Type Pricing\n",
    "If the ticket is for a weekend (is_weekend = True), add a 10% surcharge. Otherwise,\n",
    "charge the standard price."
   ]
  },
  {
   "cell_type": "code",
   "execution_count": 109,
   "id": "f54e997e-614f-4127-95b1-72228a69954b",
   "metadata": {},
   "outputs": [
    {
     "name": "stdout",
     "output_type": "stream",
     "text": [
      "The total price is: 1100.0\n"
     ]
    }
   ],
   "source": [
    "is_weekend = True\n",
    "\n",
    "price = 1000\n",
    "\n",
    "if is_weekend==True:\n",
    "    surcharge = price * 0.1\n",
    "    final = price + surcharge\n",
    "    print(f\"The total price is: {final}\")\n",
    "\n",
    "else:\n",
    "    print(price)"
   ]
  },
  {
   "cell_type": "markdown",
   "id": "1cf0e5a5-4f88-405a-88bc-48d2cd0c2caa",
   "metadata": {},
   "source": [
    "19. Baggage Fee\n",
    "If the total baggage weight is over 20kg, charge $10 per extra kilogram. Otherwise, no\n",
    "extra fee."
   ]
  },
  {
   "cell_type": "code",
   "execution_count": 110,
   "id": "84b34508-1c0d-4bd6-ab06-82d44ae44767",
   "metadata": {},
   "outputs": [
    {
     "name": "stdin",
     "output_type": "stream",
     "text": [
      "Enter weight 22\n"
     ]
    },
    {
     "name": "stdout",
     "output_type": "stream",
     "text": [
      "The fee is: 10\n"
     ]
    }
   ],
   "source": [
    "fee = 0\n",
    "weight = float(input(\"Enter weight\"))\n",
    "if weight>20:\n",
    "    surcharge = fee + 10\n",
    "    print(f\"The fee is: {surcharge}\")\n",
    "\n",
    "else:\n",
    "    print(\"No fee\")"
   ]
  },
  {
   "cell_type": "markdown",
   "id": "74fdbc5e-9c6e-43a4-a4e0-daafc27a14be",
   "metadata": {},
   "source": [
    "20. Early Bird Discount\n",
    "If a ticket is booked more than 30 days in advance, apply a 10% discount. Otherwise,\n",
    "charge the full price."
   ]
  },
  {
   "cell_type": "code",
   "execution_count": 115,
   "id": "14e41d18-38eb-44f4-ae6e-ab82740a1c91",
   "metadata": {},
   "outputs": [
    {
     "name": "stdin",
     "output_type": "stream",
     "text": [
      "Enter Days before flight 32\n"
     ]
    },
    {
     "name": "stdout",
     "output_type": "stream",
     "text": [
      "Discounted price is: 9000.0\n"
     ]
    }
   ],
   "source": [
    "ticket = 10000\n",
    "book_days = int(input(\"Enter Days before flight\"))\n",
    "if book_days>30:\n",
    "    disc = ticket * 0.10\n",
    "    disc_price = ticket - disc\n",
    "    print(f\"Discounted price is: {disc_price}\")\n",
    "\n",
    "else:\n",
    "    print(\"Pay full ticket price\")"
   ]
  },
  {
   "cell_type": "markdown",
   "id": "87c206e7-1574-45e9-aad3-eb64fca9fd67",
   "metadata": {},
   "source": [
    "# E- Grades and Performance"
   ]
  },
  {
   "cell_type": "markdown",
   "id": "b9e6c88f-539f-4303-bacb-2a56cf7084ad",
   "metadata": {},
   "source": [
    "21. Pass or Fail\n",
    "If a student scores 40 or more, print \"Pass\". Otherwise, print \"Fail\"."
   ]
  },
  {
   "cell_type": "code",
   "execution_count": 116,
   "id": "14a3868d-bbe1-4058-9d17-31c19f2057e9",
   "metadata": {},
   "outputs": [
    {
     "name": "stdin",
     "output_type": "stream",
     "text": [
      "Enter Marks 38\n"
     ]
    },
    {
     "name": "stdout",
     "output_type": "stream",
     "text": [
      "Fail\n"
     ]
    }
   ],
   "source": [
    "marks = float(input(\"Enter Marks\"))\n",
    "if marks>40:\n",
    "    print(\"Pass\")\n",
    "else:\n",
    "    print(\"Fail\")"
   ]
  },
  {
   "cell_type": "markdown",
   "id": "ec8d44ca-b799-4964-96c3-7cc1a7136d17",
   "metadata": {},
   "source": [
    "22. Grade Assignment\n",
    "Based on a student's score, assign grades:\n",
    "90 and above: \"A\";\n",
    "75–89: \"B\";\n",
    "50–74: \"C\";\n",
    "Below 50: \"F\";"
   ]
  },
  {
   "cell_type": "code",
   "execution_count": 133,
   "id": "0d346e40-2500-494a-be97-9025140816d4",
   "metadata": {},
   "outputs": [
    {
     "name": "stdin",
     "output_type": "stream",
     "text": [
      "Enter Marks 74\n"
     ]
    },
    {
     "name": "stdout",
     "output_type": "stream",
     "text": [
      "Grade achieved is C\n"
     ]
    }
   ],
   "source": [
    "marks = float(input(\"Enter Marks\"))\n",
    "grade = None\n",
    "if marks>=90:\n",
    "    grade = \"A\"\n",
    "elif marks>=75:\n",
    "    grade = \"B\"\n",
    "elif marks>=50:\n",
    "    grade = \"C\"\n",
    "else:\n",
    "    grade = \"F\"\n",
    "\n",
    "print(f\"Grade achieved is {grade}\")"
   ]
  },
  {
   "cell_type": "markdown",
   "id": "8cac1fa4-a05f-47f8-a680-e2befff9463f",
   "metadata": {},
   "source": [
    "23. Bonus Marks\n",
    "If a student completes all assignments, add 5 bonus marks to their score. Otherwise, no\n",
    "bonus marks."
   ]
  },
  {
   "cell_type": "code",
   "execution_count": 136,
   "id": "ed903897-e47e-4c66-bbd4-0b8e176a909a",
   "metadata": {},
   "outputs": [
    {
     "name": "stdout",
     "output_type": "stream",
     "text": [
      "5 bonus marks awarded\n"
     ]
    }
   ],
   "source": [
    "marks = 0\n",
    "assignment_completed=True\n",
    "if assignment_completed==True:\n",
    "    bonus = marks + 5\n",
    "    print(f\"{bonus} bonus marks awarded\")\n",
    "\n",
    "else:\n",
    "    print(\"No bonus marks awarded\")"
   ]
  },
  {
   "cell_type": "markdown",
   "id": "2ad1577f-e575-408b-a045-d68f15219ef7",
   "metadata": {},
   "source": [
    "24. Attendance Eligibility\n",
    "If a student's attendance is 75% or more, they are eligible to take the exam. Otherwise, they are not."
   ]
  },
  {
   "cell_type": "code",
   "execution_count": 137,
   "id": "d0e0ae18-1ad3-4def-a2f8-177d2278e485",
   "metadata": {},
   "outputs": [
    {
     "name": "stdin",
     "output_type": "stream",
     "text": [
      "Enter Attendance 74.5\n"
     ]
    },
    {
     "name": "stdout",
     "output_type": "stream",
     "text": [
      "Not eligible for exams\n"
     ]
    }
   ],
   "source": [
    "attendance = float(input(\"Enter Attendance\"))\n",
    "if attendance>75:\n",
    "    print(\"Eligible for exams\")\n",
    "else:\n",
    "    print(\"Not eligible for exams\")"
   ]
  },
  {
   "cell_type": "markdown",
   "id": "ba578f7e-edc7-45a1-beaf-524fe7b84563",
   "metadata": {},
   "source": [
    "25. Scholarship Eligibility\n",
    "If a student's grade is \"A\" and their annual family income is below $30,000, they are eligible for a scholarship. Otherwise, they are not."
   ]
  },
  {
   "cell_type": "code",
   "execution_count": 140,
   "id": "f5a364d0-1dc4-4b79-aca3-640fe24a9a20",
   "metadata": {},
   "outputs": [
    {
     "name": "stdin",
     "output_type": "stream",
     "text": [
      "Enter Grade A\n",
      "Enter amount 25000\n"
     ]
    },
    {
     "name": "stdout",
     "output_type": "stream",
     "text": [
      "Eligible for schlarship\n"
     ]
    }
   ],
   "source": [
    "grade = input(\"Enter Grade\")\n",
    "amount = float(input(\"Enter amount\"))\n",
    "\n",
    "if grade==\"A\" and amount<30000:\n",
    "    print(\"Eligible for schlarship\")\n",
    "else:\n",
    "    print(\"Not Eligible for scholarship\")"
   ]
  }
 ],
 "metadata": {
  "kernelspec": {
   "display_name": "Python 3 (ipykernel)",
   "language": "python",
   "name": "python3"
  },
  "language_info": {
   "codemirror_mode": {
    "name": "ipython",
    "version": 3
   },
   "file_extension": ".py",
   "mimetype": "text/x-python",
   "name": "python",
   "nbconvert_exporter": "python",
   "pygments_lexer": "ipython3",
   "version": "3.12.5"
  }
 },
 "nbformat": 4,
 "nbformat_minor": 5
}
