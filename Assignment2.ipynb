{
 "cells": [
  {
   "cell_type": "markdown",
   "id": "3d9f472b-d120-4bfa-b1c1-2877ec81da5f",
   "metadata": {},
   "source": [
    "1) Area of a Rectangle:\n",
    "Write a Python program to calculate the area of a rectangle. Use the formula:\n",
    "Area = length × width\n",
    "Take length and width as inputs from the user."
   ]
  },
  {
   "cell_type": "code",
   "execution_count": 71,
   "id": "6c1a2b86-b62e-4749-911a-1d81f82f1d1a",
   "metadata": {},
   "outputs": [
    {
     "name": "stdin",
     "output_type": "stream",
     "text": [
      "Enter length 10\n",
      "Enter width 5\n"
     ]
    },
    {
     "name": "stdout",
     "output_type": "stream",
     "text": [
      "The length is 10.0, and width is 5.0\n",
      "The Area is 50.0\n"
     ]
    }
   ],
   "source": [
    "length = float(input(\"Enter length\"))\n",
    "width = float(input(\"Enter width\"))\n",
    "print(f\"The length is {length}, and width is {width}\")\n",
    "Area = length*width\n",
    "print(f\"The Area is {Area}\")"
   ]
  },
  {
   "cell_type": "markdown",
   "id": "39b46632-c659-4349-a190-69c121014936",
   "metadata": {},
   "source": [
    "2) Circumference of a Circle:\n",
    "Write a Python program to calculate the circumference of a circle. Use the formula:\n",
    "Circumference = 2πr\n",
    "Take the radius r as input from the user."
   ]
  },
  {
   "cell_type": "code",
   "execution_count": 72,
   "id": "25e1dd41-5c10-4a28-bb87-14ee322f1198",
   "metadata": {},
   "outputs": [
    {
     "name": "stdin",
     "output_type": "stream",
     "text": [
      "Enter radius 15\n"
     ]
    },
    {
     "name": "stdout",
     "output_type": "stream",
     "text": [
      "Value of π is 3.142, and Value of radius is 15.0\n",
      "Circumference is 94.25999999999999\n"
     ]
    }
   ],
   "source": [
    "π = 3.142\n",
    "r = float(input(\"Enter radius\"))\n",
    "print(f\"Value of π is {π}, and Value of radius is {r}\" )\n",
    "Circumference = 2*π*r\n",
    "print(f\"Circumference is {Circumference}\")"
   ]
  },
  {
   "cell_type": "markdown",
   "id": "fb573784-3273-43a8-975c-0f705fc4b67e",
   "metadata": {},
   "source": [
    "3) Simple Interest:\n",
    "Write a Python program to calculate the simple interest. Use the formula:\n",
    "Simple Interest = Principal × Rate × Time\n",
    "Take Principal, Rate, and Time as inputs from the user."
   ]
  },
  {
   "cell_type": "code",
   "execution_count": 73,
   "id": "09fbcb6c-4a9e-4ec2-ae4d-30db4b387b2b",
   "metadata": {},
   "outputs": [
    {
     "name": "stdin",
     "output_type": "stream",
     "text": [
      "Enter value 11000\n",
      "Enter value 0.02\n",
      "Enter value 120\n"
     ]
    },
    {
     "name": "stdout",
     "output_type": "stream",
     "text": [
      "The principle is 11000.0 rate is 0.02 and time is 120.0\n",
      "Simple interest is 26400.0\n"
     ]
    }
   ],
   "source": [
    "Principle = float(input(\"Enter value\"))\n",
    "Rate = float(input(\"Enter value\"))\n",
    "Time = float(input(\"Enter value\"))\n",
    "print(f\"The principle is {Principle} rate is {Rate} and time is {Time}\")\n",
    "SI = Principle*Rate*Time\n",
    "print(f\"Simple interest is {SI}\")"
   ]
  },
  {
   "cell_type": "markdown",
   "id": "3498207e-79c3-4a3e-b410-f973dbba8e9a",
   "metadata": {},
   "source": [
    "4) Speed of an Object:\n",
    "Write a Python program to calculate the speed of an object. Use the formula:\n",
    "Speed = Distance / Time\n",
    "Take Distance and Time as inputs from the user."
   ]
  },
  {
   "cell_type": "code",
   "execution_count": 74,
   "id": "58cb063b-45d6-4f4a-803a-3b2fe6a3e6a9",
   "metadata": {},
   "outputs": [
    {
     "name": "stdin",
     "output_type": "stream",
     "text": [
      "Enter Distance Travelled 500\n",
      "Enter Time Taken 10\n"
     ]
    },
    {
     "name": "stdout",
     "output_type": "stream",
     "text": [
      "The vehicle travelled 500.0 meters and took 10.0 seconds\n",
      "The speed of vehicle is 50.0\n"
     ]
    }
   ],
   "source": [
    "Distance = float(input(\"Enter Distance Travelled\"))\n",
    "Time = float(input(\"Enter Time Taken\"))\n",
    "print(f\"The vehicle travelled {Distance} meters and took {Time} seconds\")\n",
    "Speed = Distance / Time\n",
    "print(f\"The speed of vehicle is {Speed}\")"
   ]
  },
  {
   "cell_type": "markdown",
   "id": "11f003c5-306e-4e3d-8df3-076008cb589a",
   "metadata": {},
   "source": [
    "5) BMI Calculator:\n",
    "Write a Python program to calculate the Body Mass Index (BMI). Use the formula:\n",
    "BMI = Weight(Kg)/(Height)^2\n",
    "Take Weight (in kilograms) and Height (in meters) as inputs from the user."
   ]
  },
  {
   "cell_type": "code",
   "execution_count": 75,
   "id": "2bbb80cb-fac2-467a-b78a-582fef1844ab",
   "metadata": {},
   "outputs": [
    {
     "name": "stdin",
     "output_type": "stream",
     "text": [
      "Enter Your Weight 60\n",
      "Enter Your Height in meters 1.92\n"
     ]
    },
    {
     "name": "stdout",
     "output_type": "stream",
     "text": [
      "The Height is 1.92 meters and Weight is 60.0 Kg and BMI is 16.276041666666668\n"
     ]
    }
   ],
   "source": [
    "Weight = float(input(\"Enter Your Weight\"))\n",
    "Height = float(input(\"Enter Your Height in meters\"))\n",
    "BMI = Weight/Height**2\n",
    "print(f\"The Height is {Height} meters and Weight is {Weight} Kg and BMI is {BMI}\")"
   ]
  },
  {
   "cell_type": "markdown",
   "id": "36e96ac0-c1af-496e-9b0e-c72da9fc3810",
   "metadata": {},
   "source": [
    "6) Force Using Newton's Second Law:\n",
    "Write a Python program to calculate the force on an object. Use the formula:\n",
    "F = m * a\n",
    "Take m (mass in kilograms) and a (acceleration in meters/second2) as inputs from the\n",
    "user."
   ]
  },
  {
   "cell_type": "code",
   "execution_count": 76,
   "id": "b35ff513-fb41-4ad1-b9e3-24cbd8413bc5",
   "metadata": {},
   "outputs": [
    {
     "name": "stdin",
     "output_type": "stream",
     "text": [
      "Enter Your Mass in Kg 95\n",
      "Enter Your Acceleration in meters/second**2 30\n"
     ]
    },
    {
     "name": "stdout",
     "output_type": "stream",
     "text": [
      "The Mass is 95.0 Kg and Accelaration is 30.0 meter/second**2 and Force applied is 2850.0 Newton\n"
     ]
    }
   ],
   "source": [
    "M = float(input(\"Enter Your Mass in Kg\"))\n",
    "A = float(input(\"Enter Your Acceleration in meters/second**2\"))\n",
    "F = M * A\n",
    "print(f\"The Mass is {M} Kg and Accelaration is {A} meter/second**2 and Force applied is {F} Newton\")"
   ]
  },
  {
   "cell_type": "markdown",
   "id": "ca36c237-f628-4cb1-9821-8fb928ebfd83",
   "metadata": {},
   "source": [
    "7) Write a Python program to calculate compound interest. Use the formula:\n",
    "A = P*(1+r/n)**n-t\n",
    "Where:\n",
    "A= total amount\n",
    "P = principal amount\n",
    "r = annual interest rate (decimal)\n",
    "n = number of times interest is compounded per year\n",
    "t = time in years\n",
    "Take P, r, n, and t as inputs from the user."
   ]
  },
  {
   "cell_type": "code",
   "execution_count": 77,
   "id": "f3f2dd33-fc47-416b-a772-4e44db76018d",
   "metadata": {},
   "outputs": [
    {
     "name": "stdin",
     "output_type": "stream",
     "text": [
      "Enter Principle amount 20000\n",
      "Enter Annual Interest 0.05\n",
      "Enter Interest compounded per year 4\n",
      "Enter time in years 5\n"
     ]
    },
    {
     "name": "stdout",
     "output_type": "stream",
     "text": [
      "The Principle amount is 20000.0 Annual interest is 0.05 Interest compunded is 4.0 time in years is 5.0 and the total amount after interest is 19753.086419753086\n"
     ]
    }
   ],
   "source": [
    "P = float(input(\"Enter Principle amount\"))\n",
    "r = float(input(\"Enter Annual Interest\"))\n",
    "n = float(input(\"Enter Interest compounded per year\"))\n",
    "t = float(input(\"Enter time in years\"))\n",
    "A = A = P * (1 + r / n) ** (n - t)\n",
    "print(f\"The Principle amount is {P} Annual interest is {r} Interest compunded is {n} time in years is {t} and the total amount after interest is {A}\")"
   ]
  },
  {
   "cell_type": "markdown",
   "id": "bdcfd501-3e58-4f25-800b-7b326161e82e",
   "metadata": {},
   "source": [
    "8) Perimeter of a Triangle:\n",
    "Write a Python program to calculate the perimeter of a triangle. Use the formula:\n",
    "Perimeter = a + b + c\n",
    "Take a, b, and c (lengths of the three sides) as inputs from the user."
   ]
  },
  {
   "cell_type": "code",
   "execution_count": 78,
   "id": "cccdf3b6-1a50-4226-808f-aecadd534501",
   "metadata": {},
   "outputs": [
    {
     "name": "stdin",
     "output_type": "stream",
     "text": [
      "Enter First side 3\n",
      "Enter Second side 4\n",
      "Enter Third side 5\n"
     ]
    },
    {
     "name": "stdout",
     "output_type": "stream",
     "text": [
      "The first side is 3.0 second side is 4.0 third side is 5.0 and Perimeter is 12.0\n"
     ]
    }
   ],
   "source": [
    "A = float(input(\"Enter First side\"))\n",
    "B = float(input(\"Enter Second side\"))\n",
    "C = float(input(\"Enter Third side\"))\n",
    "P = A + B + C\n",
    "print(f\"The first side is {A} second side is {B} third side is {C} and Perimeter is {P}\")"
   ]
  },
  {
   "cell_type": "markdown",
   "id": "19b4f1a8-6ada-4bd1-bebe-eb45b3ae038b",
   "metadata": {},
   "source": [
    "9) Volume of a Sphere:\n",
    "Write a Python program to calculate the volume of a sphere. Use the formula:\n",
    "V = 4/3*π*r**3\n",
    "Take r (radius) as input from the user."
   ]
  },
  {
   "cell_type": "code",
   "execution_count": 79,
   "id": "dc61f6a5-d2d4-499a-b617-11772d581b9e",
   "metadata": {},
   "outputs": [
    {
     "name": "stdin",
     "output_type": "stream",
     "text": [
      "Enter radius 5\n"
     ]
    },
    {
     "name": "stdout",
     "output_type": "stream",
     "text": [
      "The radius is 5.0 and Volume of sphere is 523.6666666666666\n"
     ]
    }
   ],
   "source": [
    "r = float(input(\"Enter radius\"))\n",
    "π = 3.142\n",
    "V = 4/3*π*r**3\n",
    "print(f\"The radius is {r} and Volume of sphere is {V}\")"
   ]
  },
  {
   "cell_type": "markdown",
   "id": "333df315-a9f4-4669-9353-1436cbdd173a",
   "metadata": {},
   "source": [
    "10) Kinetic Energy:\n",
    "Write a Python program to calculate the kinetic energy of an object. Use the formula:\n",
    "KE=1/2*m*V**2\n",
    "Take m (mass in kilograms) and v (velocity in meters/second) as inputs from the user."
   ]
  },
  {
   "cell_type": "code",
   "execution_count": 80,
   "id": "7844a727-b49a-4121-bdd9-d22843a766e4",
   "metadata": {},
   "outputs": [
    {
     "name": "stdin",
     "output_type": "stream",
     "text": [
      "Enter mass 70.5\n",
      "Enter velocity 34.6\n"
     ]
    },
    {
     "name": "stdout",
     "output_type": "stream",
     "text": [
      "The mass is 70.5 velocity is 34.6 and Kinetic energy is 42199.89\n"
     ]
    }
   ],
   "source": [
    "m = float(input(\"Enter mass\"))\n",
    "v = float(input(\"Enter velocity\"))\n",
    "KE=1/2*m*v**2\n",
    "print(f\"The mass is {m} velocity is {v} and Kinetic energy is {KE}\")"
   ]
  },
  {
   "cell_type": "markdown",
   "id": "c1cf4a18-2513-4365-b3be-e89e7b7e50f5",
   "metadata": {},
   "source": [
    "11) Quadratic Equation Roots:\n",
    "Write a Python program to find the roots of a quadratic equation. Use the formula:\n",
    "(-b+(b**2-4ac)**1/2) / 2a\n",
    "(+b+(b**2-4ac)**1/2) / 2a\n",
    "Take a, b, and c as inputs from the user."
   ]
  },
  {
   "cell_type": "code",
   "execution_count": 81,
   "id": "bc44beab-9d1d-4233-ba27-4415a9e25284",
   "metadata": {},
   "outputs": [
    {
     "name": "stdin",
     "output_type": "stream",
     "text": [
      "Enter a 2\n",
      "Enter b 6\n",
      "Enter c 8\n"
     ]
    },
    {
     "name": "stdout",
     "output_type": "stream",
     "text": [
      "Val of A is 2.0, Val of b is 6.0, Val of C is 8.0, Positive value is -20.0 and Negetive value is 8.0\n"
     ]
    }
   ],
   "source": [
    "a = float(input(\"Enter a\"))\n",
    "b = float(input(\"Enter b\"))\n",
    "c = float(input(\"Enter c\"))\n",
    "Pos = (-b+(b**2-4*a*c)**1/2) / 2*a\n",
    "Neg = (-b-(b**2-4*a*c)**1/2) / 2*a\n",
    "print(f\"Val of A is {a}, Val of b is {b}, Val of C is {c}, Positive value is {Pos} and Negetive value is {Neg}\")"
   ]
  },
  {
   "cell_type": "markdown",
   "id": "10006fc3-cc1e-4b49-b2b5-19418ca67e3d",
   "metadata": {},
   "source": [
    "12) Temperature Conversion:\n",
    "Write a Python program to convert a temperature from Celsius to Fahrenheit. Use the\n",
    "formula:\n",
    "F = 9/5 * C + 32\n",
    "Take C (temperature in Celsius) as input from the user."
   ]
  },
  {
   "cell_type": "code",
   "execution_count": 82,
   "id": "0f7d0d5b-2690-44a6-a5a1-5e0df1f77a2a",
   "metadata": {},
   "outputs": [
    {
     "name": "stdin",
     "output_type": "stream",
     "text": [
      "Enter Temperature 34.8\n"
     ]
    },
    {
     "name": "stdout",
     "output_type": "stream",
     "text": [
      "The temp in celcius is 34.8 and converted temp is 94.63999999999999\n"
     ]
    }
   ],
   "source": [
    "C = float(input(\"Enter Temperature\"))\n",
    "F = 9/5 * C + 32\n",
    "print(f\"The temp in celcius is {C} and converted temp is {F}\")"
   ]
  },
  {
   "cell_type": "markdown",
   "id": "bf70f746-de02-4d98-bcd4-8864d60fe6e3",
   "metadata": {},
   "source": [
    "13) Gravitational Force:\n",
    "Write a Python program to calculate the gravitational force between two objects. Use the formula\n",
    "F = G * m1 ∗ m2 / r**2\n",
    "m1, m2 are the masses of the objects\n",
    "r = distance between the centers of the objects\n",
    "Take m1, m2 and r as inputs from the user."
   ]
  },
  {
   "cell_type": "code",
   "execution_count": 83,
   "id": "b5838ef5-00ab-4c3c-9841-f9d480c00815",
   "metadata": {},
   "outputs": [
    {
     "name": "stdin",
     "output_type": "stream",
     "text": [
      "Enter Mass1 70.6\n",
      "Enter Mass2 40.9\n",
      "Enter Radius 15\n"
     ]
    },
    {
     "name": "stdout",
     "output_type": "stream",
     "text": [
      "Mass1 is 70.6 Mass2 is 40.9 Radius is 15.0 Gravity is 9.8 and Gravitational Force applied is 125.76840888888889\n"
     ]
    }
   ],
   "source": [
    "m1 = float(input(\"Enter Mass1\"))\n",
    "m2 = float(input(\"Enter Mass2\"))\n",
    "r = float(input(\"Enter Radius\"))\n",
    "G = 9.8\n",
    "F = G * m1*m2 / r**2\n",
    "print(f\"Mass1 is {m1} Mass2 is {m2} Radius is {r} Gravity is {G} and Gravitational Force applied is {F}\")"
   ]
  },
  {
   "cell_type": "markdown",
   "id": "4df8a7c3-0869-40b4-b468-c4b0e7e6f5c5",
   "metadata": {},
   "source": [
    "14) Volume of a Cylinder:\n",
    "Write a Python program to calculate the volume of a cylinder. Use the formula:\n",
    "Volume = π*r**2*h\n",
    "Take radius(r) and height(h) as inputs from the user"
   ]
  },
  {
   "cell_type": "code",
   "execution_count": 84,
   "id": "376c5e5f-443d-427f-9520-d2b54559e93b",
   "metadata": {},
   "outputs": [
    {
     "name": "stdin",
     "output_type": "stream",
     "text": [
      "Enter Radius 6\n",
      "Enter height 10\n"
     ]
    },
    {
     "name": "stdout",
     "output_type": "stream",
     "text": [
      "Radius is 6.0 Height is 10.0 and Volume is 1131.12\n"
     ]
    }
   ],
   "source": [
    "r = float(input(\"Enter Radius\"))\n",
    "h = float(input(\"Enter height\"))\n",
    "π = 3.142\n",
    "V = π*r**2*h\n",
    "print(f\"Radius is {r} Height is {h} and Volume is {V}\")"
   ]
  },
  {
   "cell_type": "markdown",
   "id": "2db4c335-8088-4969-8317-ea6005dd1ed1",
   "metadata": {},
   "source": [
    "15) Pressure:\n",
    "Write a Python program to calculate the pressure exerted by a force on a surface. Use the formula:\n",
    "P = F / A\n",
    "P = pressure\n",
    "F = force\n",
    "A = area\n",
    "Take F(force) and A(area) as inputs from the user."
   ]
  },
  {
   "cell_type": "code",
   "execution_count": 87,
   "id": "3ff761f6-0646-49c4-adc3-ed98a86b7d35",
   "metadata": {},
   "outputs": [
    {
     "name": "stdin",
     "output_type": "stream",
     "text": [
      "Enter Force 50\n",
      "Enter Area 25\n"
     ]
    },
    {
     "name": "stdout",
     "output_type": "stream",
     "text": [
      "Force is 50.0 Area is 25.0 and Pressure is 2.0\n"
     ]
    }
   ],
   "source": [
    "F = float(input(\"Enter Force\"))\n",
    "A = float(input(\"Enter Area\"))\n",
    "P = F / A\n",
    "print(f\"Force is {F} Area is {A} and Pressure is {P}\")"
   ]
  },
  {
   "cell_type": "markdown",
   "id": "e9637e99-d65e-4cea-8085-a738d92ed525",
   "metadata": {},
   "source": [
    "16) Electric Power:\n",
    "Write a Python program to calculate the electric power consumed. Use the formula:\n",
    "P = V * I\n",
    "where:\n",
    "P = power\n",
    "V = voltage\n",
    "I = current\n",
    "Take V(voltage) and I(current) as inputs from the user."
   ]
  },
  {
   "cell_type": "code",
   "execution_count": 88,
   "id": "3cf00801-ce51-4394-b30b-b6e42ff1dc9c",
   "metadata": {},
   "outputs": [
    {
     "name": "stdin",
     "output_type": "stream",
     "text": [
      "Enter voltage 25\n",
      "Enter current 40\n"
     ]
    },
    {
     "name": "stdout",
     "output_type": "stream",
     "text": [
      "Voltage is 25.0 Current is 40.0 and Power is 1000.0\n"
     ]
    }
   ],
   "source": [
    "V = float(input(\"Enter voltage\"))\n",
    "I = float(input(\"Enter current\"))\n",
    "P = V * I\n",
    "print(f\"Voltage is {V} Current is {I} and Power is {P}\")"
   ]
  },
  {
   "cell_type": "markdown",
   "id": "71745394-8d9b-437e-9160-7a6f38c878eb",
   "metadata": {},
   "source": [
    "17) Perimeter of a Circle (Circumference):\n",
    "Write a Python program to calculate the perimeter (circumference) of a circle. Use the\n",
    "formula:\n",
    "P = 2*Pi*r\n",
    "Take r (radius) as input from the user."
   ]
  },
  {
   "cell_type": "code",
   "execution_count": 89,
   "id": "2f1c2057-2428-4e80-a380-e8422a09e731",
   "metadata": {},
   "outputs": [
    {
     "name": "stdin",
     "output_type": "stream",
     "text": [
      "Enter radius 5.8\n"
     ]
    },
    {
     "name": "stdout",
     "output_type": "stream",
     "text": [
      "Radius is 5.8 π is 3.142 and Perimeter is 36.447199999999995\n"
     ]
    }
   ],
   "source": [
    "r = float(input(\"Enter radius\"))\n",
    "π = 3.142\n",
    "P = 2*π*r\n",
    "print(f\"Radius is {r} π is {π} and Perimeter is {P}\")"
   ]
  },
  {
   "cell_type": "markdown",
   "id": "9440992a-0684-4493-b1cb-f90a820b345d",
   "metadata": {},
   "source": [
    "18) Future Value in Savings:\n",
    "Write a Python program to calculate the future value of an investment. Use the formula:\n",
    "FV = PV*(1+r)**t\n",
    "where:\n",
    "FV= future value\n",
    "PV= present value\n",
    "r= annual interest rate (as a decimal)\n",
    "t= time in years\n",
    "Take PV, r, and t as inputs from the user."
   ]
  },
  {
   "cell_type": "code",
   "execution_count": 90,
   "id": "01ff1a99-c006-491b-97b4-ccb26f676e06",
   "metadata": {},
   "outputs": [
    {
     "name": "stdin",
     "output_type": "stream",
     "text": [
      "Enter present value 584.65\n",
      "Enter annual interest rate 0.05\n",
      "Enter time 2\n"
     ]
    },
    {
     "name": "stdout",
     "output_type": "stream",
     "text": [
      "Present value is 584.65 Interest rate is 0.05 and time in years is 2.0 and future value wil be 644.576625\n"
     ]
    }
   ],
   "source": [
    "PV = float(input(\"Enter present value\"))\n",
    "r = float(input(\"Enter annual interest rate\"))\n",
    "t = float(input(\"Enter time\"))\n",
    "FV = PV*(1+r)**t\n",
    "print(f\"Present value is {PV} Interest rate is {r} and time in years is {t} and future value wil be {FV}\")"
   ]
  },
  {
   "cell_type": "markdown",
   "id": "71c5a341-768e-469a-befd-30da68ccd74d",
   "metadata": {},
   "source": [
    "19) Work Done by a Force:\n",
    "Write a Python program to calculate the work done by a force. Use the formula:\n",
    "W = F * D * Cos * θ\n",
    "where:\n",
    "W = work done\n",
    "f= force\n",
    "d = distance\n",
    "θ = angle between force and direction of movement (in degrees)\n",
    "Take f, d, and θ as inputs from the user."
   ]
  },
  {
   "cell_type": "code",
   "execution_count": 51,
   "id": "195aaf23-914a-4027-82b5-b92695df0fd8",
   "metadata": {},
   "outputs": [
    {
     "name": "stdin",
     "output_type": "stream",
     "text": [
      "Enter Force 20\n",
      "Enter Distance 35\n",
      "Enter angle 60\n"
     ]
    },
    {
     "name": "stdout",
     "output_type": "stream",
     "text": [
      "Force is 20.0 Distance is 35.0 Angle is 60.0 and Workdone is 350.00000000000006\n"
     ]
    }
   ],
   "source": [
    "import math\n",
    "F = float(input(\"Enter Force\"))\n",
    "D = float(input(\"Enter Distance\"))\n",
    "θ = float(input(\"Enter angle\"))\n",
    "angle_radians = math.radians(θ)\n",
    "cosine = math.cos(angle_radians)\n",
    "W = F * D * cosine\n",
    "print(f\"Force is {F} Distance is {D} Angle is {θ} and Workdone is {W}\")"
   ]
  },
  {
   "cell_type": "markdown",
   "id": "a571c244-f0ec-45a5-95e0-7e4dc022ee3d",
   "metadata": {},
   "source": [
    "20) Heat Transfer:\n",
    "Write a Python program to calculate the amount of heat transferred. Use the formula:\n",
    "Q = mc (∆T)\n",
    "where:\n",
    "Q= heat transfer\n",
    "m = mass\n",
    "c = specific heat capacity\n",
    "ΔT\n",
    "Take m, c, T as inputs from the user."
   ]
  },
  {
   "cell_type": "code",
   "execution_count": 45,
   "id": "6645843f-daba-43eb-baf9-9d6fa7889bef",
   "metadata": {},
   "outputs": [
    {
     "name": "stdin",
     "output_type": "stream",
     "text": [
      "Enter mass 49.5\n",
      "Enter heat capacity 70\n",
      "Enter initial temperature 48\n",
      "Enter final temperature 50\n"
     ]
    },
    {
     "name": "stdout",
     "output_type": "stream",
     "text": [
      "Mass is 49.5 Heat capacity is 70.0 Initial temperature is 48.0 Final temperature is 50.0 change in temperature is 2.0 and Heat transfer is 6930.0\n"
     ]
    }
   ],
   "source": [
    "m = float(input(\"Enter mass\"))\n",
    "c = float(input(\"Enter heat capacity\"))\n",
    "t1 = float(input(\"Enter initial temperature\"))\n",
    "t2 = float(input(\"Enter final temperature\"))\n",
    "delT = t2 - t1\n",
    "Q = m * c * delT\n",
    "print(f\"Mass is {m} Heat capacity is {c} Initial temperature is {t1} Final temperature is {t2} change in temperature is {delT} and Heat transfer is {Q}\")"
   ]
  }
 ],
 "metadata": {
  "kernelspec": {
   "display_name": "Python 3 (ipykernel)",
   "language": "python",
   "name": "python3"
  },
  "language_info": {
   "codemirror_mode": {
    "name": "ipython",
    "version": 3
   },
   "file_extension": ".py",
   "mimetype": "text/x-python",
   "name": "python",
   "nbconvert_exporter": "python",
   "pygments_lexer": "ipython3",
   "version": "3.12.5"
  }
 },
 "nbformat": 4,
 "nbformat_minor": 5
}
