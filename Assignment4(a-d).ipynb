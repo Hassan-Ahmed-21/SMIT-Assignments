{
 "cells": [
  {
   "cell_type": "markdown",
   "id": "6c6f7dcd-9716-47d5-bfb1-5bc31ed52c00",
   "metadata": {},
   "source": [
    "# Conditional Structures"
   ]
  },
  {
   "cell_type": "markdown",
   "id": "7aa4144b-31c7-429a-85e1-bec68e7d87b3",
   "metadata": {},
   "source": [
    "1. Write a program that prompts the user to input a number and display if the number\n",
    "is even or odd."
   ]
  },
  {
   "cell_type": "code",
   "execution_count": 24,
   "id": "eb80ec36-d92c-44e3-acba-7f7b2dc1108b",
   "metadata": {},
   "outputs": [
    {
     "name": "stdin",
     "output_type": "stream",
     "text": [
      "Enter a number 5\n"
     ]
    },
    {
     "name": "stdout",
     "output_type": "stream",
     "text": [
      "Odd number\n"
     ]
    }
   ],
   "source": [
    "num = int(input(\"Enter a number\"))\n",
    "if num%2==0:\n",
    "    print(\"Even number\")\n",
    "else:\n",
    "    print(\"Odd number\")"
   ]
  },
  {
   "cell_type": "markdown",
   "id": "86fd0172-c3f7-4bc7-97b6-a16dccff9871",
   "metadata": {},
   "source": [
    "2. Write a Python program that takes an age as input and determines whether a person\n",
    "is eligible to vote. If the age is 18 or above, print \"You are eligible to vote.\" Otherwise,\n",
    "print \"You are not eligible to vote yet.\"."
   ]
  },
  {
   "cell_type": "code",
   "execution_count": 25,
   "id": "3080ca7c-b788-4dc4-b5a4-87f9c808b5c7",
   "metadata": {},
   "outputs": [
    {
     "name": "stdin",
     "output_type": "stream",
     "text": [
      "Enter a number 17\n"
     ]
    },
    {
     "name": "stdout",
     "output_type": "stream",
     "text": [
      "You are not eligible to vote yet.\n"
     ]
    }
   ],
   "source": [
    "num = int(input(\"Enter a number\"))\n",
    "if num>=18:\n",
    "    print(\"You are eligible to vote.\")\n",
    "else:\n",
    "    print(\"You are not eligible to vote yet.\")"
   ]
  },
  {
   "cell_type": "markdown",
   "id": "b56e2352-514b-4884-a85f-af68d3f71c86",
   "metadata": {},
   "source": [
    "3. Write a program that prompts the user to input two integers and outputs the largest."
   ]
  },
  {
   "cell_type": "code",
   "execution_count": 27,
   "id": "4c8272d8-08b8-4c89-b89a-70c6054a56cf",
   "metadata": {},
   "outputs": [
    {
     "name": "stdin",
     "output_type": "stream",
     "text": [
      "Enter number 1 3\n",
      "Enter number 2 5\n"
     ]
    },
    {
     "name": "stdout",
     "output_type": "stream",
     "text": [
      "Num2 is largest\n"
     ]
    }
   ],
   "source": [
    "num1 = int(input(\"Enter number 1\"))\n",
    "num2 = int(input(\"Enter number 2\"))\n",
    "if num1>num2:\n",
    "    print(\"Num1 is largest\")\n",
    "else:\n",
    "    print(\"Num2 is largest\")"
   ]
  },
  {
   "cell_type": "markdown",
   "id": "1e0c5638-e5df-436c-977f-d5b81bdae0bd",
   "metadata": {},
   "source": [
    "4. Write a program that prompts the user to enter a number and determines whether it\n",
    "is positive, negative, or zero. The program should print \"Positive\" if the number is\n",
    "greater than 0, \"Negative\" if the number is less than 0, and \"Zero\" if the number is 0."
   ]
  },
  {
   "cell_type": "code",
   "execution_count": 32,
   "id": "0536d3a0-cc4d-4292-a135-ca842e5fa832",
   "metadata": {},
   "outputs": [
    {
     "name": "stdin",
     "output_type": "stream",
     "text": [
      "Enter number  -9\n"
     ]
    },
    {
     "name": "stdout",
     "output_type": "stream",
     "text": [
      "Number is Negetive\n"
     ]
    }
   ],
   "source": [
    "num = int(input(\"Enter number \"))\n",
    "if num==0:\n",
    "    print(\"Number is 0\")\n",
    "elif num>0:\n",
    "    print(\"Number is Positive\")\n",
    "else:\n",
    "    print(\"Number is Negetive\")"
   ]
  },
  {
   "cell_type": "markdown",
   "id": "1ff36b09-e451-4396-bcc1-2ade40b5e3fb",
   "metadata": {},
   "source": [
    "5. Write a program that prompts the user to enter their age and prints the\n",
    "corresponding age group. The program should use the following age groups:\n",
    "0-12: Child\n",
    "13-19: Teenager\n",
    "20-59: Adult\n",
    "60 and above: Senior Citizen"
   ]
  },
  {
   "cell_type": "code",
   "execution_count": 34,
   "id": "d0841071-76b1-499a-a2b3-5799fdc7e673",
   "metadata": {},
   "outputs": [
    {
     "name": "stdin",
     "output_type": "stream",
     "text": [
      "Enter a number 70\n"
     ]
    },
    {
     "name": "stdout",
     "output_type": "stream",
     "text": [
      "You are a senior citizen\n"
     ]
    }
   ],
   "source": [
    "num = int(input(\"Enter a number\"))\n",
    "if num>=0 and num<=12:\n",
    "    print(\"You are a Child.\")\n",
    "elif num>=13 and num<=19:\n",
    "    print(\"You are a Teenager\")\n",
    "elif num>=20 and num<=59:\n",
    "    print(\"You are an Adult\")\n",
    "else:\n",
    "    print(\"You are a senior citizen\")"
   ]
  },
  {
   "cell_type": "markdown",
   "id": "e6f275e3-8e1c-44d9-88ef-32a71d9b3aaa",
   "metadata": {},
   "source": [
    "6. Write a program that prompts the user to input a number from 1 to 7. The program\n",
    "should display the corresponding day for the given number. For example, if the user\n",
    "types 1, the output should be Sunday. If the user types 7, the output should be\n",
    "Saturday. If the number is not between 1 to 7 user should get error message as shown\n",
    "in sample output."
   ]
  },
  {
   "cell_type": "code",
   "execution_count": 38,
   "id": "02973e4c-4069-4673-a9fb-84cd175dde2f",
   "metadata": {},
   "outputs": [
    {
     "name": "stdin",
     "output_type": "stream",
     "text": [
      "Enter a number 7\n"
     ]
    },
    {
     "name": "stdout",
     "output_type": "stream",
     "text": [
      "It is Saturday\n"
     ]
    }
   ],
   "source": [
    "num = int(input(\"Enter a number\"))\n",
    "if num==1:\n",
    "    print(\"It is Sunday\")\n",
    "if num==2:\n",
    "    print(\"It is Monday\")\n",
    "if num==3:\n",
    "    print(\"It is Tuesday\")\n",
    "if num==4:\n",
    "    print(\"It is Wednesday\")\n",
    "if num==5:\n",
    "    print(\"It is Thursday\")\n",
    "if num==6:\n",
    "    print(\"It is Friday\")\n",
    "if num==7:\n",
    "    print(\"It is Saturday\")\n",
    "else:\n",
    "    print(\"Enter between 1 to 7 please\")"
   ]
  },
  {
   "cell_type": "markdown",
   "id": "896097a4-6236-4eb2-9a05-09b4cce7e97c",
   "metadata": {},
   "source": [
    "7. Write a program that prompts the user to enter their weight (in kilograms) and height\n",
    "(in meters). The program should calculate the Body Mass Index (BMI) using the formula:\n",
    "BMI = weight / (height * height). The program should then classify the BMI into one of\n",
    "the following categories:\n",
    "less than 18.5 - Underweight\n",
    "BMI between 18.5 and 24.9 - Normal weight\n",
    "BMI between 25 and 29.9 - Overweight\n",
    "BMI 30 or greater - Obesity"
   ]
  },
  {
   "cell_type": "code",
   "execution_count": 50,
   "id": "e26f51e4-4367-4430-8776-7285d4a56464",
   "metadata": {},
   "outputs": [
    {
     "name": "stdin",
     "output_type": "stream",
     "text": [
      "Enter your weight 64\n",
      "Enter your height 1.94\n"
     ]
    },
    {
     "name": "stdout",
     "output_type": "stream",
     "text": [
      "Underweight.\n",
      "17.004995217345098\n"
     ]
    }
   ],
   "source": [
    "w = float(input(\"Enter your weight\"))\n",
    "h = float(input(\"Enter your height\"))\n",
    "BMI = w/(h*h)\n",
    "if BMI<18.5:\n",
    "    print(\"Underweight.\")\n",
    "    print(BMI)\n",
    "    \n",
    "elif 18.5<=BMI<24.9:\n",
    "    print(\"Normal.\")\n",
    "    print(BMI)\n",
    "    \n",
    "elif 25<=BMI<29.9:\n",
    "    print(\"Overweight\")\n",
    "    print(BMI)\n",
    "\n",
    "else:\n",
    "    print(\"Obesity\")\n",
    "    print(BMI)"
   ]
  },
  {
   "cell_type": "markdown",
   "id": "67c8f403-4c4e-44fc-ab29-cb81701b0493",
   "metadata": {},
   "source": [
    "8. The marks obtained by a student in 3 different subjects are input by the user. Your\n",
    "program should calculate the average of subjects and display the grade. The student\n",
    "gets a grade as per the following rules:\n",
    "Average Grade\n",
    "90-100 A\n",
    "80-89 B\n",
    "70-79 C\n",
    "60-69 D\n",
    "0-59 F"
   ]
  },
  {
   "cell_type": "code",
   "execution_count": 52,
   "id": "609aa816-348e-41d1-a73b-06405c04bcc6",
   "metadata": {},
   "outputs": [
    {
     "name": "stdin",
     "output_type": "stream",
     "text": [
      "Enter your marks in Sub1 80\n",
      "Enter your marks in Sub2 85\n",
      "Enter your marks in Sub3 70\n"
     ]
    },
    {
     "name": "stdout",
     "output_type": "stream",
     "text": [
      "You got a D\n",
      "78.33333333333333\n"
     ]
    }
   ],
   "source": [
    "S1 = float(input(\"Enter your marks in Sub1\"))\n",
    "S2 = float(input(\"Enter your marks in Sub2\"))\n",
    "S3 = float(input(\"Enter your marks in Sub3\"))\n",
    "Marks = 300\n",
    "grade = None;\n",
    "percentage = (S1+S2+S3)/300 * 100\n",
    "if 90<=percentage>=100:\n",
    "    print(\"You got an A\")\n",
    "    print(percentage)\n",
    "elif 80<=percentage>=89:\n",
    "    print(\"You got a B\")    \n",
    "    print(percentage)\n",
    "    print(percentage)\n",
    "if 70<=percentage>=79:\n",
    "    print(\"You got a C\")    \n",
    "    print(percentage)\n",
    "if 60<=percentage>=69:\n",
    "    print(\"You got a D\")    \n",
    "    print(percentage)\n",
    "else:\n",
    "    print(\"You got a F\")       \n",
    "    print(percentage)"
   ]
  },
  {
   "cell_type": "markdown",
   "id": "da8703e0-d0ca-4ad4-b32d-6d0e17ce3fcf",
   "metadata": {},
   "source": [
    "9. The roots of the quadratic equation ax**2+bx+c=0, a ≠ 0 are given by the following\n",
    "formula:\n",
    "(-b+(b**2-4ac)1/2)/2a , (+b+(b**2-4ac)**1/2)/2a\n",
    "In this formula,\n",
    "If b**2-4ac=0, then the equation has two equal roots.\n",
    "If b**2-4ac>0, the equation has two real roots.\n",
    "If b**2-4ac<0, the equation has two complex roots.\n",
    "Write a program that prompts the user to input the value of a (the coefficient of x**2), b(the coefficient of x), and c(the constant term) and outputs the roots of the quadratic equation."
   ]
  },
  {
   "cell_type": "code",
   "execution_count": 4,
   "id": "62902554-6f85-41ce-9b3f-32e683ae4fdb",
   "metadata": {},
   "outputs": [
    {
     "name": "stdin",
     "output_type": "stream",
     "text": [
      "Enter value of A 6\n",
      "Enter value of B 8\n",
      "Enter value of C 2\n"
     ]
    },
    {
     "name": "stdout",
     "output_type": "stream",
     "text": [
      "the equation has two real roots.\n"
     ]
    }
   ],
   "source": [
    "a = int(input(\"Enter value of A\"))\n",
    "b = int(input(\"Enter value of B\"))\n",
    "c = int(input(\"Enter value of C\"))\n",
    "val = b**2 - 4*a*c\n",
    "if val==0:\n",
    "    print(\"the equation has two equal roots.\")\n",
    "elif val>0:\n",
    "    print(\"the equation has two real roots.\")\n",
    "else:\n",
    "    print(\"the equation has two complex roots.\")"
   ]
  },
  {
   "cell_type": "markdown",
   "id": "71053c53-b519-4aaf-a334-f6b1bcede114",
   "metadata": {},
   "source": [
    "10. Write a program that prompts the user to enter three numbers and sorts them in\n",
    "ascending order. The program should print the sorted numbers."
   ]
  },
  {
   "cell_type": "code",
   "execution_count": 54,
   "id": "e462370e-3e77-4b59-ab86-6e52cd91c02c",
   "metadata": {},
   "outputs": [
    {
     "name": "stdin",
     "output_type": "stream",
     "text": [
      "Enter number1 8\n",
      "Enter number2 5\n",
      "Enter number3 2\n"
     ]
    },
    {
     "name": "stdout",
     "output_type": "stream",
     "text": [
      "[2, 5, 8]\n"
     ]
    }
   ],
   "source": [
    "num1 = int(input(\"Enter number1\"))\n",
    "num2 = int(input(\"Enter number2\"))\n",
    "num3 = int(input(\"Enter number3\"))\n",
    "num = [num1, num2, num3]\n",
    "sort_num = sorted(num)\n",
    "print(sort_num)"
   ]
  },
  {
   "cell_type": "markdown",
   "id": "770fce10-39b0-4c35-a49b-107eda8b9cb0",
   "metadata": {},
   "source": [
    "11. Write a program that prompts the user to input three integers and outputs the\n",
    "largest."
   ]
  },
  {
   "cell_type": "code",
   "execution_count": 56,
   "id": "38ff085f-d270-4045-89c2-0e2c35258291",
   "metadata": {},
   "outputs": [
    {
     "name": "stdin",
     "output_type": "stream",
     "text": [
      "Enter number 1 8\n",
      "Enter number 2 9\n",
      "Enter number 3 7\n"
     ]
    },
    {
     "name": "stdout",
     "output_type": "stream",
     "text": [
      "Num2 is largest\n"
     ]
    }
   ],
   "source": [
    "num1 = int(input(\"Enter number 1\"))\n",
    "num2 = int(input(\"Enter number 2\"))\n",
    "num3 = int(input(\"Enter number 3\"))\n",
    "if num1>num2 and num1>num3:\n",
    "    print(\"Num1 is largest\")\n",
    "elif num2>num1 and num2>num3:\n",
    "    print(\"Num2 is largest\")\n",
    "else:\n",
    "    print(\"Num3 is largest\")"
   ]
  },
  {
   "cell_type": "markdown",
   "id": "4ddab31c-54a5-4327-8ef7-68f0d9085ccf",
   "metadata": {},
   "source": [
    "12. Write a program that prompts the user to input a character and determine the\n",
    "character is vowel or consonant."
   ]
  },
  {
   "cell_type": "code",
   "execution_count": 58,
   "id": "42f4147a-d5d6-4e06-b354-4529d21b1f2c",
   "metadata": {},
   "outputs": [
    {
     "name": "stdin",
     "output_type": "stream",
     "text": [
      "Enter a character:  p\n"
     ]
    },
    {
     "name": "stdout",
     "output_type": "stream",
     "text": [
      "The character 'p' is a consonant.\n"
     ]
    }
   ],
   "source": [
    "char = input(\"Enter a character: \").lower()\n",
    "if len(char) == 1:\n",
    "    vowels = \"aeiou\"\n",
    "    if char in vowels:\n",
    "        print(f\"The character '{char}' is a vowel.\")\n",
    "    else:\n",
    "        print(f\"The character '{char}' is a consonant.\")\n",
    "else:\n",
    "    print(\"Please enter a single alphabetic character.\")"
   ]
  },
  {
   "cell_type": "markdown",
   "id": "b4c395b4-55db-409d-a4c8-2007b9ea0af3",
   "metadata": {},
   "source": [
    "13. Write a program that prompts the user to input a year and determine whether the\n",
    "year is a leap year or not.\n",
    "Leap Years are any year that can be evenly divided by 4. A year that is evenly divisible by\n",
    "100 is a leap year only if it is also evenly divisible by 400. Example:\n",
    "1992 Leap Year\n",
    "2000 Leap Year\n",
    "1900 NOT a Leap Year\n",
    "1995 NOT a Leap Year"
   ]
  },
  {
   "cell_type": "code",
   "execution_count": 66,
   "id": "eeb98e3c-4c15-4c5d-9502-adc8ec033056",
   "metadata": {},
   "outputs": [
    {
     "name": "stdin",
     "output_type": "stream",
     "text": [
      "Enter the year 1996\n"
     ]
    },
    {
     "name": "stdout",
     "output_type": "stream",
     "text": [
      "1996 is a leap year\n"
     ]
    }
   ],
   "source": [
    "year = int(input(\"Enter the year\"))\n",
    "if year%4==0:\n",
    "    print(f\"{year} is a leap year\")\n",
    "else:\n",
    "    print(f\"{year} is not a leap year\")"
   ]
  },
  {
   "cell_type": "markdown",
   "id": "35161e3f-316f-4b17-b328-a81e30bc8169",
   "metadata": {},
   "source": [
    "14. Write a program that prompts the user to input number of calls and calculate the\n",
    "monthly telephone bills as per the following rule:\n",
    "Minimum Rs. 200 for up to 100 calls.\n",
    "Plus Rs. 0.60 per call for next 50 calls.\n",
    "Plus Rs. 0.50 per call for next 50 calls.\n",
    "Plus Rs. 0.40 per call for any call beyond 200 calls. "
   ]
  },
  {
   "cell_type": "code",
   "execution_count": 106,
   "id": "534dc96a-b8e2-4dda-8f41-816f0009a1b8",
   "metadata": {},
   "outputs": [
    {
     "name": "stdin",
     "output_type": "stream",
     "text": [
      "Enter the number of calls made:  199\n"
     ]
    },
    {
     "name": "stdout",
     "output_type": "stream",
     "text": [
      "The total cost of the calls is: Rs. 254.5\n"
     ]
    }
   ],
   "source": [
    "calls = int(input(\"Enter the number of calls made: \"))\n",
    "total_cost = 200\n",
    "if calls > 200:\n",
    "    total_cost += (calls - 200) * 0.40\n",
    "    calls = 200\n",
    "\n",
    "if calls > 150:\n",
    "    total_cost += (calls - 150) * 0.50\n",
    "    calls = 150\n",
    "\n",
    "if calls > 100:\n",
    "    total_cost += (calls - 100) * 0.60\n",
    "\n",
    "# Display the total cost\n",
    "print(f\"The total cost of the calls is: Rs. {total_cost}\")\n"
   ]
  },
  {
   "cell_type": "markdown",
   "id": "05faf144-f2df-4164-a6a7-87ca2e83b9dc",
   "metadata": {},
   "source": [
    "# List Assignment"
   ]
  },
  {
   "cell_type": "markdown",
   "id": "e4590cb5-e511-4ea9-9d3e-e8e61d8c65de",
   "metadata": {},
   "source": [
    "1. Write a program that accepts a list from user and print the alternate element of list."
   ]
  },
  {
   "cell_type": "code",
   "execution_count": 8,
   "id": "7ed0553e-e619-4c69-b46a-128d9ecce399",
   "metadata": {},
   "outputs": [
    {
     "name": "stdin",
     "output_type": "stream",
     "text": [
      "Enter list 123456\n"
     ]
    },
    {
     "name": "stdout",
     "output_type": "stream",
     "text": [
      "list is ['1', '2', '3', '4', '5', '6']\n"
     ]
    }
   ],
   "source": [
    "alist = list(input(\"Enter list\"))\n",
    "print(f\"list is {alist}\")"
   ]
  },
  {
   "cell_type": "markdown",
   "id": "473ecaca-c1da-4705-803e-b21fd55ca107",
   "metadata": {},
   "source": [
    "2. Write a program that accepts a list from user. Your program should reverse the content of list and\n",
    "display it. Do not use reverse() method."
   ]
  },
  {
   "cell_type": "code",
   "execution_count": 11,
   "id": "178abac6-34ac-42ee-a3f9-5e535573bb1b",
   "metadata": {},
   "outputs": [
    {
     "name": "stdin",
     "output_type": "stream",
     "text": [
      "Enter list 1234568\n"
     ]
    },
    {
     "name": "stdout",
     "output_type": "stream",
     "text": [
      "reversed list is ['8', '6', '5', '4', '3', '2', '1']\n"
     ]
    }
   ],
   "source": [
    "alist = list(input(\"Enter list\"))\n",
    "rev_list = alist[::-1]\n",
    "print(f\"reversed list is {rev_list}\")"
   ]
  },
  {
   "cell_type": "markdown",
   "id": "d1682bcd-476f-48d0-a1ed-a71fd1b092ee",
   "metadata": {},
   "source": [
    "3. Find and display the largest number of a list without using built-in function max(). Your program\n",
    "should ask the user to input values in list from keyboard."
   ]
  },
  {
   "cell_type": "code",
   "execution_count": null,
   "id": "01f0b611-1bfd-48d3-acb6-acc735a0b937",
   "metadata": {},
   "outputs": [],
   "source": [
    "alist = list(input(\"Enter list\"))\n",
    "\n",
    "print(f\"list is {alist}\")"
   ]
  },
  {
   "cell_type": "markdown",
   "id": "b70cdae9-3bab-4298-bd47-9d23c015563f",
   "metadata": {},
   "source": [
    "4. Write a program that rotates the element of a list so that the element at the first index moves to the\n",
    "second index, the element in the second index moves to the third index, etc., and the element in the last\n",
    "index moves to the first index."
   ]
  },
  {
   "cell_type": "code",
   "execution_count": 24,
   "id": "3bca4d7e-45d3-4ffd-a6fb-6cc0102fc22a",
   "metadata": {},
   "outputs": [
    {
     "name": "stdout",
     "output_type": "stream",
     "text": [
      "[5, 1, 2, 3, 4]\n"
     ]
    }
   ],
   "source": [
    "my_list = [1, 2, 3, 4, 5]\n",
    "last_element = my_list[-1]\n",
    "my_list = my_list[:-1]\n",
    "my_list.insert(0, last_element)\n",
    "print(my_list)"
   ]
  },
  {
   "cell_type": "markdown",
   "id": "f314c891-f566-4c96-b337-c5d97de57fd4",
   "metadata": {},
   "source": [
    "5. Write a program that input a string and ask user to delete a given word from a string."
   ]
  },
  {
   "cell_type": "code",
   "execution_count": null,
   "id": "6354f99f-a14b-4872-bef9-0e399a1bd85a",
   "metadata": {},
   "outputs": [],
   "source": [
    "str = input(\"Enter a string\")\n",
    "\n"
   ]
  },
  {
   "cell_type": "markdown",
   "id": "dbde4a78-6d7a-4813-ae35-602ade76f2d2",
   "metadata": {},
   "source": [
    "6. Write a program that reads a string from the user containing a date in the form mm/dd/yyyy. It\n",
    "should print the date in the form March 12, 2021."
   ]
  },
  {
   "cell_type": "code",
   "execution_count": 23,
   "id": "c1eeed2d-514d-4761-83ea-b7571e50f5bc",
   "metadata": {},
   "outputs": [
    {
     "name": "stdin",
     "output_type": "stream",
     "text": [
      "Enter a date in the format mm/dd/yyyy:  08/29/2019\n"
     ]
    },
    {
     "name": "stdout",
     "output_type": "stream",
     "text": [
      "August 29, 2019\n"
     ]
    }
   ],
   "source": [
    "date_str = input(\"Enter a date in the format mm/dd/yyyy: \")\n",
    "month, day, year = date_str.split('/')\n",
    "months = [\"January\", \"February\", \"March\", \"April\", \"May\", \"June\", \"July\", \"August\", \"September\", \"October\", \"November\", \"December\"]\n",
    "print(f\"{months[int(month)-1]} {day}, {year}\")"
   ]
  },
  {
   "cell_type": "markdown",
   "id": "2efb69cc-66f1-4837-b187-406d463484de",
   "metadata": {},
   "source": [
    "7. Write a program with a function that accepts a string from keyboard and create a new string after\n",
    "converting character of each word capitalized. For instance, if the sentence is \"stop and smell the roses.\"\n",
    "the output should be \"Stop And Smell The Roses\""
   ]
  },
  {
   "cell_type": "code",
   "execution_count": 8,
   "id": "85d986ed-c1e3-42bb-8174-14b758fab0d4",
   "metadata": {},
   "outputs": [
    {
     "name": "stdin",
     "output_type": "stream",
     "text": [
      "Enter a string:  stop and smell the roses.\n"
     ]
    },
    {
     "data": {
      "text/plain": [
       "'Stop And Smell The Roses.'"
      ]
     },
     "execution_count": 8,
     "metadata": {},
     "output_type": "execute_result"
    }
   ],
   "source": [
    "str = input(\"Enter a string: \")\n",
    "str.title()"
   ]
  },
  {
   "cell_type": "markdown",
   "id": "d3dc9af9-5c95-461c-9fbc-037f874ca515",
   "metadata": {},
   "source": [
    "8. Find the sum of each row of matrix of size m x n. For example for the following matrix output will be\n",
    "like this :\n",
    "    2 11 7 12\n",
    "    5 2 9 15\n",
    "    8 3 10 12\n",
    "Sum of row 1 = 32\n",
    "Sum of row 2 = 31\n",
    "Sum of row 3 = 63"
   ]
  },
  {
   "cell_type": "code",
   "execution_count": 113,
   "id": "94a012ef-a7cc-40a4-a393-4f1196304eeb",
   "metadata": {},
   "outputs": [
    {
     "name": "stdout",
     "output_type": "stream",
     "text": [
      "The sum of the elements in list a is: 32\n",
      "The sum of the elements in list a is: 31\n",
      "The sum of the elements in list a is: 33\n"
     ]
    }
   ],
   "source": [
    "a = [2, 11, 7, 12]\n",
    "b = [5, 2, 9, 15]\n",
    "c = [8, 3, 10, 12]\n",
    "total_sum_a = 0\n",
    "for element in a:\n",
    "    total_sum_a += element\n",
    "print(\"The sum of the elements in list a is:\", total_sum_a)\n",
    "total_sum_b = 0\n",
    "for element in b:\n",
    "    total_sum_b += element\n",
    "print(\"The sum of the elements in list a is:\", total_sum_b)\n",
    "total_sum_c = 0\n",
    "for element in c:\n",
    "    total_sum_c += element\n",
    "print(\"The sum of the elements in list a is:\", total_sum_c)"
   ]
  },
  {
   "cell_type": "markdown",
   "id": "0a396d1a-9b55-4326-a6bb-89d1bcfdcdfe",
   "metadata": {},
   "source": [
    "9. Write a program to add two matrices of size n x m."
   ]
  },
  {
   "cell_type": "code",
   "execution_count": 20,
   "id": "65c5305a-e594-4a84-a147-81faa99e706f",
   "metadata": {},
   "outputs": [
    {
     "name": "stdout",
     "output_type": "stream",
     "text": [
      "[10, 10, 10]\n",
      "[10, 10, 10]\n",
      "[10, 10, 10]\n"
     ]
    }
   ],
   "source": [
    "def add_matrices(matrix1, matrix2):\n",
    "  if len(matrix1) != len(matrix2) or len(matrix1[0]) != len(matrix2[0]):\n",
    "      print(\"Matrices must have the same dimensions.\")\n",
    "\n",
    "  result = []\n",
    "  for i in range(len(matrix1)):\n",
    "    row = []\n",
    "    for j in range(len(matrix1[0])):\n",
    "      row.append(matrix1[i][j] + matrix2[i][j])\n",
    "    result.append(row)\n",
    "\n",
    "  return result\n",
    "\n",
    "matrix1 = [[1, 2, 3], [4, 5, 6], [7, 8, 9]]\n",
    "matrix2 = [[9, 8, 7], [6, 5, 4], [3, 2, 1]]\n",
    "\n",
    "result = add_matrices(matrix1, matrix2)\n",
    "\n",
    "for row in result:\n",
    "  print(row)"
   ]
  },
  {
   "cell_type": "markdown",
   "id": "2d9ae656-1bbd-49ee-8f52-6a386e4107ca",
   "metadata": {},
   "source": [
    "10. Write a program to multiply two matrices"
   ]
  },
  {
   "cell_type": "code",
   "execution_count": 15,
   "id": "c6bd10cb-e5e4-495b-92e3-28929c4d77bb",
   "metadata": {},
   "outputs": [
    {
     "name": "stdout",
     "output_type": "stream",
     "text": [
      "[[19, 22], [43, 50]]\n"
     ]
    }
   ],
   "source": [
    "A = [[1, 2],\n",
    "    [3, 4]]\n",
    "\n",
    "B = [[5, 6],\n",
    "    [7, 8]]\n",
    "\n",
    "result = [[0, 0], [0, 0]]\n",
    "\n",
    "for i in range(len(A)):\n",
    "    for j in range(len(B[0])):\n",
    "        for k in range(len(B)):\n",
    "            result[i][j] += A[i][k] * B[k][j]\n",
    "\n",
    "print(result)"
   ]
  },
  {
   "cell_type": "markdown",
   "id": "e0d3f893-6b38-4b68-ac30-1ecc54547e08",
   "metadata": {},
   "source": [
    "# Looping Structures"
   ]
  },
  {
   "cell_type": "markdown",
   "id": "e0cd87e1-e7d7-4680-ab00-a32f10601e72",
   "metadata": {},
   "source": [
    "1. Write a Python program to print the numbers from 1 to 10 using a for loop."
   ]
  },
  {
   "cell_type": "code",
   "execution_count": 76,
   "id": "f309309e-ce97-4bd7-9a71-84ca8b7ea77e",
   "metadata": {},
   "outputs": [
    {
     "name": "stdout",
     "output_type": "stream",
     "text": [
      "1\n",
      "2\n",
      "3\n",
      "4\n",
      "5\n",
      "6\n",
      "7\n",
      "8\n",
      "9\n",
      "10\n"
     ]
    }
   ],
   "source": [
    "for i in range(1,11):\n",
    "    print(i)"
   ]
  },
  {
   "cell_type": "markdown",
   "id": "b6ed85b0-3d89-41e3-ae8d-b0acebb82a47",
   "metadata": {},
   "source": [
    "2. Write a Python program to print the numbers from 20 to 1 using a while loop."
   ]
  },
  {
   "cell_type": "code",
   "execution_count": 79,
   "id": "bcc13342-e789-4a17-b898-f0313c71bbeb",
   "metadata": {},
   "outputs": [
    {
     "name": "stdout",
     "output_type": "stream",
     "text": [
      "20\n",
      "19\n",
      "18\n",
      "17\n",
      "16\n",
      "15\n",
      "14\n",
      "13\n",
      "12\n",
      "11\n",
      "10\n",
      "9\n",
      "8\n",
      "7\n",
      "6\n",
      "5\n",
      "4\n",
      "3\n",
      "2\n",
      "1\n"
     ]
    }
   ],
   "source": [
    "for i in range(20,0,-1):\n",
    "    print(i)"
   ]
  },
  {
   "cell_type": "markdown",
   "id": "419951c5-e37d-4d25-acc9-98923ba91520",
   "metadata": {},
   "source": [
    "3. Write a program to print even numbers from 1 to 10."
   ]
  },
  {
   "cell_type": "code",
   "execution_count": 80,
   "id": "53330f5f-0112-45a6-b86d-011ac06c5285",
   "metadata": {},
   "outputs": [
    {
     "name": "stdout",
     "output_type": "stream",
     "text": [
      "2\n",
      "4\n",
      "6\n",
      "8\n"
     ]
    }
   ],
   "source": [
    "for i in range(1,10):\n",
    "    if i%2==0:\n",
    "        print(i)"
   ]
  },
  {
   "cell_type": "markdown",
   "id": "fb59f140-d8a7-4ade-9f2a-f58e61f5e5b0",
   "metadata": {},
   "source": [
    "4. Write a program that prompts the user to enter a number n and prints all the\n",
    "numbers from 1 to n."
   ]
  },
  {
   "cell_type": "code",
   "execution_count": 87,
   "id": "592b3923-50d9-40b6-b5df-5f8f6d3dee43",
   "metadata": {},
   "outputs": [
    {
     "name": "stdin",
     "output_type": "stream",
     "text": [
      "Enter number to print to 11\n"
     ]
    },
    {
     "name": "stdout",
     "output_type": "stream",
     "text": [
      "1\n",
      "2\n",
      "3\n",
      "4\n",
      "5\n",
      "6\n",
      "7\n",
      "8\n",
      "9\n",
      "10\n"
     ]
    }
   ],
   "source": [
    "n = int(input(\"Enter number to print to\"))\n",
    "for i in range(1,n):\n",
    "    print(i)"
   ]
  },
  {
   "cell_type": "markdown",
   "id": "79165a87-fa3d-4e01-a2f3-45a9de8cc2d9",
   "metadata": {},
   "source": [
    "5. Write a program that prompts the user to enter a number n, and then prints all the\n",
    "odd numbers between 1 and n."
   ]
  },
  {
   "cell_type": "code",
   "execution_count": 89,
   "id": "6af21273-987e-4891-83e4-a89503271e96",
   "metadata": {},
   "outputs": [
    {
     "name": "stdin",
     "output_type": "stream",
     "text": [
      "Enter number to print to 11\n"
     ]
    },
    {
     "name": "stdout",
     "output_type": "stream",
     "text": [
      "1\n",
      "3\n",
      "5\n",
      "7\n",
      "9\n"
     ]
    }
   ],
   "source": [
    "n = int(input(\"Enter number to print to\"))\n",
    "for i in range(1,n):\n",
    "    if i%2!=0:\n",
    "        print(i)"
   ]
  },
  {
   "cell_type": "markdown",
   "id": "d6717dee-0237-45e9-9d66-b95efede7b52",
   "metadata": {},
   "source": [
    "6. Write a program that prints 'Happy Birthday!' five times on screen."
   ]
  },
  {
   "cell_type": "code",
   "execution_count": 90,
   "id": "d622ed92-d504-4d6e-bcef-1c75352820c3",
   "metadata": {},
   "outputs": [
    {
     "name": "stdout",
     "output_type": "stream",
     "text": [
      "Happy Birthday!\n",
      "Happy Birthday!\n",
      "Happy Birthday!\n",
      "Happy Birthday!\n",
      "Happy Birthday!\n"
     ]
    }
   ],
   "source": [
    "for i in range(1,6):\n",
    "    print(\"Happy Birthday!\")"
   ]
  },
  {
   "cell_type": "markdown",
   "id": "1a46d167-081f-4395-915a-98227412e53e",
   "metadata": {},
   "source": [
    "7. Write a program that takes a number n as input from the user and generates the first\n",
    "n terms of the series formed by squaring the natural numbers.\n",
    "Sample output\n",
    "Enter a number: 6\n",
    "The first 6 terms of the series are:\n",
    "1 4 9 16 25 36"
   ]
  },
  {
   "cell_type": "code",
   "execution_count": 99,
   "id": "45c6c1ff-51fc-40fc-bd30-834683d6fcc2",
   "metadata": {},
   "outputs": [
    {
     "name": "stdin",
     "output_type": "stream",
     "text": [
      "Enter number to print squares to 8\n"
     ]
    },
    {
     "name": "stdout",
     "output_type": "stream",
     "text": [
      "The first 8 digit squares are\n",
      "1 4 9 16 25 36 49 "
     ]
    }
   ],
   "source": [
    "n = int(input(\"Enter number to print squares to\"))\n",
    "print(f\"The first {n} digit squares are\")\n",
    "for i in range(1,n):\n",
    "    print(i**2, end=\" \")"
   ]
  },
  {
   "cell_type": "markdown",
   "id": "4c9e76fa-59e9-4da3-90be-763b3c3fa00f",
   "metadata": {},
   "source": [
    "8. Write a program that prompts the user to input a number and prints its multiplication table."
   ]
  },
  {
   "cell_type": "code",
   "execution_count": 107,
   "id": "0d8fef84-0593-466b-8132-1021535b5389",
   "metadata": {},
   "outputs": [
    {
     "name": "stdin",
     "output_type": "stream",
     "text": [
      "Enter number to print multiplication table 9\n"
     ]
    },
    {
     "name": "stdout",
     "output_type": "stream",
     "text": [
      "The table for 9 is\n",
      "9 X 1 = 9\n",
      "9 X 2 = 18\n",
      "9 X 3 = 27\n",
      "9 X 4 = 36\n",
      "9 X 5 = 45\n",
      "9 X 6 = 54\n",
      "9 X 7 = 63\n",
      "9 X 8 = 72\n",
      "9 X 9 = 81\n",
      "9 X 10 = 90\n"
     ]
    }
   ],
   "source": [
    "n = int(input(\"Enter number to print multiplication table\"))\n",
    "print(f\"The table for {n} is\")\n",
    "for i in range(1,11):\n",
    "        print(f\"{n} X {i} = {n*i}\")"
   ]
  },
  {
   "cell_type": "markdown",
   "id": "bc140e1c-a103-40df-80b7-315e644e00c0",
   "metadata": {},
   "source": [
    "9. Write a Python program to print the first 8 terms of an arithmetic progression starting\n",
    "with 3 and having a common difference of 4.\n",
    "The program should output the following sequence:\n",
    "3 7 11 15 19 23 27 31"
   ]
  },
  {
   "cell_type": "code",
   "execution_count": 119,
   "id": "44e5cd8a-b812-497d-8c1b-0f588f9f90ff",
   "metadata": {},
   "outputs": [
    {
     "name": "stdout",
     "output_type": "stream",
     "text": [
      "Arithmetic Progression is\n",
      "3 7 11 15 19 23 27 31 "
     ]
    }
   ],
   "source": [
    "print(\"Arithmetic Progression is\")    \n",
    "fir_term = 3\n",
    "com_diff = 4\n",
    "for i in range(8):\n",
    "    term = fir_term + i * com_diff\n",
    "    print(term, end=\" \")\n"
   ]
  },
  {
   "cell_type": "markdown",
   "id": "ee812e0e-0d7b-42d6-af08-3a1845b119c3",
   "metadata": {},
   "source": [
    "10. Write a Python program to print the first 6 terms of a geometric sequence starting\n",
    "with 2 and having a common ratio of 3.\n",
    "The program should output the following sequence:\n",
    "2 6 18 54 162 486"
   ]
  },
  {
   "cell_type": "code",
   "execution_count": 122,
   "id": "01f70be7-e658-44bc-a5dd-914b815617c7",
   "metadata": {},
   "outputs": [
    {
     "name": "stdout",
     "output_type": "stream",
     "text": [
      "Geometric Sequence is\n",
      "2 6 18 54 162 486 "
     ]
    }
   ],
   "source": [
    "print(\"Geometric Sequence is\")    \n",
    "fir_term = 2\n",
    "com_ratio = 3\n",
    "for i in range(6):\n",
    "    term = fir_term * (com_ratio ** i)\n",
    "    print(term, end=\" \")\n"
   ]
  },
  {
   "cell_type": "markdown",
   "id": "1033786f-bcd9-436c-a2c7-7431029b2e08",
   "metadata": {},
   "source": [
    "11. Write a program that asks the user for a positive integer value. The program should\n",
    "calculate the sum of all the integers from 1 up to the number entered. For example, if\n",
    "the user enters 20, the loop will find the sum of 1, 2, 3, 4, ... 20."
   ]
  },
  {
   "cell_type": "code",
   "execution_count": 126,
   "id": "9b51552a-ca68-473e-b919-441cf5b02399",
   "metadata": {},
   "outputs": [
    {
     "name": "stdin",
     "output_type": "stream",
     "text": [
      "Enter Positive Integer to print to 16\n"
     ]
    },
    {
     "name": "stdout",
     "output_type": "stream",
     "text": [
      "1\n",
      "2\n",
      "3\n",
      "4\n",
      "5\n",
      "6\n",
      "7\n",
      "8\n",
      "9\n",
      "10\n",
      "11\n",
      "12\n",
      "13\n",
      "14\n",
      "15\n"
     ]
    }
   ],
   "source": [
    "pos_int = int(input(\"Enter Positive Integer to print to\"))\n",
    "if pos_int<0:\n",
    "    print(\"Enter a positive integer\")\n",
    "else: \n",
    "    for i in range(1,pos_int):\n",
    "        print(i)"
   ]
  },
  {
   "cell_type": "markdown",
   "id": "9881ff59-bf84-4de5-a6f9-0db7be989956",
   "metadata": {},
   "source": [
    "12. write a program that takes a positive integer N as input and calculates the sum of\n",
    "the reciprocals of all numbers from 1 up to N. The program should display the final sum.\n",
    "Output of the program should be like:\n",
    "Enter a positive integer: 5\n",
    "The sum of reciprocals from 1 to 5 is: 2.28"
   ]
  },
  {
   "cell_type": "code",
   "execution_count": null,
   "id": "bfff81a9-5b27-4881-ae94-367bf7c5388b",
   "metadata": {},
   "outputs": [],
   "source": [
    "pos_int = int(input(\"Enter Positive Integer to print to\"))\n",
    "if pos_int<0:\n",
    "    print(\"Enter a positive integer\")\n",
    "else: \n",
    "    for i in range(1,pos_int):\n",
    "        "
   ]
  },
  {
   "cell_type": "markdown",
   "id": "57b38804-3db6-406a-9ba6-daeeb41b7b8b",
   "metadata": {},
   "source": [
    "13. Write a program that prompts the user to enter a number and repeats this process 5\n",
    "times. The program should accumulate the numbers entered and then display the final\n",
    "running total.\n",
    "Sample Output:\n",
    "Enter a number: 10\n",
    "Enter a number: 15\n",
    "Enter a number: 35\n",
    "Enter a number: 40\n",
    "Enter a number: 50\n",
    "The final running total is: 150"
   ]
  },
  {
   "cell_type": "code",
   "execution_count": 23,
   "id": "bb7d8b1d-48c8-4fcb-ac21-1109086ba0ee",
   "metadata": {},
   "outputs": [
    {
     "name": "stdin",
     "output_type": "stream",
     "text": [
      "Enter number 8\n",
      "Enter number 9\n",
      "Enter number 6\n",
      "Enter number 5\n",
      "Enter number 2\n"
     ]
    },
    {
     "name": "stdout",
     "output_type": "stream",
     "text": [
      "The final running total is: 30\n"
     ]
    }
   ],
   "source": [
    "sum = 0\n",
    "for i in range(5):\n",
    "    nums = int(input(\"Enter number\"))\n",
    "    sum+=nums\n",
    "print(f\"The final running total is:\", sum)"
   ]
  },
  {
   "cell_type": "markdown",
   "id": "bada7649-9cba-438c-96ea-1275fc8a9f28",
   "metadata": {},
   "source": [
    "14. Write a program that prompts the user to enter a positive integer and calculates its\n",
    "factorial. The factorial of a positive integer 'n' is denoted as 'n!' and is calculated by\n",
    "multiplying all the integers from 1 to 'n' together. For example, the factorial of 5\n",
    "(denoted as 5!) is calculated as 1 x 2 x 3 x 4 x 5.\n",
    "The program should display the factorial value if the input is a positive number, or\n",
    "display a message stating that the factorial does not exist for negative numbers.\n",
    "Additionally, for an input of zero, the program should output that the factorial of 0 is 1."
   ]
  },
  {
   "cell_type": "code",
   "execution_count": 107,
   "id": "8912123a-69ff-4c4d-a74b-2f05bb03f02b",
   "metadata": {},
   "outputs": [
    {
     "name": "stdin",
     "output_type": "stream",
     "text": [
      "Enter number for factorial 5\n"
     ]
    },
    {
     "name": "stdout",
     "output_type": "stream",
     "text": [
      "The factorial of 5 is: 120\n"
     ]
    }
   ],
   "source": [
    "n = int(input(\"Enter number for factorial\"))\n",
    "fact = 1\n",
    "if n==0:\n",
    "    print(f\"The factorial for {n} is {fact}\")\n",
    "elif n<0:\n",
    "    print(\"Factorial does not exist for negative numbers.\")\n",
    "else:\n",
    "    for i in range(1, n+1):\n",
    "        fact *= i\n",
    "    print(f\"The factorial of {n} is: {fact}\")"
   ]
  },
  {
   "cell_type": "markdown",
   "id": "45f3d3ef-31de-4c0b-b155-e4302527e711",
   "metadata": {},
   "source": [
    "15. Write a Python program that prompts the user to enter a base number and an\n",
    "exponent, and then calculates the power of the base to the exponent. The program\n",
    "should not use the exponentiation operator (**) or the math.pow() function. The\n",
    "program should handle both positive and negative exponents."
   ]
  },
  {
   "cell_type": "code",
   "execution_count": 5,
   "id": "6306371e-a9c7-45a0-970c-bdda2d27507c",
   "metadata": {},
   "outputs": [
    {
     "name": "stdin",
     "output_type": "stream",
     "text": [
      "Enter the base number:  2\n",
      "Enter the exponent:  3\n"
     ]
    },
    {
     "name": "stdout",
     "output_type": "stream",
     "text": [
      "2 to the power of 3 is: 8\n"
     ]
    }
   ],
   "source": [
    "base = int(input(\"Enter the base number: \"))\n",
    "exponent = int(input(\"Enter the exponent: \"))\n",
    "result = 1\n",
    "if exponent > 0:\n",
    "    for i in range(exponent):\n",
    "        result *= base\n",
    "print(f\"{base} to the power of {exponent} is: {result}\")\n"
   ]
  },
  {
   "cell_type": "markdown",
   "id": "3e612f8e-2d46-4423-844b-ff71e1a9df3e",
   "metadata": {},
   "source": [
    "# Strings Assignments"
   ]
  },
  {
   "cell_type": "markdown",
   "id": "237c7157-42a9-4e00-bdc3-836ee28c183b",
   "metadata": {},
   "source": [
    "1. Write a program that accepts a string from user. Your program should count and display number of\n",
    "vowels in that string."
   ]
  },
  {
   "cell_type": "code",
   "execution_count": 7,
   "id": "067c9c96-f98f-47eb-9250-bcc651edfbaf",
   "metadata": {},
   "outputs": [
    {
     "name": "stdin",
     "output_type": "stream",
     "text": [
      "Enter name:  Hashmi\n"
     ]
    },
    {
     "name": "stdout",
     "output_type": "stream",
     "text": [
      "Number of vowels in the string: 2\n"
     ]
    }
   ],
   "source": [
    "name = input(\"Enter name: \")\n",
    "vowels = \"aeiouAEIOU\"\n",
    "vowel_count = 0\n",
    "for char in name:\n",
    "    if char in vowels:\n",
    "        vowel_count += 1\n",
    "\n",
    "print(\"Number of vowels in the string:\", vowel_count)"
   ]
  },
  {
   "cell_type": "markdown",
   "id": "f9a30b90-5ba5-4ab2-9c9b-7d29d250e597",
   "metadata": {},
   "source": [
    "2. Write a program that reads a string from keyboard and display:\n",
    "* The number of uppercase letters in the string\n",
    "* The number of lowercase letters in the string\n",
    "* The number of digits in the string\n",
    "* The number of whitespace characters in the string"
   ]
  },
  {
   "cell_type": "code",
   "execution_count": 74,
   "id": "e04c3c2d-1785-409a-95bd-a455b00d48a0",
   "metadata": {},
   "outputs": [
    {
     "name": "stdin",
     "output_type": "stream",
     "text": [
      "Enter a string:  klko\n"
     ]
    },
    {
     "name": "stdout",
     "output_type": "stream",
     "text": [
      "Uppercase letters: 0\n",
      "Lowercase letters: 4\n",
      "Digits: 0\n",
      "Whitespace characters: 0\n"
     ]
    }
   ],
   "source": [
    "str = input(\"Enter a string: \")\n",
    "upper_count = 0\n",
    "lower_count = 0\n",
    "digit_count = 0\n",
    "whspace_count = 0\n",
    "for char in str:\n",
    "    if char.isupper():\n",
    "        upper_count += 1\n",
    "    elif char.islower():\n",
    "        lower_count += 1\n",
    "    elif char.isdigit():\n",
    "        digit_count += 1\n",
    "    elif char.isspace():\n",
    "        whspace_count += 1\n",
    "\n",
    "print(\"Uppercase letters:\", upper_count)\n",
    "print(\"Lowercase letters:\", lower_count)\n",
    "print(\"Digits:\", digit_count)\n",
    "print(\"Whitespace characters:\", whspace_count)"
   ]
  },
  {
   "cell_type": "markdown",
   "id": "7a443eb6-de6c-48b0-9b20-1f57bf9665a9",
   "metadata": {},
   "source": [
    "3. Write a Python program that accepts a string from user. Your program should create and display a\n",
    "new string where the first and last characters have been exchanged.\n",
    "For example if the user enters the string 'HELLO' then new string would be 'OELLH'"
   ]
  },
  {
   "cell_type": "code",
   "execution_count": 44,
   "id": "18ce8ed9-3b5f-42dc-ba22-aa9e7371a0cb",
   "metadata": {},
   "outputs": [
    {
     "name": "stdout",
     "output_type": "stream",
     "text": [
      "New string: !ey ThereH\n"
     ]
    }
   ],
   "source": [
    "str = \"Hey There!\"\n",
    "if len(str) > 1:\n",
    "    new_str = str[-1] + str[1:-1] + str[0]\n",
    "else:\n",
    "    new_str = str\n",
    "print(\"New string:\", new_str)\n"
   ]
  },
  {
   "cell_type": "markdown",
   "id": "68967df1-3e39-41d9-b130-158e694d0512",
   "metadata": {},
   "source": [
    "4. Write a Python program that accepts a string from user. Your program should create a new string in\n",
    "reverse of first string and display it.\n",
    "For example if the user enters the string 'EXAM' then new string would be 'MAXE'"
   ]
  },
  {
   "cell_type": "code",
   "execution_count": 25,
   "id": "8df4e862-b71a-4042-9cf0-348a9e70e947",
   "metadata": {},
   "outputs": [
    {
     "name": "stdin",
     "output_type": "stream",
     "text": [
      "Enter string:  EXAM\n"
     ]
    },
    {
     "name": "stdout",
     "output_type": "stream",
     "text": [
      "MAXE\n"
     ]
    }
   ],
   "source": [
    "str = input(\"Enter string: \")\n",
    "rev_str = str[::-1]\n",
    "print(rev_str)"
   ]
  },
  {
   "cell_type": "markdown",
   "id": "b93832f6-311a-4010-a439-d57a746b2473",
   "metadata": {},
   "source": [
    "5. Write a Python program that accepts a string from user. Your program should create a new string by\n",
    "shifting one position to left.\n",
    "For example if the user enters the string 'examination 2021' then new string would be 'xamination\n",
    "2021e'"
   ]
  },
  {
   "cell_type": "code",
   "execution_count": 43,
   "id": "0892c238-7826-48b7-8af6-c4348ad951fa",
   "metadata": {},
   "outputs": [
    {
     "name": "stdout",
     "output_type": "stream",
     "text": [
      "New string: ata ScienceD\n"
     ]
    }
   ],
   "source": [
    "str = \"Data Science\"\n",
    "if len(str) > 1:\n",
    "    new_str = str[1:] + str[0]\n",
    "else:\n",
    "    new_str = str\n",
    "print(\"New string:\", new_str)\n"
   ]
  },
  {
   "cell_type": "markdown",
   "id": "c7d0ba3a-481c-479d-a602-77a75deb467c",
   "metadata": {},
   "source": [
    "6. Write a program that asks the user to input his name and print its initials. Assuming that the user\n",
    "always types first name, middle name and last name and does not include any unnecessary spaces.\n",
    "For example, if the user enters Ajay Kumar Garg the program should display A. K. G.\n",
    "Note:Don't use split() method"
   ]
  },
  {
   "cell_type": "code",
   "execution_count": 51,
   "id": "e6bca044-d7ca-441e-b31b-2cef8d88e802",
   "metadata": {},
   "outputs": [
    {
     "name": "stdin",
     "output_type": "stream",
     "text": [
      "Enter your full name (first name, middle name, last name):  Ahmed Ali Ansari\n"
     ]
    },
    {
     "name": "stdout",
     "output_type": "stream",
     "text": [
      "Initials: A. A. A.\n"
     ]
    }
   ],
   "source": [
    "user_name = input(\"Enter your full name (first name, middle name, last name): \")\n",
    "initials = \"\"\n",
    "is_new_word = True\n",
    "for char in user_name:\n",
    "    if is_new_word and char.isalpha():\n",
    "        initials += char.upper() + \". \"\n",
    "        is_new_word = False\n",
    "    elif char == ' ':\n",
    "        is_new_word = True\n",
    "\n",
    "initials = initials.strip()\n",
    "print(\"Initials:\", initials)"
   ]
  },
  {
   "cell_type": "markdown",
   "id": "13912434-958e-449d-bcf6-400fabbb4de7",
   "metadata": {},
   "source": [
    "7. A palindrome is a string that reads the same backward as forward. For example, the words dad,\n",
    "madam and radar are all palindromes. Write a programs that determines whether the string is a\n",
    "palindrome.\n",
    "Note: do not use reverse() method"
   ]
  },
  {
   "cell_type": "code",
   "execution_count": 60,
   "id": "a72f4022-7bdc-4d34-a083-47714e279bbb",
   "metadata": {},
   "outputs": [
    {
     "name": "stdin",
     "output_type": "stream",
     "text": [
      "Enter a string:  rome\n"
     ]
    },
    {
     "name": "stdout",
     "output_type": "stream",
     "text": [
      "The string is a palindrome.\n"
     ]
    }
   ],
   "source": [
    "str = input(\"Enter a string: \")\n",
    "cleaned_string = ''.join(char.lower() for char in str if char.isalnum())\n",
    "if cleaned_string == cleaned_string[::-1]:\n",
    "    print(\"The string is a palindrome.\")\n",
    "else:\n",
    "    print(\"The string is not a palindrome.\")\n"
   ]
  },
  {
   "cell_type": "markdown",
   "id": "0ccf6ef6-8d11-4385-8a52-d41585e72a06",
   "metadata": {},
   "source": [
    "8. Write a program that display following output:\n",
    "SHIFT\n",
    "HIFTS\n",
    "IFTSH\n",
    "FTSHI\n",
    "TSHIF\n",
    "SHIFT"
   ]
  },
  {
   "cell_type": "code",
   "execution_count": 62,
   "id": "df7ca477-a1fb-4767-ba71-4416259e5b5c",
   "metadata": {},
   "outputs": [
    {
     "name": "stdout",
     "output_type": "stream",
     "text": [
      "SHIFT\n",
      "HIFTS\n",
      "IFTSH\n",
      "FTSHI\n",
      "TSHIF\n",
      "SHIFT\n"
     ]
    }
   ],
   "source": [
    "s = \"SHIFT\"\n",
    "n = len(s)\n",
    "for i in range(n + 1):\n",
    "    rotated_string = s[i:] + s[:i]\n",
    "    print(rotated_string)"
   ]
  },
  {
   "cell_type": "markdown",
   "id": "9472aaf4-062a-4f71-8fa4-fa2cff86293b",
   "metadata": {},
   "source": [
    "9. Write a program in python that accepts a string to setup a passwords. Your entered password must\n",
    "meet the following requirements:\n",
    "The password must be at least eight characters long.\n",
    "It must contain at least one uppercase letter.\n",
    "It must contain at least one lowercase letter.\n",
    "It must contain at least one numeric digit.\n",
    "Your program should should perform this validation."
   ]
  },
  {
   "cell_type": "code",
   "execution_count": 5,
   "id": "13b39f68-c70d-4cdc-9e5d-a5819fa258cd",
   "metadata": {},
   "outputs": [
    {
     "name": "stdin",
     "output_type": "stream",
     "text": [
      "Enter a password:  Dfgjeifjei90\n"
     ]
    },
    {
     "name": "stdout",
     "output_type": "stream",
     "text": [
      "password is Dfgjeifjei90\n"
     ]
    }
   ],
   "source": [
    "password = input(\"Enter a password: \")\n",
    "is_upper = False\n",
    "is_lower = False\n",
    "is_digit = False\n",
    "\n",
    "if len(password) >= 8:\n",
    "    for char in password:\n",
    "        if char.isupper():\n",
    "            is_upper = True\n",
    "        if char.islower():\n",
    "            is_lower = True\n",
    "        if char.isdigit():\n",
    "            is_digit = True\n",
    "    \n",
    "    if not is_upper:\n",
    "        print(\"Must Contain 1 uppercase character\")\n",
    "    if not is_lower:\n",
    "        print(\"Must Contain lowercase characters\")\n",
    "    if not is_digit:\n",
    "        print(\"Must Contain a digit\")\n",
    "else:\n",
    "    print(\"Password should be 8 characters\")\n",
    "\n",
    "print(f\"password is {password}\")\n"
   ]
  }
 ],
 "metadata": {
  "kernelspec": {
   "display_name": "Python 3 (ipykernel)",
   "language": "python",
   "name": "python3"
  },
  "language_info": {
   "codemirror_mode": {
    "name": "ipython",
    "version": 3
   },
   "file_extension": ".py",
   "mimetype": "text/x-python",
   "name": "python",
   "nbconvert_exporter": "python",
   "pygments_lexer": "ipython3",
   "version": "3.12.5"
  }
 },
 "nbformat": 4,
 "nbformat_minor": 5
}
